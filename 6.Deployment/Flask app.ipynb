{
 "cells": [
  {
   "cell_type": "code",
   "execution_count": 1,
   "id": "bff412cb-671c-4b6d-94ac-767c551e250f",
   "metadata": {
    "scrolled": true
   },
   "outputs": [
    {
     "name": "stdout",
     "output_type": "stream",
     "text": [
      " * Serving Flask app '__main__'\n",
      " * Debug mode: on\n"
     ]
    },
    {
     "name": "stderr",
     "output_type": "stream",
     "text": [
      "WARNING: This is a development server. Do not use it in a production deployment. Use a production WSGI server instead.\n",
      " * Running on http://127.0.0.1:5000\n",
      "Press CTRL+C to quit\n",
      " * Restarting with watchdog (windowsapi)\n"
     ]
    },
    {
     "ename": "SystemExit",
     "evalue": "1",
     "output_type": "error",
     "traceback": [
      "An exception has occurred, use %tb to see the full traceback.\n",
      "\u001b[1;31mSystemExit\u001b[0m\u001b[1;31m:\u001b[0m 1\n"
     ]
    },
    {
     "name": "stderr",
     "output_type": "stream",
     "text": [
      "C:\\Users\\Gokul\\anaconda3\\Lib\\site-packages\\IPython\\core\\interactiveshell.py:3534: UserWarning: To exit: use 'exit', 'quit', or Ctrl-D.\n",
      "  warn(\"To exit: use 'exit', 'quit', or Ctrl-D.\", stacklevel=1)\n"
     ]
    }
   ],
   "source": [
    "from flask import Flask, request\n",
    "import pandas as pd \n",
    "import numpy as np\n",
    "import pickle\n",
    "\n",
    "# create the app\n",
    "app = Flask(__name__)  \n",
    "\n",
    "# load the trained model (pickle file)\n",
    "pickle_in = open('classifier.pkl', 'rb')\n",
    "classifier = pickle.load(pickle_in)\n",
    "\n",
    "\n",
    "\n",
    "# welcome message \n",
    "@app.route('/')\n",
    "def welcome():\n",
    "    return \"Welcome All\"\n",
    "\n",
    "\n",
    "\n",
    "# predicting the output for the given input \n",
    "@app.route('/predict')\n",
    "def predict_note_authentication():\n",
    "    variance = request.args.get('variance')\n",
    "    skewness = request.args.get('skewness')\n",
    "    curtosis = request.args.get('curtosis')\n",
    "    entropy = request.args.get('entropy')\n",
    "    prediction = classifier.predict([[variance, skewness, curtosis, entropy]])\n",
    "    return \"The predicted value is\" + str(prediction)\n",
    "\n",
    "\n",
    "# predicting the output of a test file\n",
    "# POST method - used to send HTML form data to the server \n",
    "@app.route('/predict_file', methods = [\"POST\"])\n",
    "def predict_note_file():\n",
    "    df_test = pd.read_csv(request.file.get(\"file\"))\n",
    "    prediction = classifier.predict(df_test)\n",
    "    return \"The predicted value for the test file is \" + str(list(prediction))\n",
    "\n",
    "\n",
    "if __name__ == '__main__':\n",
    "    app.run(debug=True)\n"
   ]
  },
  {
   "cell_type": "markdown",
   "id": "9f1349a6-ce10-491a-8ff4-cd9645333364",
   "metadata": {},
   "source": [
    "## Browser\n",
    "- Copy and paste \"http://127.0.0.1:5000\" on search tab, you will get \"Welcome All\" message.\n",
    "- Then add <font color=lime>\"/predict?variance=2&skewness=3&curtosis=2&entropy=1\" </font> in the link you copy pasted. This time you will get the output for the input viz variance = 2, skewness = 3, curtosis = 2, entropy = 1.\n",
    "\n",
    "## Postman\n",
    "- You should open the Postman app only after executing the code or else the code will not get executed.\n",
    "- Copy and paste \"http://127.0.0.1:5000\" on the app, you will get \"Welcome All\" message.  \n",
    "**Predicting the output from the given input**  \n",
    "- Then add <font color=lime>\"/predict?variance=2&skewness=3&curtosis=2&entropy=1\" </font> in the link you copy pasted. This time you will get the output for the input viz variance = 2, skewness = 3, curtosis = 2, entropy = 1. [You can also do this without copy pasting by mannually entering the variables name]  \n",
    "**Predicting the output from a test file**    \n",
    "- Use 'POST' method and add <font color=lime>\"/predict_file\"</font>, upload the file and you'll get the output.  \n"
   ]
  },
  {
   "cell_type": "code",
   "execution_count": null,
   "id": "72592715-d37b-4621-960d-81d725135f1f",
   "metadata": {},
   "outputs": [],
   "source": []
  }
 ],
 "metadata": {
  "kernelspec": {
   "display_name": "Python 3 (ipykernel)",
   "language": "python",
   "name": "python3"
  },
  "language_info": {
   "codemirror_mode": {
    "name": "ipython",
    "version": 3
   },
   "file_extension": ".py",
   "mimetype": "text/x-python",
   "name": "python",
   "nbconvert_exporter": "python",
   "pygments_lexer": "ipython3",
   "version": "3.11.5"
  }
 },
 "nbformat": 4,
 "nbformat_minor": 5
}
