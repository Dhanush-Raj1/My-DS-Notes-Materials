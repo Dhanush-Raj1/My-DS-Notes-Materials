{
 "cells": [
  {
   "cell_type": "code",
   "execution_count": 1,
   "id": "9769bd80-d285-4650-b5a1-def71da65247",
   "metadata": {},
   "outputs": [],
   "source": [
    "import numpy as np\n",
    "import pandas as pd\n",
    "import matplotlib.pyplot as plt\n",
    "import seaborn as sns\n",
    "import tensorflow as tf"
   ]
  },
  {
   "cell_type": "code",
   "execution_count": 2,
   "id": "3fcd6478-3b2a-409a-9cf2-fb238298a690",
   "metadata": {},
   "outputs": [
    {
     "data": {
      "text/html": [
       "<div>\n",
       "<style scoped>\n",
       "    .dataframe tbody tr th:only-of-type {\n",
       "        vertical-align: middle;\n",
       "    }\n",
       "\n",
       "    .dataframe tbody tr th {\n",
       "        vertical-align: top;\n",
       "    }\n",
       "\n",
       "    .dataframe thead th {\n",
       "        text-align: right;\n",
       "    }\n",
       "</style>\n",
       "<table border=\"1\" class=\"dataframe\">\n",
       "  <thead>\n",
       "    <tr style=\"text-align: right;\">\n",
       "      <th></th>\n",
       "      <th>RowNumber</th>\n",
       "      <th>CustomerId</th>\n",
       "      <th>Surname</th>\n",
       "      <th>CreditScore</th>\n",
       "      <th>Geography</th>\n",
       "      <th>Gender</th>\n",
       "      <th>Age</th>\n",
       "      <th>Tenure</th>\n",
       "      <th>Balance</th>\n",
       "      <th>NumOfProducts</th>\n",
       "      <th>HasCrCard</th>\n",
       "      <th>IsActiveMember</th>\n",
       "      <th>EstimatedSalary</th>\n",
       "      <th>Exited</th>\n",
       "    </tr>\n",
       "  </thead>\n",
       "  <tbody>\n",
       "    <tr>\n",
       "      <th>0</th>\n",
       "      <td>1</td>\n",
       "      <td>15634602</td>\n",
       "      <td>Hargrave</td>\n",
       "      <td>619</td>\n",
       "      <td>France</td>\n",
       "      <td>Female</td>\n",
       "      <td>42</td>\n",
       "      <td>2</td>\n",
       "      <td>0.00</td>\n",
       "      <td>1</td>\n",
       "      <td>1</td>\n",
       "      <td>1</td>\n",
       "      <td>101348.88</td>\n",
       "      <td>1</td>\n",
       "    </tr>\n",
       "    <tr>\n",
       "      <th>1</th>\n",
       "      <td>2</td>\n",
       "      <td>15647311</td>\n",
       "      <td>Hill</td>\n",
       "      <td>608</td>\n",
       "      <td>Spain</td>\n",
       "      <td>Female</td>\n",
       "      <td>41</td>\n",
       "      <td>1</td>\n",
       "      <td>83807.86</td>\n",
       "      <td>1</td>\n",
       "      <td>0</td>\n",
       "      <td>1</td>\n",
       "      <td>112542.58</td>\n",
       "      <td>0</td>\n",
       "    </tr>\n",
       "    <tr>\n",
       "      <th>2</th>\n",
       "      <td>3</td>\n",
       "      <td>15619304</td>\n",
       "      <td>Onio</td>\n",
       "      <td>502</td>\n",
       "      <td>France</td>\n",
       "      <td>Female</td>\n",
       "      <td>42</td>\n",
       "      <td>8</td>\n",
       "      <td>159660.80</td>\n",
       "      <td>3</td>\n",
       "      <td>1</td>\n",
       "      <td>0</td>\n",
       "      <td>113931.57</td>\n",
       "      <td>1</td>\n",
       "    </tr>\n",
       "    <tr>\n",
       "      <th>3</th>\n",
       "      <td>4</td>\n",
       "      <td>15701354</td>\n",
       "      <td>Boni</td>\n",
       "      <td>699</td>\n",
       "      <td>France</td>\n",
       "      <td>Female</td>\n",
       "      <td>39</td>\n",
       "      <td>1</td>\n",
       "      <td>0.00</td>\n",
       "      <td>2</td>\n",
       "      <td>0</td>\n",
       "      <td>0</td>\n",
       "      <td>93826.63</td>\n",
       "      <td>0</td>\n",
       "    </tr>\n",
       "    <tr>\n",
       "      <th>4</th>\n",
       "      <td>5</td>\n",
       "      <td>15737888</td>\n",
       "      <td>Mitchell</td>\n",
       "      <td>850</td>\n",
       "      <td>Spain</td>\n",
       "      <td>Female</td>\n",
       "      <td>43</td>\n",
       "      <td>2</td>\n",
       "      <td>125510.82</td>\n",
       "      <td>1</td>\n",
       "      <td>1</td>\n",
       "      <td>1</td>\n",
       "      <td>79084.10</td>\n",
       "      <td>0</td>\n",
       "    </tr>\n",
       "  </tbody>\n",
       "</table>\n",
       "</div>"
      ],
      "text/plain": [
       "   RowNumber  CustomerId   Surname  CreditScore Geography  Gender  Age  \\\n",
       "0          1    15634602  Hargrave          619    France  Female   42   \n",
       "1          2    15647311      Hill          608     Spain  Female   41   \n",
       "2          3    15619304      Onio          502    France  Female   42   \n",
       "3          4    15701354      Boni          699    France  Female   39   \n",
       "4          5    15737888  Mitchell          850     Spain  Female   43   \n",
       "\n",
       "   Tenure    Balance  NumOfProducts  HasCrCard  IsActiveMember  \\\n",
       "0       2       0.00              1          1               1   \n",
       "1       1   83807.86              1          0               1   \n",
       "2       8  159660.80              3          1               0   \n",
       "3       1       0.00              2          0               0   \n",
       "4       2  125510.82              1          1               1   \n",
       "\n",
       "   EstimatedSalary  Exited  \n",
       "0        101348.88       1  \n",
       "1        112542.58       0  \n",
       "2        113931.57       1  \n",
       "3         93826.63       0  \n",
       "4         79084.10       0  "
      ]
     },
     "execution_count": 2,
     "metadata": {},
     "output_type": "execute_result"
    }
   ],
   "source": [
    "# importing the dataset\n",
    "\n",
    "data = pd.read_csv(r'F:\\Data Science\\Datasets\\Churn_Modelling.csv')\n",
    "data.head()"
   ]
  },
  {
   "cell_type": "code",
   "execution_count": 3,
   "id": "7a4d8a4e-b223-4aaa-a0ef-9810b5c8d08a",
   "metadata": {},
   "outputs": [
    {
     "data": {
      "text/plain": [
       "(10000, 14)"
      ]
     },
     "execution_count": 3,
     "metadata": {},
     "output_type": "execute_result"
    }
   ],
   "source": [
    "data.shape"
   ]
  },
  {
   "cell_type": "code",
   "execution_count": 4,
   "id": "c2336e4e-c6a4-483b-aad5-4bb4ab522577",
   "metadata": {},
   "outputs": [
    {
     "name": "stdout",
     "output_type": "stream",
     "text": [
      "<class 'pandas.core.frame.DataFrame'>\n",
      "RangeIndex: 10000 entries, 0 to 9999\n",
      "Data columns (total 14 columns):\n",
      " #   Column           Non-Null Count  Dtype  \n",
      "---  ------           --------------  -----  \n",
      " 0   RowNumber        10000 non-null  int64  \n",
      " 1   CustomerId       10000 non-null  int64  \n",
      " 2   Surname          10000 non-null  object \n",
      " 3   CreditScore      10000 non-null  int64  \n",
      " 4   Geography        10000 non-null  object \n",
      " 5   Gender           10000 non-null  object \n",
      " 6   Age              10000 non-null  int64  \n",
      " 7   Tenure           10000 non-null  int64  \n",
      " 8   Balance          10000 non-null  float64\n",
      " 9   NumOfProducts    10000 non-null  int64  \n",
      " 10  HasCrCard        10000 non-null  int64  \n",
      " 11  IsActiveMember   10000 non-null  int64  \n",
      " 12  EstimatedSalary  10000 non-null  float64\n",
      " 13  Exited           10000 non-null  int64  \n",
      "dtypes: float64(2), int64(9), object(3)\n",
      "memory usage: 1.1+ MB\n"
     ]
    }
   ],
   "source": [
    "data.info()"
   ]
  },
  {
   "cell_type": "markdown",
   "id": "00f7047a-3856-4358-bed2-b5bde82737f2",
   "metadata": {},
   "source": [
    "## Independent and Dependent features"
   ]
  },
  {
   "cell_type": "code",
   "execution_count": 5,
   "id": "0664b04a-ed8d-445b-bbc5-b178454597d2",
   "metadata": {},
   "outputs": [],
   "source": [
    "# independent and dependent features \n",
    "\n",
    "x = data.iloc[:,3:13]\n",
    "y = data.iloc[:, 13]"
   ]
  },
  {
   "cell_type": "code",
   "execution_count": 6,
   "id": "c7e81746-0aba-4019-ab08-9591dabbbed0",
   "metadata": {},
   "outputs": [
    {
     "data": {
      "text/html": [
       "<div>\n",
       "<style scoped>\n",
       "    .dataframe tbody tr th:only-of-type {\n",
       "        vertical-align: middle;\n",
       "    }\n",
       "\n",
       "    .dataframe tbody tr th {\n",
       "        vertical-align: top;\n",
       "    }\n",
       "\n",
       "    .dataframe thead th {\n",
       "        text-align: right;\n",
       "    }\n",
       "</style>\n",
       "<table border=\"1\" class=\"dataframe\">\n",
       "  <thead>\n",
       "    <tr style=\"text-align: right;\">\n",
       "      <th></th>\n",
       "      <th>CreditScore</th>\n",
       "      <th>Geography</th>\n",
       "      <th>Gender</th>\n",
       "      <th>Age</th>\n",
       "      <th>Tenure</th>\n",
       "      <th>Balance</th>\n",
       "      <th>NumOfProducts</th>\n",
       "      <th>HasCrCard</th>\n",
       "      <th>IsActiveMember</th>\n",
       "      <th>EstimatedSalary</th>\n",
       "    </tr>\n",
       "  </thead>\n",
       "  <tbody>\n",
       "    <tr>\n",
       "      <th>0</th>\n",
       "      <td>619</td>\n",
       "      <td>France</td>\n",
       "      <td>Female</td>\n",
       "      <td>42</td>\n",
       "      <td>2</td>\n",
       "      <td>0.00</td>\n",
       "      <td>1</td>\n",
       "      <td>1</td>\n",
       "      <td>1</td>\n",
       "      <td>101348.88</td>\n",
       "    </tr>\n",
       "    <tr>\n",
       "      <th>1</th>\n",
       "      <td>608</td>\n",
       "      <td>Spain</td>\n",
       "      <td>Female</td>\n",
       "      <td>41</td>\n",
       "      <td>1</td>\n",
       "      <td>83807.86</td>\n",
       "      <td>1</td>\n",
       "      <td>0</td>\n",
       "      <td>1</td>\n",
       "      <td>112542.58</td>\n",
       "    </tr>\n",
       "    <tr>\n",
       "      <th>2</th>\n",
       "      <td>502</td>\n",
       "      <td>France</td>\n",
       "      <td>Female</td>\n",
       "      <td>42</td>\n",
       "      <td>8</td>\n",
       "      <td>159660.80</td>\n",
       "      <td>3</td>\n",
       "      <td>1</td>\n",
       "      <td>0</td>\n",
       "      <td>113931.57</td>\n",
       "    </tr>\n",
       "    <tr>\n",
       "      <th>3</th>\n",
       "      <td>699</td>\n",
       "      <td>France</td>\n",
       "      <td>Female</td>\n",
       "      <td>39</td>\n",
       "      <td>1</td>\n",
       "      <td>0.00</td>\n",
       "      <td>2</td>\n",
       "      <td>0</td>\n",
       "      <td>0</td>\n",
       "      <td>93826.63</td>\n",
       "    </tr>\n",
       "    <tr>\n",
       "      <th>4</th>\n",
       "      <td>850</td>\n",
       "      <td>Spain</td>\n",
       "      <td>Female</td>\n",
       "      <td>43</td>\n",
       "      <td>2</td>\n",
       "      <td>125510.82</td>\n",
       "      <td>1</td>\n",
       "      <td>1</td>\n",
       "      <td>1</td>\n",
       "      <td>79084.10</td>\n",
       "    </tr>\n",
       "  </tbody>\n",
       "</table>\n",
       "</div>"
      ],
      "text/plain": [
       "   CreditScore Geography  Gender  Age  Tenure    Balance  NumOfProducts  \\\n",
       "0          619    France  Female   42       2       0.00              1   \n",
       "1          608     Spain  Female   41       1   83807.86              1   \n",
       "2          502    France  Female   42       8  159660.80              3   \n",
       "3          699    France  Female   39       1       0.00              2   \n",
       "4          850     Spain  Female   43       2  125510.82              1   \n",
       "\n",
       "   HasCrCard  IsActiveMember  EstimatedSalary  \n",
       "0          1               1        101348.88  \n",
       "1          0               1        112542.58  \n",
       "2          1               0        113931.57  \n",
       "3          0               0         93826.63  \n",
       "4          1               1         79084.10  "
      ]
     },
     "execution_count": 6,
     "metadata": {},
     "output_type": "execute_result"
    }
   ],
   "source": [
    "x.head()"
   ]
  },
  {
   "cell_type": "code",
   "execution_count": 7,
   "id": "453a12d6-52e3-4c35-8f31-08e734934600",
   "metadata": {},
   "outputs": [
    {
     "data": {
      "text/plain": [
       "0    1\n",
       "1    0\n",
       "2    1\n",
       "3    0\n",
       "4    0\n",
       "Name: Exited, dtype: int64"
      ]
     },
     "execution_count": 7,
     "metadata": {},
     "output_type": "execute_result"
    }
   ],
   "source": [
    "y.head()"
   ]
  },
  {
   "cell_type": "markdown",
   "id": "dffd5073-a89b-4c51-b340-558babc8ae67",
   "metadata": {},
   "source": [
    "## Feature Engineering"
   ]
  },
  {
   "cell_type": "code",
   "execution_count": 8,
   "id": "7828a04d-d9d9-4db0-ba7f-9f0a1b6f22ca",
   "metadata": {},
   "outputs": [
    {
     "data": {
      "text/plain": [
       "count      10000\n",
       "unique         3\n",
       "top       France\n",
       "freq        5014\n",
       "Name: Geography, dtype: object"
      ]
     },
     "execution_count": 8,
     "metadata": {},
     "output_type": "execute_result"
    }
   ],
   "source": [
    "x.Geography.describe()"
   ]
  },
  {
   "cell_type": "code",
   "execution_count": 9,
   "id": "2395cf81-a843-4588-886c-e73f218fbf56",
   "metadata": {},
   "outputs": [],
   "source": [
    "# encoding categorical features\n",
    "\n",
    "geography = pd.get_dummies(x['Geography'], drop_first = True)\n",
    "gender = pd.get_dummies(x['Gender'], drop_first = True)"
   ]
  },
  {
   "cell_type": "code",
   "execution_count": 10,
   "id": "0eb2d8d7-4651-4a4a-8bd8-381069f7113a",
   "metadata": {},
   "outputs": [
    {
     "data": {
      "text/html": [
       "<div>\n",
       "<style scoped>\n",
       "    .dataframe tbody tr th:only-of-type {\n",
       "        vertical-align: middle;\n",
       "    }\n",
       "\n",
       "    .dataframe tbody tr th {\n",
       "        vertical-align: top;\n",
       "    }\n",
       "\n",
       "    .dataframe thead th {\n",
       "        text-align: right;\n",
       "    }\n",
       "</style>\n",
       "<table border=\"1\" class=\"dataframe\">\n",
       "  <thead>\n",
       "    <tr style=\"text-align: right;\">\n",
       "      <th></th>\n",
       "      <th>Germany</th>\n",
       "      <th>Spain</th>\n",
       "    </tr>\n",
       "  </thead>\n",
       "  <tbody>\n",
       "    <tr>\n",
       "      <th>0</th>\n",
       "      <td>0</td>\n",
       "      <td>0</td>\n",
       "    </tr>\n",
       "    <tr>\n",
       "      <th>1</th>\n",
       "      <td>0</td>\n",
       "      <td>1</td>\n",
       "    </tr>\n",
       "    <tr>\n",
       "      <th>2</th>\n",
       "      <td>0</td>\n",
       "      <td>0</td>\n",
       "    </tr>\n",
       "    <tr>\n",
       "      <th>3</th>\n",
       "      <td>0</td>\n",
       "      <td>0</td>\n",
       "    </tr>\n",
       "    <tr>\n",
       "      <th>4</th>\n",
       "      <td>0</td>\n",
       "      <td>1</td>\n",
       "    </tr>\n",
       "  </tbody>\n",
       "</table>\n",
       "</div>"
      ],
      "text/plain": [
       "   Germany  Spain\n",
       "0        0      0\n",
       "1        0      1\n",
       "2        0      0\n",
       "3        0      0\n",
       "4        0      1"
      ]
     },
     "execution_count": 10,
     "metadata": {},
     "output_type": "execute_result"
    }
   ],
   "source": [
    "geography.head()"
   ]
  },
  {
   "cell_type": "code",
   "execution_count": 11,
   "id": "21cac971-2933-438c-a76a-12f836276eda",
   "metadata": {},
   "outputs": [
    {
     "data": {
      "text/html": [
       "<div>\n",
       "<style scoped>\n",
       "    .dataframe tbody tr th:only-of-type {\n",
       "        vertical-align: middle;\n",
       "    }\n",
       "\n",
       "    .dataframe tbody tr th {\n",
       "        vertical-align: top;\n",
       "    }\n",
       "\n",
       "    .dataframe thead th {\n",
       "        text-align: right;\n",
       "    }\n",
       "</style>\n",
       "<table border=\"1\" class=\"dataframe\">\n",
       "  <thead>\n",
       "    <tr style=\"text-align: right;\">\n",
       "      <th></th>\n",
       "      <th>Male</th>\n",
       "    </tr>\n",
       "  </thead>\n",
       "  <tbody>\n",
       "    <tr>\n",
       "      <th>0</th>\n",
       "      <td>0</td>\n",
       "    </tr>\n",
       "    <tr>\n",
       "      <th>1</th>\n",
       "      <td>0</td>\n",
       "    </tr>\n",
       "    <tr>\n",
       "      <th>2</th>\n",
       "      <td>0</td>\n",
       "    </tr>\n",
       "    <tr>\n",
       "      <th>3</th>\n",
       "      <td>0</td>\n",
       "    </tr>\n",
       "    <tr>\n",
       "      <th>4</th>\n",
       "      <td>0</td>\n",
       "    </tr>\n",
       "  </tbody>\n",
       "</table>\n",
       "</div>"
      ],
      "text/plain": [
       "   Male\n",
       "0     0\n",
       "1     0\n",
       "2     0\n",
       "3     0\n",
       "4     0"
      ]
     },
     "execution_count": 11,
     "metadata": {},
     "output_type": "execute_result"
    }
   ],
   "source": [
    "gender.head()"
   ]
  },
  {
   "cell_type": "code",
   "execution_count": 12,
   "id": "f13609c2-64bd-4715-99f4-654a02ab65d7",
   "metadata": {},
   "outputs": [
    {
     "data": {
      "text/html": [
       "<div>\n",
       "<style scoped>\n",
       "    .dataframe tbody tr th:only-of-type {\n",
       "        vertical-align: middle;\n",
       "    }\n",
       "\n",
       "    .dataframe tbody tr th {\n",
       "        vertical-align: top;\n",
       "    }\n",
       "\n",
       "    .dataframe thead th {\n",
       "        text-align: right;\n",
       "    }\n",
       "</style>\n",
       "<table border=\"1\" class=\"dataframe\">\n",
       "  <thead>\n",
       "    <tr style=\"text-align: right;\">\n",
       "      <th></th>\n",
       "      <th>CreditScore</th>\n",
       "      <th>Age</th>\n",
       "      <th>Tenure</th>\n",
       "      <th>Balance</th>\n",
       "      <th>NumOfProducts</th>\n",
       "      <th>HasCrCard</th>\n",
       "      <th>IsActiveMember</th>\n",
       "      <th>EstimatedSalary</th>\n",
       "    </tr>\n",
       "  </thead>\n",
       "  <tbody>\n",
       "    <tr>\n",
       "      <th>0</th>\n",
       "      <td>619</td>\n",
       "      <td>42</td>\n",
       "      <td>2</td>\n",
       "      <td>0.00</td>\n",
       "      <td>1</td>\n",
       "      <td>1</td>\n",
       "      <td>1</td>\n",
       "      <td>101348.88</td>\n",
       "    </tr>\n",
       "    <tr>\n",
       "      <th>1</th>\n",
       "      <td>608</td>\n",
       "      <td>41</td>\n",
       "      <td>1</td>\n",
       "      <td>83807.86</td>\n",
       "      <td>1</td>\n",
       "      <td>0</td>\n",
       "      <td>1</td>\n",
       "      <td>112542.58</td>\n",
       "    </tr>\n",
       "    <tr>\n",
       "      <th>2</th>\n",
       "      <td>502</td>\n",
       "      <td>42</td>\n",
       "      <td>8</td>\n",
       "      <td>159660.80</td>\n",
       "      <td>3</td>\n",
       "      <td>1</td>\n",
       "      <td>0</td>\n",
       "      <td>113931.57</td>\n",
       "    </tr>\n",
       "    <tr>\n",
       "      <th>3</th>\n",
       "      <td>699</td>\n",
       "      <td>39</td>\n",
       "      <td>1</td>\n",
       "      <td>0.00</td>\n",
       "      <td>2</td>\n",
       "      <td>0</td>\n",
       "      <td>0</td>\n",
       "      <td>93826.63</td>\n",
       "    </tr>\n",
       "    <tr>\n",
       "      <th>4</th>\n",
       "      <td>850</td>\n",
       "      <td>43</td>\n",
       "      <td>2</td>\n",
       "      <td>125510.82</td>\n",
       "      <td>1</td>\n",
       "      <td>1</td>\n",
       "      <td>1</td>\n",
       "      <td>79084.10</td>\n",
       "    </tr>\n",
       "  </tbody>\n",
       "</table>\n",
       "</div>"
      ],
      "text/plain": [
       "   CreditScore  Age  Tenure    Balance  NumOfProducts  HasCrCard  \\\n",
       "0          619   42       2       0.00              1          1   \n",
       "1          608   41       1   83807.86              1          0   \n",
       "2          502   42       8  159660.80              3          1   \n",
       "3          699   39       1       0.00              2          0   \n",
       "4          850   43       2  125510.82              1          1   \n",
       "\n",
       "   IsActiveMember  EstimatedSalary  \n",
       "0               1        101348.88  \n",
       "1               1        112542.58  \n",
       "2               0        113931.57  \n",
       "3               0         93826.63  \n",
       "4               1         79084.10  "
      ]
     },
     "execution_count": 12,
     "metadata": {},
     "output_type": "execute_result"
    }
   ],
   "source": [
    "# removing categorical features\n",
    "\n",
    "x = x.drop(['Geography', 'Gender'], axis = 1)\n",
    "x.head()"
   ]
  },
  {
   "cell_type": "code",
   "execution_count": 13,
   "id": "7f2be21e-eb12-4cb2-906e-0fd8c81e7583",
   "metadata": {},
   "outputs": [],
   "source": [
    "# concatenating encoded features \n",
    "\n",
    "x = pd.concat([x, geography, gender], axis = 1)"
   ]
  },
  {
   "cell_type": "code",
   "execution_count": 14,
   "id": "41a3cb6e-d076-4861-9cf3-11817924e3de",
   "metadata": {},
   "outputs": [
    {
     "data": {
      "text/html": [
       "<div>\n",
       "<style scoped>\n",
       "    .dataframe tbody tr th:only-of-type {\n",
       "        vertical-align: middle;\n",
       "    }\n",
       "\n",
       "    .dataframe tbody tr th {\n",
       "        vertical-align: top;\n",
       "    }\n",
       "\n",
       "    .dataframe thead th {\n",
       "        text-align: right;\n",
       "    }\n",
       "</style>\n",
       "<table border=\"1\" class=\"dataframe\">\n",
       "  <thead>\n",
       "    <tr style=\"text-align: right;\">\n",
       "      <th></th>\n",
       "      <th>CreditScore</th>\n",
       "      <th>Age</th>\n",
       "      <th>Tenure</th>\n",
       "      <th>Balance</th>\n",
       "      <th>NumOfProducts</th>\n",
       "      <th>HasCrCard</th>\n",
       "      <th>IsActiveMember</th>\n",
       "      <th>EstimatedSalary</th>\n",
       "      <th>Germany</th>\n",
       "      <th>Spain</th>\n",
       "      <th>Male</th>\n",
       "    </tr>\n",
       "  </thead>\n",
       "  <tbody>\n",
       "    <tr>\n",
       "      <th>0</th>\n",
       "      <td>619</td>\n",
       "      <td>42</td>\n",
       "      <td>2</td>\n",
       "      <td>0.00</td>\n",
       "      <td>1</td>\n",
       "      <td>1</td>\n",
       "      <td>1</td>\n",
       "      <td>101348.88</td>\n",
       "      <td>0</td>\n",
       "      <td>0</td>\n",
       "      <td>0</td>\n",
       "    </tr>\n",
       "    <tr>\n",
       "      <th>1</th>\n",
       "      <td>608</td>\n",
       "      <td>41</td>\n",
       "      <td>1</td>\n",
       "      <td>83807.86</td>\n",
       "      <td>1</td>\n",
       "      <td>0</td>\n",
       "      <td>1</td>\n",
       "      <td>112542.58</td>\n",
       "      <td>0</td>\n",
       "      <td>1</td>\n",
       "      <td>0</td>\n",
       "    </tr>\n",
       "    <tr>\n",
       "      <th>2</th>\n",
       "      <td>502</td>\n",
       "      <td>42</td>\n",
       "      <td>8</td>\n",
       "      <td>159660.80</td>\n",
       "      <td>3</td>\n",
       "      <td>1</td>\n",
       "      <td>0</td>\n",
       "      <td>113931.57</td>\n",
       "      <td>0</td>\n",
       "      <td>0</td>\n",
       "      <td>0</td>\n",
       "    </tr>\n",
       "    <tr>\n",
       "      <th>3</th>\n",
       "      <td>699</td>\n",
       "      <td>39</td>\n",
       "      <td>1</td>\n",
       "      <td>0.00</td>\n",
       "      <td>2</td>\n",
       "      <td>0</td>\n",
       "      <td>0</td>\n",
       "      <td>93826.63</td>\n",
       "      <td>0</td>\n",
       "      <td>0</td>\n",
       "      <td>0</td>\n",
       "    </tr>\n",
       "    <tr>\n",
       "      <th>4</th>\n",
       "      <td>850</td>\n",
       "      <td>43</td>\n",
       "      <td>2</td>\n",
       "      <td>125510.82</td>\n",
       "      <td>1</td>\n",
       "      <td>1</td>\n",
       "      <td>1</td>\n",
       "      <td>79084.10</td>\n",
       "      <td>0</td>\n",
       "      <td>1</td>\n",
       "      <td>0</td>\n",
       "    </tr>\n",
       "  </tbody>\n",
       "</table>\n",
       "</div>"
      ],
      "text/plain": [
       "   CreditScore  Age  Tenure    Balance  NumOfProducts  HasCrCard  \\\n",
       "0          619   42       2       0.00              1          1   \n",
       "1          608   41       1   83807.86              1          0   \n",
       "2          502   42       8  159660.80              3          1   \n",
       "3          699   39       1       0.00              2          0   \n",
       "4          850   43       2  125510.82              1          1   \n",
       "\n",
       "   IsActiveMember  EstimatedSalary  Germany  Spain  Male  \n",
       "0               1        101348.88        0      0     0  \n",
       "1               1        112542.58        0      1     0  \n",
       "2               0        113931.57        0      0     0  \n",
       "3               0         93826.63        0      0     0  \n",
       "4               1         79084.10        0      1     0  "
      ]
     },
     "execution_count": 14,
     "metadata": {},
     "output_type": "execute_result"
    }
   ],
   "source": [
    "x.head()"
   ]
  },
  {
   "cell_type": "markdown",
   "id": "c83e7e19-a821-4914-b690-f1e2e6df2297",
   "metadata": {},
   "source": [
    "## Train, Test split"
   ]
  },
  {
   "cell_type": "code",
   "execution_count": 20,
   "id": "fbd4fd84-9468-4d07-8aab-b640dafb253f",
   "metadata": {},
   "outputs": [],
   "source": [
    "from sklearn.model_selection import train_test_split\n",
    "x_train, x_test, y_train, y_test = train_test_split(x, y, test_size=0.2, random_state=0)"
   ]
  },
  {
   "cell_type": "code",
   "execution_count": 22,
   "id": "ce117d92-0447-44ca-b4d8-099da5124d9c",
   "metadata": {},
   "outputs": [
    {
     "name": "stdout",
     "output_type": "stream",
     "text": [
      "(8000, 11) (2000, 11)\n",
      "(8000,) (2000,)\n"
     ]
    }
   ],
   "source": [
    "print(x_train.shape, x_test.shape)\n",
    "print(y_train.shape, y_test.shape)"
   ]
  },
  {
   "cell_type": "markdown",
   "id": "41750537-a8fa-4b2f-aa84-61fd99385e01",
   "metadata": {},
   "source": [
    "## Feature scaling"
   ]
  },
  {
   "cell_type": "code",
   "execution_count": 25,
   "id": "cd4286ac-190f-462f-90b0-92686e235227",
   "metadata": {},
   "outputs": [],
   "source": [
    "from sklearn.preprocessing import StandardScaler\n",
    "sc = StandardScaler()\n",
    "x_train = sc.fit_transform(x_train)\n",
    "x_test = sc.fit_transform(x_test)"
   ]
  },
  {
   "cell_type": "code",
   "execution_count": 26,
   "id": "04c791b2-1022-457b-8968-a00fb9e40915",
   "metadata": {},
   "outputs": [
    {
     "data": {
      "text/plain": [
       "array([[ 0.16958176, -0.46460796,  0.00666099, ..., -0.5698444 ,\n",
       "         1.74309049, -1.09168714],\n",
       "       [-2.30455945,  0.30102557, -1.37744033, ...,  1.75486502,\n",
       "        -0.57369368,  0.91601335],\n",
       "       [-1.19119591, -0.94312892, -1.031415  , ..., -0.5698444 ,\n",
       "        -0.57369368, -1.09168714],\n",
       "       ...,\n",
       "       [ 0.9015152 , -0.36890377,  0.00666099, ..., -0.5698444 ,\n",
       "        -0.57369368,  0.91601335],\n",
       "       [-0.62420521, -0.08179119,  1.39076231, ..., -0.5698444 ,\n",
       "         1.74309049, -1.09168714],\n",
       "       [-0.28401079,  0.87525072, -1.37744033, ...,  1.75486502,\n",
       "        -0.57369368, -1.09168714]])"
      ]
     },
     "execution_count": 26,
     "metadata": {},
     "output_type": "execute_result"
    }
   ],
   "source": [
    "x_train"
   ]
  },
  {
   "cell_type": "code",
   "execution_count": 27,
   "id": "f28fe6b6-d056-45b0-a2a6-c4a56acbcebc",
   "metadata": {},
   "outputs": [
    {
     "data": {
      "text/plain": [
       "array([[-0.56129438, -0.39401698,  0.9869706 , ...,  1.62776996,\n",
       "        -0.57427105, -1.11339196],\n",
       "       [-1.33847768,  0.07611425, -1.08432132, ..., -0.61433742,\n",
       "        -0.57427105, -1.11339196],\n",
       "       [ 0.58347561,  0.26416674,  0.9869706 , ..., -0.61433742,\n",
       "         1.74133801, -1.11339196],\n",
       "       ...,\n",
       "       [-0.76084144, -0.29999074, -1.42953664, ..., -0.61433742,\n",
       "         1.74133801,  0.8981563 ],\n",
       "       [-0.0046631 , -0.48804323, -0.39389068, ...,  1.62776996,\n",
       "        -0.57427105,  0.8981563 ],\n",
       "       [-0.81335383, -0.86414821,  0.9869706 , ...,  1.62776996,\n",
       "        -0.57427105,  0.8981563 ]])"
      ]
     },
     "execution_count": 27,
     "metadata": {},
     "output_type": "execute_result"
    }
   ],
   "source": [
    "x_test"
   ]
  },
  {
   "cell_type": "markdown",
   "id": "9cbab610-bcfb-4dab-9f43-fd2627fec675",
   "metadata": {},
   "source": [
    "## Creating ANN"
   ]
  },
  {
   "cell_type": "code",
   "execution_count": 28,
   "id": "435b2f1c-fd41-4415-ab89-25658d84abea",
   "metadata": {},
   "outputs": [],
   "source": [
    "from tensorflow.keras.models import Sequential\n",
    "from tensorflow.keras.layers import Dense\n",
    "from tensorflow.keras.layers import LeakyReLU, PReLU, ReLU, ELU\n",
    "from tensorflow.keras.layers import Dropout"
   ]
  },
  {
   "cell_type": "markdown",
   "id": "5f19d6b7-102c-4286-98a0-8ee8df113909",
   "metadata": {},
   "source": [
    "## Initializing ANN"
   ]
  },
  {
   "cell_type": "code",
   "execution_count": 29,
   "id": "431d2d75-d10c-4fb5-89a6-dc9ae9a7dbc9",
   "metadata": {},
   "outputs": [],
   "source": [
    "classifier = Sequential()"
   ]
  },
  {
   "cell_type": "markdown",
   "id": "c3fabcde-2c39-4fe1-8ec8-d16158d7444f",
   "metadata": {},
   "source": [
    "## Adding Input Layer\n",
    "Since there are 11 independent features we have to add 11 neurons in Input Layer"
   ]
  },
  {
   "cell_type": "code",
   "execution_count": 30,
   "id": "3466b065-e530-4cfd-9b95-615797f1dc5f",
   "metadata": {},
   "outputs": [],
   "source": [
    "classifier.add(Dense(units = 11, activation = 'relu'))"
   ]
  },
  {
   "cell_type": "markdown",
   "id": "2bf2fc52-d297-4b22-a797-695641c7093d",
   "metadata": {},
   "source": [
    "## Adding First Hidden Layer"
   ]
  },
  {
   "cell_type": "code",
   "execution_count": 31,
   "id": "1d8ad833-e3c0-48db-9bc5-03bd849bdd01",
   "metadata": {},
   "outputs": [],
   "source": [
    "classifier.add(Dense(units = 7, activation = 'relu'))\n",
    "\n",
    "## dropout layer for 1st hidden layer\n",
    "## classifier.add(Dropout(0.2))"
   ]
  },
  {
   "cell_type": "markdown",
   "id": "4be793b2-8a4b-41df-ad7c-7e6904fb5328",
   "metadata": {},
   "source": [
    "## Adding Second Hidden Layer"
   ]
  },
  {
   "cell_type": "code",
   "execution_count": 32,
   "id": "a210d41d-435f-4307-9b1d-ef16fe453399",
   "metadata": {},
   "outputs": [],
   "source": [
    "classifier.add(Dense(units = 6, activation = 'relu'))\n",
    "\n",
    "## dropout layer for 2nd hidden layer\n",
    "## classifier.add(Dropout(0.3))"
   ]
  },
  {
   "cell_type": "markdown",
   "id": "29dc5b20-4828-4b62-b4a4-c742292578a2",
   "metadata": {},
   "source": [
    "## Adding Output Layer"
   ]
  },
  {
   "cell_type": "code",
   "execution_count": 33,
   "id": "53e642f1-d34f-4fde-994a-e2940567e2a9",
   "metadata": {},
   "outputs": [],
   "source": [
    "classifier.add(Dense(1, activation = 'sigmoid'))"
   ]
  },
  {
   "cell_type": "markdown",
   "id": "84de4784-3cb3-4e8d-a294-9efeafdf3f07",
   "metadata": {},
   "source": [
    "## Training the NN"
   ]
  },
  {
   "cell_type": "code",
   "execution_count": 35,
   "id": "df4178f5-0079-490a-a4a2-e3ff69b3b6ff",
   "metadata": {},
   "outputs": [],
   "source": [
    "classifier.compile(optimizer = 'adam', loss = 'binary_crossentropy', metrics = ['accuracy'])"
   ]
  },
  {
   "cell_type": "markdown",
   "id": "de675868-ba3c-4380-8a72-44e91417fc70",
   "metadata": {},
   "source": [
    "The question over here is that where is the learning rate?    \n",
    "Well since we are using 'adam' optimizer, it has a default learning rate and therefore we don't specifically have to mention the LR.  \n",
    "But if we wanna change the LR use the below code.    \n",
    "  \n",
    "```python\n",
    "opt = tensorflow.keras.optimizers.Adam(learning_rate = 0.01)  \n",
    "classifier.compile(optimizer = opt)\n",
    "```"
   ]
  },
  {
   "cell_type": "code",
   "execution_count": 36,
   "id": "42bb653a-8735-42ed-833b-a3a253608ebd",
   "metadata": {},
   "outputs": [
    {
     "name": "stdout",
     "output_type": "stream",
     "text": [
      "Epoch 1/1000\n",
      "536/536 [==============================] - 1s 2ms/step - loss: 0.5332 - accuracy: 0.7421 - val_loss: 0.4566 - val_accuracy: 0.7967\n",
      "Epoch 2/1000\n",
      "536/536 [==============================] - 1s 1ms/step - loss: 0.4355 - accuracy: 0.8097 - val_loss: 0.4319 - val_accuracy: 0.8107\n",
      "Epoch 3/1000\n",
      "536/536 [==============================] - 1s 1ms/step - loss: 0.4093 - accuracy: 0.8255 - val_loss: 0.4090 - val_accuracy: 0.8217\n",
      "Epoch 4/1000\n",
      "536/536 [==============================] - 1s 1ms/step - loss: 0.3801 - accuracy: 0.8427 - val_loss: 0.3849 - val_accuracy: 0.8345\n",
      "Epoch 5/1000\n",
      "536/536 [==============================] - 1s 2ms/step - loss: 0.3603 - accuracy: 0.8518 - val_loss: 0.3738 - val_accuracy: 0.8402\n",
      "Epoch 6/1000\n",
      "536/536 [==============================] - 1s 2ms/step - loss: 0.3521 - accuracy: 0.8565 - val_loss: 0.3708 - val_accuracy: 0.8413\n",
      "Epoch 7/1000\n",
      "536/536 [==============================] - 1s 2ms/step - loss: 0.3469 - accuracy: 0.8578 - val_loss: 0.3650 - val_accuracy: 0.8463\n",
      "Epoch 8/1000\n",
      "536/536 [==============================] - 1s 2ms/step - loss: 0.3425 - accuracy: 0.8571 - val_loss: 0.3625 - val_accuracy: 0.8470\n",
      "Epoch 9/1000\n",
      "536/536 [==============================] - 1s 2ms/step - loss: 0.3398 - accuracy: 0.8595 - val_loss: 0.3617 - val_accuracy: 0.8470\n",
      "Epoch 10/1000\n",
      "536/536 [==============================] - 1s 2ms/step - loss: 0.3380 - accuracy: 0.8597 - val_loss: 0.3618 - val_accuracy: 0.8466\n",
      "Epoch 11/1000\n",
      "536/536 [==============================] - 1s 3ms/step - loss: 0.3354 - accuracy: 0.8612 - val_loss: 0.3586 - val_accuracy: 0.8497\n",
      "Epoch 12/1000\n",
      "536/536 [==============================] - 1s 2ms/step - loss: 0.3338 - accuracy: 0.8625 - val_loss: 0.3605 - val_accuracy: 0.8512\n",
      "Epoch 13/1000\n",
      "536/536 [==============================] - 1s 2ms/step - loss: 0.3327 - accuracy: 0.8638 - val_loss: 0.3587 - val_accuracy: 0.8527\n",
      "Epoch 14/1000\n",
      "536/536 [==============================] - 1s 2ms/step - loss: 0.3318 - accuracy: 0.8636 - val_loss: 0.3595 - val_accuracy: 0.8557\n",
      "Epoch 15/1000\n",
      "536/536 [==============================] - 1s 3ms/step - loss: 0.3303 - accuracy: 0.8645 - val_loss: 0.3569 - val_accuracy: 0.8557\n",
      "Epoch 16/1000\n",
      "536/536 [==============================] - 1s 2ms/step - loss: 0.3291 - accuracy: 0.8651 - val_loss: 0.3569 - val_accuracy: 0.8584\n",
      "Epoch 17/1000\n",
      "536/536 [==============================] - 1s 3ms/step - loss: 0.3285 - accuracy: 0.8632 - val_loss: 0.3576 - val_accuracy: 0.8554\n",
      "Epoch 18/1000\n",
      "536/536 [==============================] - 1s 3ms/step - loss: 0.3278 - accuracy: 0.8655 - val_loss: 0.3627 - val_accuracy: 0.8519\n",
      "Epoch 19/1000\n",
      "536/536 [==============================] - 1s 2ms/step - loss: 0.3266 - accuracy: 0.8658 - val_loss: 0.3576 - val_accuracy: 0.8569\n",
      "Epoch 20/1000\n",
      "536/536 [==============================] - 1s 3ms/step - loss: 0.3261 - accuracy: 0.8640 - val_loss: 0.3586 - val_accuracy: 0.8561\n",
      "Epoch 21/1000\n",
      "536/536 [==============================] - 1s 3ms/step - loss: 0.3260 - accuracy: 0.8651 - val_loss: 0.3587 - val_accuracy: 0.8557\n",
      "Epoch 22/1000\n",
      "536/536 [==============================] - 1s 3ms/step - loss: 0.3254 - accuracy: 0.8634 - val_loss: 0.3598 - val_accuracy: 0.8538\n",
      "Epoch 23/1000\n",
      "536/536 [==============================] - 2s 3ms/step - loss: 0.3248 - accuracy: 0.8643 - val_loss: 0.3586 - val_accuracy: 0.8554\n",
      "Epoch 24/1000\n",
      "536/536 [==============================] - 2s 3ms/step - loss: 0.3240 - accuracy: 0.8653 - val_loss: 0.3571 - val_accuracy: 0.8569\n",
      "Epoch 25/1000\n",
      "536/536 [==============================] - 2s 3ms/step - loss: 0.3221 - accuracy: 0.8658 - val_loss: 0.3667 - val_accuracy: 0.8523\n",
      "Epoch 26/1000\n",
      "536/536 [==============================] - 2s 3ms/step - loss: 0.3234 - accuracy: 0.8668 - val_loss: 0.3595 - val_accuracy: 0.8542\n",
      "Epoch 27/1000\n",
      "536/536 [==============================] - 1s 3ms/step - loss: 0.3229 - accuracy: 0.8662 - val_loss: 0.3579 - val_accuracy: 0.8569\n",
      "Epoch 28/1000\n",
      "536/536 [==============================] - 1s 3ms/step - loss: 0.3224 - accuracy: 0.8640 - val_loss: 0.3591 - val_accuracy: 0.8561\n",
      "Epoch 29/1000\n",
      "536/536 [==============================] - 2s 3ms/step - loss: 0.3220 - accuracy: 0.8664 - val_loss: 0.3567 - val_accuracy: 0.8591\n",
      "Epoch 30/1000\n",
      "536/536 [==============================] - 2s 3ms/step - loss: 0.3223 - accuracy: 0.8671 - val_loss: 0.3595 - val_accuracy: 0.8554\n",
      "Epoch 31/1000\n",
      "536/536 [==============================] - 2s 3ms/step - loss: 0.3209 - accuracy: 0.8647 - val_loss: 0.3593 - val_accuracy: 0.8557\n",
      "Epoch 32/1000\n",
      "536/536 [==============================] - 2s 3ms/step - loss: 0.3211 - accuracy: 0.8655 - val_loss: 0.3581 - val_accuracy: 0.8565\n",
      "Epoch 33/1000\n",
      "536/536 [==============================] - 2s 3ms/step - loss: 0.3205 - accuracy: 0.8673 - val_loss: 0.3571 - val_accuracy: 0.8569\n",
      "Epoch 34/1000\n",
      "536/536 [==============================] - 2s 3ms/step - loss: 0.3201 - accuracy: 0.8681 - val_loss: 0.3574 - val_accuracy: 0.8599\n",
      "Epoch 35/1000\n",
      "536/536 [==============================] - 2s 3ms/step - loss: 0.3199 - accuracy: 0.8651 - val_loss: 0.3587 - val_accuracy: 0.8573\n",
      "Epoch 36/1000\n",
      "536/536 [==============================] - 2s 3ms/step - loss: 0.3195 - accuracy: 0.8671 - val_loss: 0.3608 - val_accuracy: 0.8557\n",
      "Epoch 37/1000\n",
      "536/536 [==============================] - 1s 3ms/step - loss: 0.3189 - accuracy: 0.8666 - val_loss: 0.3587 - val_accuracy: 0.8580\n",
      "Epoch 38/1000\n",
      "536/536 [==============================] - 2s 3ms/step - loss: 0.3184 - accuracy: 0.8679 - val_loss: 0.3654 - val_accuracy: 0.8561\n",
      "Epoch 39/1000\n",
      "536/536 [==============================] - 2s 3ms/step - loss: 0.3193 - accuracy: 0.8683 - val_loss: 0.3668 - val_accuracy: 0.8523\n",
      "Epoch 40/1000\n",
      "536/536 [==============================] - 1s 3ms/step - loss: 0.3192 - accuracy: 0.8703 - val_loss: 0.3587 - val_accuracy: 0.8588\n",
      "Epoch 41/1000\n",
      "536/536 [==============================] - 2s 3ms/step - loss: 0.3179 - accuracy: 0.8688 - val_loss: 0.3611 - val_accuracy: 0.8584\n",
      "Epoch 42/1000\n",
      "536/536 [==============================] - 1s 3ms/step - loss: 0.3179 - accuracy: 0.8684 - val_loss: 0.3562 - val_accuracy: 0.8614\n",
      "Epoch 43/1000\n",
      "536/536 [==============================] - 2s 3ms/step - loss: 0.3176 - accuracy: 0.8701 - val_loss: 0.3577 - val_accuracy: 0.8580\n",
      "Epoch 44/1000\n",
      "536/536 [==============================] - 2s 3ms/step - loss: 0.3181 - accuracy: 0.8701 - val_loss: 0.3586 - val_accuracy: 0.8557\n",
      "Epoch 45/1000\n",
      "536/536 [==============================] - 1s 3ms/step - loss: 0.3178 - accuracy: 0.8699 - val_loss: 0.3592 - val_accuracy: 0.8565\n",
      "Epoch 46/1000\n",
      "536/536 [==============================] - 2s 3ms/step - loss: 0.3173 - accuracy: 0.8677 - val_loss: 0.3620 - val_accuracy: 0.8557\n",
      "Epoch 47/1000\n",
      "536/536 [==============================] - 1s 3ms/step - loss: 0.3172 - accuracy: 0.8658 - val_loss: 0.3618 - val_accuracy: 0.8546\n",
      "Epoch 48/1000\n",
      "536/536 [==============================] - 1s 3ms/step - loss: 0.3171 - accuracy: 0.8705 - val_loss: 0.3594 - val_accuracy: 0.8561\n",
      "Epoch 49/1000\n",
      "536/536 [==============================] - 1s 3ms/step - loss: 0.3170 - accuracy: 0.8692 - val_loss: 0.3597 - val_accuracy: 0.8557\n",
      "Epoch 50/1000\n",
      "536/536 [==============================] - 1s 3ms/step - loss: 0.3167 - accuracy: 0.8690 - val_loss: 0.3591 - val_accuracy: 0.8573\n",
      "Epoch 51/1000\n",
      "536/536 [==============================] - 1s 3ms/step - loss: 0.3168 - accuracy: 0.8699 - val_loss: 0.3626 - val_accuracy: 0.8535\n",
      "Epoch 52/1000\n",
      "536/536 [==============================] - 2s 3ms/step - loss: 0.3170 - accuracy: 0.8694 - val_loss: 0.3590 - val_accuracy: 0.8546\n",
      "Epoch 53/1000\n",
      "536/536 [==============================] - 1s 3ms/step - loss: 0.3168 - accuracy: 0.8688 - val_loss: 0.3586 - val_accuracy: 0.8557\n",
      "Epoch 54/1000\n",
      "536/536 [==============================] - 2s 3ms/step - loss: 0.3165 - accuracy: 0.8699 - val_loss: 0.3596 - val_accuracy: 0.8546\n",
      "Epoch 55/1000\n",
      "536/536 [==============================] - 1s 3ms/step - loss: 0.3161 - accuracy: 0.8692 - val_loss: 0.3636 - val_accuracy: 0.8546\n",
      "Epoch 56/1000\n",
      "536/536 [==============================] - 2s 3ms/step - loss: 0.3160 - accuracy: 0.8692 - val_loss: 0.3638 - val_accuracy: 0.8535\n",
      "Epoch 57/1000\n",
      "536/536 [==============================] - 2s 3ms/step - loss: 0.3156 - accuracy: 0.8688 - val_loss: 0.3637 - val_accuracy: 0.8550\n",
      "Epoch 58/1000\n",
      "536/536 [==============================] - 2s 3ms/step - loss: 0.3160 - accuracy: 0.8681 - val_loss: 0.3587 - val_accuracy: 0.8542\n",
      "Epoch 59/1000\n",
      "536/536 [==============================] - 2s 3ms/step - loss: 0.3154 - accuracy: 0.8683 - val_loss: 0.3633 - val_accuracy: 0.8546\n",
      "Epoch 60/1000\n",
      "536/536 [==============================] - 2s 3ms/step - loss: 0.3149 - accuracy: 0.8684 - val_loss: 0.3640 - val_accuracy: 0.8535\n",
      "Epoch 61/1000\n",
      "536/536 [==============================] - 1s 3ms/step - loss: 0.3143 - accuracy: 0.8699 - val_loss: 0.3639 - val_accuracy: 0.8550\n",
      "Epoch 62/1000\n",
      "536/536 [==============================] - 2s 3ms/step - loss: 0.3145 - accuracy: 0.8696 - val_loss: 0.3631 - val_accuracy: 0.8512\n",
      "Epoch 63/1000\n",
      "536/536 [==============================] - 1s 3ms/step - loss: 0.3142 - accuracy: 0.8696 - val_loss: 0.3632 - val_accuracy: 0.8535\n",
      "Epoch 64/1000\n",
      "536/536 [==============================] - 2s 3ms/step - loss: 0.3146 - accuracy: 0.8698 - val_loss: 0.3623 - val_accuracy: 0.8531\n",
      "Epoch 65/1000\n",
      "536/536 [==============================] - 1s 3ms/step - loss: 0.3150 - accuracy: 0.8677 - val_loss: 0.3620 - val_accuracy: 0.8554\n",
      "Epoch 66/1000\n",
      "536/536 [==============================] - 1s 3ms/step - loss: 0.3140 - accuracy: 0.8707 - val_loss: 0.3620 - val_accuracy: 0.8550\n",
      "Epoch 67/1000\n",
      "536/536 [==============================] - 2s 3ms/step - loss: 0.3136 - accuracy: 0.8684 - val_loss: 0.3633 - val_accuracy: 0.8557\n",
      "Epoch 68/1000\n",
      "536/536 [==============================] - 1s 3ms/step - loss: 0.3132 - accuracy: 0.8688 - val_loss: 0.3614 - val_accuracy: 0.8584\n",
      "Epoch 69/1000\n",
      "536/536 [==============================] - 2s 4ms/step - loss: 0.3146 - accuracy: 0.8707 - val_loss: 0.3606 - val_accuracy: 0.8576\n",
      "Epoch 70/1000\n",
      "536/536 [==============================] - 1s 3ms/step - loss: 0.3134 - accuracy: 0.8660 - val_loss: 0.3659 - val_accuracy: 0.8535\n",
      "Epoch 71/1000\n",
      "536/536 [==============================] - 1s 3ms/step - loss: 0.3130 - accuracy: 0.8705 - val_loss: 0.3607 - val_accuracy: 0.8569\n",
      "Epoch 72/1000\n",
      "536/536 [==============================] - 2s 3ms/step - loss: 0.3138 - accuracy: 0.8698 - val_loss: 0.3618 - val_accuracy: 0.8561\n",
      "Epoch 73/1000\n",
      "536/536 [==============================] - 2s 3ms/step - loss: 0.3126 - accuracy: 0.8707 - val_loss: 0.3653 - val_accuracy: 0.8550\n",
      "Epoch 74/1000\n",
      "536/536 [==============================] - 1s 3ms/step - loss: 0.3128 - accuracy: 0.8705 - val_loss: 0.3651 - val_accuracy: 0.8550\n",
      "Epoch 75/1000\n",
      "536/536 [==============================] - 2s 3ms/step - loss: 0.3125 - accuracy: 0.8692 - val_loss: 0.3643 - val_accuracy: 0.8542\n",
      "Epoch 76/1000\n",
      "536/536 [==============================] - 1s 3ms/step - loss: 0.3126 - accuracy: 0.8688 - val_loss: 0.3603 - val_accuracy: 0.8576\n",
      "Epoch 77/1000\n",
      "536/536 [==============================] - 1s 3ms/step - loss: 0.3125 - accuracy: 0.8677 - val_loss: 0.3638 - val_accuracy: 0.8554\n",
      "Epoch 78/1000\n",
      "536/536 [==============================] - 1s 3ms/step - loss: 0.3128 - accuracy: 0.8690 - val_loss: 0.3620 - val_accuracy: 0.8580\n",
      "Epoch 79/1000\n",
      "536/536 [==============================] - 1s 2ms/step - loss: 0.3121 - accuracy: 0.8683 - val_loss: 0.3632 - val_accuracy: 0.8576\n",
      "Epoch 80/1000\n",
      "536/536 [==============================] - 1s 3ms/step - loss: 0.3127 - accuracy: 0.8677 - val_loss: 0.3612 - val_accuracy: 0.8569\n",
      "Epoch 81/1000\n",
      "536/536 [==============================] - 1s 3ms/step - loss: 0.3124 - accuracy: 0.8684 - val_loss: 0.3644 - val_accuracy: 0.8573\n",
      "Epoch 82/1000\n",
      "536/536 [==============================] - 1s 2ms/step - loss: 0.3112 - accuracy: 0.8701 - val_loss: 0.3661 - val_accuracy: 0.8550\n",
      "Epoch 83/1000\n",
      "536/536 [==============================] - 1s 3ms/step - loss: 0.3119 - accuracy: 0.8677 - val_loss: 0.3625 - val_accuracy: 0.8595\n",
      "Epoch 84/1000\n",
      "536/536 [==============================] - 2s 3ms/step - loss: 0.3123 - accuracy: 0.8673 - val_loss: 0.3686 - val_accuracy: 0.8557\n",
      "Epoch 85/1000\n",
      "536/536 [==============================] - 1s 3ms/step - loss: 0.3118 - accuracy: 0.8688 - val_loss: 0.3634 - val_accuracy: 0.8573\n",
      "Epoch 86/1000\n",
      "536/536 [==============================] - 1s 3ms/step - loss: 0.3117 - accuracy: 0.8688 - val_loss: 0.3651 - val_accuracy: 0.8554\n",
      "Epoch 87/1000\n",
      "536/536 [==============================] - 1s 3ms/step - loss: 0.3120 - accuracy: 0.8673 - val_loss: 0.3685 - val_accuracy: 0.8535\n",
      "Epoch 88/1000\n",
      "536/536 [==============================] - 1s 3ms/step - loss: 0.3125 - accuracy: 0.8696 - val_loss: 0.3635 - val_accuracy: 0.8557\n",
      "Epoch 89/1000\n",
      "536/536 [==============================] - 1s 3ms/step - loss: 0.3119 - accuracy: 0.8684 - val_loss: 0.3629 - val_accuracy: 0.8561\n",
      "Epoch 90/1000\n",
      "536/536 [==============================] - 1s 3ms/step - loss: 0.3115 - accuracy: 0.8694 - val_loss: 0.3640 - val_accuracy: 0.8561\n",
      "Epoch 91/1000\n",
      "536/536 [==============================] - 2s 3ms/step - loss: 0.3125 - accuracy: 0.8698 - val_loss: 0.3632 - val_accuracy: 0.8557\n",
      "Epoch 92/1000\n",
      "536/536 [==============================] - 1s 3ms/step - loss: 0.3110 - accuracy: 0.8707 - val_loss: 0.3626 - val_accuracy: 0.8550\n",
      "Epoch 93/1000\n",
      "536/536 [==============================] - 1s 2ms/step - loss: 0.3102 - accuracy: 0.8690 - val_loss: 0.3672 - val_accuracy: 0.8569\n",
      "Epoch 94/1000\n",
      "536/536 [==============================] - 1s 2ms/step - loss: 0.3116 - accuracy: 0.8705 - val_loss: 0.3632 - val_accuracy: 0.8576\n",
      "Epoch 95/1000\n",
      "536/536 [==============================] - 1s 2ms/step - loss: 0.3108 - accuracy: 0.8709 - val_loss: 0.3638 - val_accuracy: 0.8542\n",
      "Epoch 96/1000\n",
      "536/536 [==============================] - 2s 3ms/step - loss: 0.3115 - accuracy: 0.8686 - val_loss: 0.3643 - val_accuracy: 0.8576\n",
      "Epoch 97/1000\n",
      "536/536 [==============================] - 1s 3ms/step - loss: 0.3110 - accuracy: 0.8671 - val_loss: 0.3633 - val_accuracy: 0.8561\n",
      "Epoch 98/1000\n",
      "536/536 [==============================] - 1s 2ms/step - loss: 0.3108 - accuracy: 0.8683 - val_loss: 0.3619 - val_accuracy: 0.8588\n",
      "Epoch 99/1000\n",
      "536/536 [==============================] - 1s 3ms/step - loss: 0.3105 - accuracy: 0.8727 - val_loss: 0.3637 - val_accuracy: 0.8569\n",
      "Epoch 100/1000\n",
      "536/536 [==============================] - 2s 3ms/step - loss: 0.3110 - accuracy: 0.8707 - val_loss: 0.3642 - val_accuracy: 0.8569\n",
      "Epoch 101/1000\n",
      "536/536 [==============================] - 1s 3ms/step - loss: 0.3105 - accuracy: 0.8684 - val_loss: 0.3643 - val_accuracy: 0.8554\n",
      "Epoch 102/1000\n",
      "536/536 [==============================] - 1s 3ms/step - loss: 0.3101 - accuracy: 0.8712 - val_loss: 0.3657 - val_accuracy: 0.8554\n",
      "Epoch 103/1000\n",
      "536/536 [==============================] - 2s 3ms/step - loss: 0.3114 - accuracy: 0.8714 - val_loss: 0.3666 - val_accuracy: 0.8554\n",
      "Epoch 104/1000\n",
      "536/536 [==============================] - 2s 3ms/step - loss: 0.3100 - accuracy: 0.8711 - val_loss: 0.3634 - val_accuracy: 0.8573\n",
      "Epoch 105/1000\n",
      "536/536 [==============================] - 2s 3ms/step - loss: 0.3106 - accuracy: 0.8699 - val_loss: 0.3648 - val_accuracy: 0.8542\n",
      "Epoch 106/1000\n",
      "536/536 [==============================] - 1s 3ms/step - loss: 0.3109 - accuracy: 0.8699 - val_loss: 0.3668 - val_accuracy: 0.8554\n",
      "Epoch 107/1000\n",
      "536/536 [==============================] - 2s 3ms/step - loss: 0.3094 - accuracy: 0.8709 - val_loss: 0.3666 - val_accuracy: 0.8557\n",
      "Epoch 108/1000\n",
      "461/536 [========================>.....] - ETA: 0s - loss: 0.3103 - accuracy: 0.8683"
     ]
    },
    {
     "ename": "KeyboardInterrupt",
     "evalue": "",
     "output_type": "error",
     "traceback": [
      "\u001b[1;31m---------------------------------------------------------------------------\u001b[0m",
      "\u001b[1;31mKeyboardInterrupt\u001b[0m                         Traceback (most recent call last)",
      "Cell \u001b[1;32mIn[36], line 1\u001b[0m\n\u001b[1;32m----> 1\u001b[0m model_history \u001b[38;5;241m=\u001b[39m \u001b[43mclassifier\u001b[49m\u001b[38;5;241;43m.\u001b[39;49m\u001b[43mfit\u001b[49m\u001b[43m(\u001b[49m\u001b[43mx_train\u001b[49m\u001b[43m,\u001b[49m\u001b[43m \u001b[49m\u001b[43my_train\u001b[49m\u001b[43m,\u001b[49m\u001b[43m \u001b[49m\u001b[43mvalidation_split\u001b[49m\u001b[38;5;241;43m=\u001b[39;49m\u001b[38;5;241;43m0.33\u001b[39;49m\u001b[43m,\u001b[49m\u001b[43m \u001b[49m\u001b[43mbatch_size\u001b[49m\u001b[38;5;241;43m=\u001b[39;49m\u001b[38;5;241;43m10\u001b[39;49m\u001b[43m,\u001b[49m\u001b[43m \u001b[49m\u001b[43mepochs\u001b[49m\u001b[38;5;241;43m=\u001b[39;49m\u001b[38;5;241;43m1000\u001b[39;49m\u001b[43m)\u001b[49m\n",
      "File \u001b[1;32m~\\anaconda3\\envs\\Rough\\lib\\site-packages\\tensorflow\\python\\keras\\engine\\training.py:108\u001b[0m, in \u001b[0;36menable_multi_worker.<locals>._method_wrapper\u001b[1;34m(self, *args, **kwargs)\u001b[0m\n\u001b[0;32m    106\u001b[0m \u001b[38;5;28;01mdef\u001b[39;00m \u001b[38;5;21m_method_wrapper\u001b[39m(\u001b[38;5;28mself\u001b[39m, \u001b[38;5;241m*\u001b[39margs, \u001b[38;5;241m*\u001b[39m\u001b[38;5;241m*\u001b[39mkwargs):\n\u001b[0;32m    107\u001b[0m   \u001b[38;5;28;01mif\u001b[39;00m \u001b[38;5;129;01mnot\u001b[39;00m \u001b[38;5;28mself\u001b[39m\u001b[38;5;241m.\u001b[39m_in_multi_worker_mode():  \u001b[38;5;66;03m# pylint: disable=protected-access\u001b[39;00m\n\u001b[1;32m--> 108\u001b[0m     \u001b[38;5;28;01mreturn\u001b[39;00m \u001b[43mmethod\u001b[49m\u001b[43m(\u001b[49m\u001b[38;5;28;43mself\u001b[39;49m\u001b[43m,\u001b[49m\u001b[43m \u001b[49m\u001b[38;5;241;43m*\u001b[39;49m\u001b[43margs\u001b[49m\u001b[43m,\u001b[49m\u001b[43m \u001b[49m\u001b[38;5;241;43m*\u001b[39;49m\u001b[38;5;241;43m*\u001b[39;49m\u001b[43mkwargs\u001b[49m\u001b[43m)\u001b[49m\n\u001b[0;32m    110\u001b[0m   \u001b[38;5;66;03m# Running inside `run_distribute_coordinator` already.\u001b[39;00m\n\u001b[0;32m    111\u001b[0m   \u001b[38;5;28;01mif\u001b[39;00m dc_context\u001b[38;5;241m.\u001b[39mget_current_worker_context():\n",
      "File \u001b[1;32m~\\anaconda3\\envs\\Rough\\lib\\site-packages\\tensorflow\\python\\keras\\engine\\training.py:1098\u001b[0m, in \u001b[0;36mModel.fit\u001b[1;34m(self, x, y, batch_size, epochs, verbose, callbacks, validation_split, validation_data, shuffle, class_weight, sample_weight, initial_epoch, steps_per_epoch, validation_steps, validation_batch_size, validation_freq, max_queue_size, workers, use_multiprocessing)\u001b[0m\n\u001b[0;32m   1091\u001b[0m \u001b[38;5;28;01mwith\u001b[39;00m trace\u001b[38;5;241m.\u001b[39mTrace(\n\u001b[0;32m   1092\u001b[0m     \u001b[38;5;124m'\u001b[39m\u001b[38;5;124mTraceContext\u001b[39m\u001b[38;5;124m'\u001b[39m,\n\u001b[0;32m   1093\u001b[0m     graph_type\u001b[38;5;241m=\u001b[39m\u001b[38;5;124m'\u001b[39m\u001b[38;5;124mtrain\u001b[39m\u001b[38;5;124m'\u001b[39m,\n\u001b[0;32m   1094\u001b[0m     epoch_num\u001b[38;5;241m=\u001b[39mepoch,\n\u001b[0;32m   1095\u001b[0m     step_num\u001b[38;5;241m=\u001b[39mstep,\n\u001b[0;32m   1096\u001b[0m     batch_size\u001b[38;5;241m=\u001b[39mbatch_size):\n\u001b[0;32m   1097\u001b[0m   callbacks\u001b[38;5;241m.\u001b[39mon_train_batch_begin(step)\n\u001b[1;32m-> 1098\u001b[0m   tmp_logs \u001b[38;5;241m=\u001b[39m \u001b[43mtrain_function\u001b[49m\u001b[43m(\u001b[49m\u001b[43miterator\u001b[49m\u001b[43m)\u001b[49m\n\u001b[0;32m   1099\u001b[0m   \u001b[38;5;28;01mif\u001b[39;00m data_handler\u001b[38;5;241m.\u001b[39mshould_sync:\n\u001b[0;32m   1100\u001b[0m     context\u001b[38;5;241m.\u001b[39masync_wait()\n",
      "File \u001b[1;32m~\\anaconda3\\envs\\Rough\\lib\\site-packages\\tensorflow\\python\\eager\\def_function.py:780\u001b[0m, in \u001b[0;36mFunction.__call__\u001b[1;34m(self, *args, **kwds)\u001b[0m\n\u001b[0;32m    778\u001b[0m \u001b[38;5;28;01melse\u001b[39;00m:\n\u001b[0;32m    779\u001b[0m   compiler \u001b[38;5;241m=\u001b[39m \u001b[38;5;124m\"\u001b[39m\u001b[38;5;124mnonXla\u001b[39m\u001b[38;5;124m\"\u001b[39m\n\u001b[1;32m--> 780\u001b[0m   result \u001b[38;5;241m=\u001b[39m \u001b[38;5;28;43mself\u001b[39;49m\u001b[38;5;241;43m.\u001b[39;49m\u001b[43m_call\u001b[49m\u001b[43m(\u001b[49m\u001b[38;5;241;43m*\u001b[39;49m\u001b[43margs\u001b[49m\u001b[43m,\u001b[49m\u001b[43m \u001b[49m\u001b[38;5;241;43m*\u001b[39;49m\u001b[38;5;241;43m*\u001b[39;49m\u001b[43mkwds\u001b[49m\u001b[43m)\u001b[49m\n\u001b[0;32m    782\u001b[0m new_tracing_count \u001b[38;5;241m=\u001b[39m \u001b[38;5;28mself\u001b[39m\u001b[38;5;241m.\u001b[39m_get_tracing_count()\n\u001b[0;32m    783\u001b[0m without_tracing \u001b[38;5;241m=\u001b[39m (tracing_count \u001b[38;5;241m==\u001b[39m new_tracing_count)\n",
      "File \u001b[1;32m~\\anaconda3\\envs\\Rough\\lib\\site-packages\\tensorflow\\python\\eager\\def_function.py:807\u001b[0m, in \u001b[0;36mFunction._call\u001b[1;34m(self, *args, **kwds)\u001b[0m\n\u001b[0;32m    804\u001b[0m   \u001b[38;5;28mself\u001b[39m\u001b[38;5;241m.\u001b[39m_lock\u001b[38;5;241m.\u001b[39mrelease()\n\u001b[0;32m    805\u001b[0m   \u001b[38;5;66;03m# In this case we have created variables on the first call, so we run the\u001b[39;00m\n\u001b[0;32m    806\u001b[0m   \u001b[38;5;66;03m# defunned version which is guaranteed to never create variables.\u001b[39;00m\n\u001b[1;32m--> 807\u001b[0m   \u001b[38;5;28;01mreturn\u001b[39;00m \u001b[38;5;28;43mself\u001b[39;49m\u001b[38;5;241;43m.\u001b[39;49m\u001b[43m_stateless_fn\u001b[49m\u001b[43m(\u001b[49m\u001b[38;5;241;43m*\u001b[39;49m\u001b[43margs\u001b[49m\u001b[43m,\u001b[49m\u001b[43m \u001b[49m\u001b[38;5;241;43m*\u001b[39;49m\u001b[38;5;241;43m*\u001b[39;49m\u001b[43mkwds\u001b[49m\u001b[43m)\u001b[49m  \u001b[38;5;66;03m# pylint: disable=not-callable\u001b[39;00m\n\u001b[0;32m    808\u001b[0m \u001b[38;5;28;01melif\u001b[39;00m \u001b[38;5;28mself\u001b[39m\u001b[38;5;241m.\u001b[39m_stateful_fn \u001b[38;5;129;01mis\u001b[39;00m \u001b[38;5;129;01mnot\u001b[39;00m \u001b[38;5;28;01mNone\u001b[39;00m:\n\u001b[0;32m    809\u001b[0m   \u001b[38;5;66;03m# Release the lock early so that multiple threads can perform the call\u001b[39;00m\n\u001b[0;32m    810\u001b[0m   \u001b[38;5;66;03m# in parallel.\u001b[39;00m\n\u001b[0;32m    811\u001b[0m   \u001b[38;5;28mself\u001b[39m\u001b[38;5;241m.\u001b[39m_lock\u001b[38;5;241m.\u001b[39mrelease()\n",
      "File \u001b[1;32m~\\anaconda3\\envs\\Rough\\lib\\site-packages\\tensorflow\\python\\eager\\function.py:2829\u001b[0m, in \u001b[0;36mFunction.__call__\u001b[1;34m(self, *args, **kwargs)\u001b[0m\n\u001b[0;32m   2827\u001b[0m \u001b[38;5;28;01mwith\u001b[39;00m \u001b[38;5;28mself\u001b[39m\u001b[38;5;241m.\u001b[39m_lock:\n\u001b[0;32m   2828\u001b[0m   graph_function, args, kwargs \u001b[38;5;241m=\u001b[39m \u001b[38;5;28mself\u001b[39m\u001b[38;5;241m.\u001b[39m_maybe_define_function(args, kwargs)\n\u001b[1;32m-> 2829\u001b[0m \u001b[38;5;28;01mreturn\u001b[39;00m \u001b[43mgraph_function\u001b[49m\u001b[38;5;241;43m.\u001b[39;49m\u001b[43m_filtered_call\u001b[49m\u001b[43m(\u001b[49m\u001b[43margs\u001b[49m\u001b[43m,\u001b[49m\u001b[43m \u001b[49m\u001b[43mkwargs\u001b[49m\u001b[43m)\u001b[49m\n",
      "File \u001b[1;32m~\\anaconda3\\envs\\Rough\\lib\\site-packages\\tensorflow\\python\\eager\\function.py:1843\u001b[0m, in \u001b[0;36mConcreteFunction._filtered_call\u001b[1;34m(self, args, kwargs, cancellation_manager)\u001b[0m\n\u001b[0;32m   1827\u001b[0m \u001b[38;5;28;01mdef\u001b[39;00m \u001b[38;5;21m_filtered_call\u001b[39m(\u001b[38;5;28mself\u001b[39m, args, kwargs, cancellation_manager\u001b[38;5;241m=\u001b[39m\u001b[38;5;28;01mNone\u001b[39;00m):\n\u001b[0;32m   1828\u001b[0m \u001b[38;5;250m  \u001b[39m\u001b[38;5;124;03m\"\"\"Executes the function, filtering arguments from the Python function.\u001b[39;00m\n\u001b[0;32m   1829\u001b[0m \n\u001b[0;32m   1830\u001b[0m \u001b[38;5;124;03m  Objects aside from Tensors, CompositeTensors, and Variables are ignored.\u001b[39;00m\n\u001b[1;32m   (...)\u001b[0m\n\u001b[0;32m   1841\u001b[0m \u001b[38;5;124;03m    `args` and `kwargs`.\u001b[39;00m\n\u001b[0;32m   1842\u001b[0m \u001b[38;5;124;03m  \"\"\"\u001b[39;00m\n\u001b[1;32m-> 1843\u001b[0m   \u001b[38;5;28;01mreturn\u001b[39;00m \u001b[38;5;28;43mself\u001b[39;49m\u001b[38;5;241;43m.\u001b[39;49m\u001b[43m_call_flat\u001b[49m\u001b[43m(\u001b[49m\n\u001b[0;32m   1844\u001b[0m \u001b[43m      \u001b[49m\u001b[43m[\u001b[49m\u001b[43mt\u001b[49m\u001b[43m \u001b[49m\u001b[38;5;28;43;01mfor\u001b[39;49;00m\u001b[43m \u001b[49m\u001b[43mt\u001b[49m\u001b[43m \u001b[49m\u001b[38;5;129;43;01min\u001b[39;49;00m\u001b[43m \u001b[49m\u001b[43mnest\u001b[49m\u001b[38;5;241;43m.\u001b[39;49m\u001b[43mflatten\u001b[49m\u001b[43m(\u001b[49m\u001b[43m(\u001b[49m\u001b[43margs\u001b[49m\u001b[43m,\u001b[49m\u001b[43m \u001b[49m\u001b[43mkwargs\u001b[49m\u001b[43m)\u001b[49m\u001b[43m,\u001b[49m\u001b[43m \u001b[49m\u001b[43mexpand_composites\u001b[49m\u001b[38;5;241;43m=\u001b[39;49m\u001b[38;5;28;43;01mTrue\u001b[39;49;00m\u001b[43m)\u001b[49m\n\u001b[0;32m   1845\u001b[0m \u001b[43m       \u001b[49m\u001b[38;5;28;43;01mif\u001b[39;49;00m\u001b[43m \u001b[49m\u001b[38;5;28;43misinstance\u001b[39;49m\u001b[43m(\u001b[49m\u001b[43mt\u001b[49m\u001b[43m,\u001b[49m\u001b[43m \u001b[49m\u001b[43m(\u001b[49m\u001b[43mops\u001b[49m\u001b[38;5;241;43m.\u001b[39;49m\u001b[43mTensor\u001b[49m\u001b[43m,\u001b[49m\n\u001b[0;32m   1846\u001b[0m \u001b[43m                         \u001b[49m\u001b[43mresource_variable_ops\u001b[49m\u001b[38;5;241;43m.\u001b[39;49m\u001b[43mBaseResourceVariable\u001b[49m\u001b[43m)\u001b[49m\u001b[43m)\u001b[49m\u001b[43m]\u001b[49m\u001b[43m,\u001b[49m\n\u001b[0;32m   1847\u001b[0m \u001b[43m      \u001b[49m\u001b[43mcaptured_inputs\u001b[49m\u001b[38;5;241;43m=\u001b[39;49m\u001b[38;5;28;43mself\u001b[39;49m\u001b[38;5;241;43m.\u001b[39;49m\u001b[43mcaptured_inputs\u001b[49m\u001b[43m,\u001b[49m\n\u001b[0;32m   1848\u001b[0m \u001b[43m      \u001b[49m\u001b[43mcancellation_manager\u001b[49m\u001b[38;5;241;43m=\u001b[39;49m\u001b[43mcancellation_manager\u001b[49m\u001b[43m)\u001b[49m\n",
      "File \u001b[1;32m~\\anaconda3\\envs\\Rough\\lib\\site-packages\\tensorflow\\python\\eager\\function.py:1923\u001b[0m, in \u001b[0;36mConcreteFunction._call_flat\u001b[1;34m(self, args, captured_inputs, cancellation_manager)\u001b[0m\n\u001b[0;32m   1918\u001b[0m possible_gradient_type \u001b[38;5;241m=\u001b[39m (\n\u001b[0;32m   1919\u001b[0m     pywrap_tfe\u001b[38;5;241m.\u001b[39mTFE_Py_TapeSetPossibleGradientTypes(args))\n\u001b[0;32m   1920\u001b[0m \u001b[38;5;28;01mif\u001b[39;00m (possible_gradient_type \u001b[38;5;241m==\u001b[39m _POSSIBLE_GRADIENT_TYPES_NONE\n\u001b[0;32m   1921\u001b[0m     \u001b[38;5;129;01mand\u001b[39;00m executing_eagerly):\n\u001b[0;32m   1922\u001b[0m   \u001b[38;5;66;03m# No tape is watching; skip to running the function.\u001b[39;00m\n\u001b[1;32m-> 1923\u001b[0m   \u001b[38;5;28;01mreturn\u001b[39;00m \u001b[38;5;28mself\u001b[39m\u001b[38;5;241m.\u001b[39m_build_call_outputs(\u001b[38;5;28;43mself\u001b[39;49m\u001b[38;5;241;43m.\u001b[39;49m\u001b[43m_inference_function\u001b[49m\u001b[38;5;241;43m.\u001b[39;49m\u001b[43mcall\u001b[49m\u001b[43m(\u001b[49m\n\u001b[0;32m   1924\u001b[0m \u001b[43m      \u001b[49m\u001b[43mctx\u001b[49m\u001b[43m,\u001b[49m\u001b[43m \u001b[49m\u001b[43margs\u001b[49m\u001b[43m,\u001b[49m\u001b[43m \u001b[49m\u001b[43mcancellation_manager\u001b[49m\u001b[38;5;241;43m=\u001b[39;49m\u001b[43mcancellation_manager\u001b[49m\u001b[43m)\u001b[49m)\n\u001b[0;32m   1925\u001b[0m forward_backward \u001b[38;5;241m=\u001b[39m \u001b[38;5;28mself\u001b[39m\u001b[38;5;241m.\u001b[39m_select_forward_and_backward_functions(\n\u001b[0;32m   1926\u001b[0m     args,\n\u001b[0;32m   1927\u001b[0m     possible_gradient_type,\n\u001b[0;32m   1928\u001b[0m     executing_eagerly)\n\u001b[0;32m   1929\u001b[0m forward_function, args_with_tangents \u001b[38;5;241m=\u001b[39m forward_backward\u001b[38;5;241m.\u001b[39mforward()\n",
      "File \u001b[1;32m~\\anaconda3\\envs\\Rough\\lib\\site-packages\\tensorflow\\python\\eager\\function.py:545\u001b[0m, in \u001b[0;36m_EagerDefinedFunction.call\u001b[1;34m(self, ctx, args, cancellation_manager)\u001b[0m\n\u001b[0;32m    543\u001b[0m \u001b[38;5;28;01mwith\u001b[39;00m _InterpolateFunctionError(\u001b[38;5;28mself\u001b[39m):\n\u001b[0;32m    544\u001b[0m   \u001b[38;5;28;01mif\u001b[39;00m cancellation_manager \u001b[38;5;129;01mis\u001b[39;00m \u001b[38;5;28;01mNone\u001b[39;00m:\n\u001b[1;32m--> 545\u001b[0m     outputs \u001b[38;5;241m=\u001b[39m \u001b[43mexecute\u001b[49m\u001b[38;5;241;43m.\u001b[39;49m\u001b[43mexecute\u001b[49m\u001b[43m(\u001b[49m\n\u001b[0;32m    546\u001b[0m \u001b[43m        \u001b[49m\u001b[38;5;28;43mstr\u001b[39;49m\u001b[43m(\u001b[49m\u001b[38;5;28;43mself\u001b[39;49m\u001b[38;5;241;43m.\u001b[39;49m\u001b[43msignature\u001b[49m\u001b[38;5;241;43m.\u001b[39;49m\u001b[43mname\u001b[49m\u001b[43m)\u001b[49m\u001b[43m,\u001b[49m\n\u001b[0;32m    547\u001b[0m \u001b[43m        \u001b[49m\u001b[43mnum_outputs\u001b[49m\u001b[38;5;241;43m=\u001b[39;49m\u001b[38;5;28;43mself\u001b[39;49m\u001b[38;5;241;43m.\u001b[39;49m\u001b[43m_num_outputs\u001b[49m\u001b[43m,\u001b[49m\n\u001b[0;32m    548\u001b[0m \u001b[43m        \u001b[49m\u001b[43minputs\u001b[49m\u001b[38;5;241;43m=\u001b[39;49m\u001b[43margs\u001b[49m\u001b[43m,\u001b[49m\n\u001b[0;32m    549\u001b[0m \u001b[43m        \u001b[49m\u001b[43mattrs\u001b[49m\u001b[38;5;241;43m=\u001b[39;49m\u001b[43mattrs\u001b[49m\u001b[43m,\u001b[49m\n\u001b[0;32m    550\u001b[0m \u001b[43m        \u001b[49m\u001b[43mctx\u001b[49m\u001b[38;5;241;43m=\u001b[39;49m\u001b[43mctx\u001b[49m\u001b[43m)\u001b[49m\n\u001b[0;32m    551\u001b[0m   \u001b[38;5;28;01melse\u001b[39;00m:\n\u001b[0;32m    552\u001b[0m     outputs \u001b[38;5;241m=\u001b[39m execute\u001b[38;5;241m.\u001b[39mexecute_with_cancellation(\n\u001b[0;32m    553\u001b[0m         \u001b[38;5;28mstr\u001b[39m(\u001b[38;5;28mself\u001b[39m\u001b[38;5;241m.\u001b[39msignature\u001b[38;5;241m.\u001b[39mname),\n\u001b[0;32m    554\u001b[0m         num_outputs\u001b[38;5;241m=\u001b[39m\u001b[38;5;28mself\u001b[39m\u001b[38;5;241m.\u001b[39m_num_outputs,\n\u001b[1;32m   (...)\u001b[0m\n\u001b[0;32m    557\u001b[0m         ctx\u001b[38;5;241m=\u001b[39mctx,\n\u001b[0;32m    558\u001b[0m         cancellation_manager\u001b[38;5;241m=\u001b[39mcancellation_manager)\n",
      "File \u001b[1;32m~\\anaconda3\\envs\\Rough\\lib\\site-packages\\tensorflow\\python\\eager\\execute.py:59\u001b[0m, in \u001b[0;36mquick_execute\u001b[1;34m(op_name, num_outputs, inputs, attrs, ctx, name)\u001b[0m\n\u001b[0;32m     57\u001b[0m \u001b[38;5;28;01mtry\u001b[39;00m:\n\u001b[0;32m     58\u001b[0m   ctx\u001b[38;5;241m.\u001b[39mensure_initialized()\n\u001b[1;32m---> 59\u001b[0m   tensors \u001b[38;5;241m=\u001b[39m \u001b[43mpywrap_tfe\u001b[49m\u001b[38;5;241;43m.\u001b[39;49m\u001b[43mTFE_Py_Execute\u001b[49m\u001b[43m(\u001b[49m\u001b[43mctx\u001b[49m\u001b[38;5;241;43m.\u001b[39;49m\u001b[43m_handle\u001b[49m\u001b[43m,\u001b[49m\u001b[43m \u001b[49m\u001b[43mdevice_name\u001b[49m\u001b[43m,\u001b[49m\u001b[43m \u001b[49m\u001b[43mop_name\u001b[49m\u001b[43m,\u001b[49m\n\u001b[0;32m     60\u001b[0m \u001b[43m                                      \u001b[49m\u001b[43minputs\u001b[49m\u001b[43m,\u001b[49m\u001b[43m \u001b[49m\u001b[43mattrs\u001b[49m\u001b[43m,\u001b[49m\u001b[43m \u001b[49m\u001b[43mnum_outputs\u001b[49m\u001b[43m)\u001b[49m\n\u001b[0;32m     61\u001b[0m \u001b[38;5;28;01mexcept\u001b[39;00m core\u001b[38;5;241m.\u001b[39m_NotOkStatusException \u001b[38;5;28;01mas\u001b[39;00m e:\n\u001b[0;32m     62\u001b[0m   \u001b[38;5;28;01mif\u001b[39;00m name \u001b[38;5;129;01mis\u001b[39;00m \u001b[38;5;129;01mnot\u001b[39;00m \u001b[38;5;28;01mNone\u001b[39;00m:\n",
      "\u001b[1;31mKeyboardInterrupt\u001b[0m: "
     ]
    }
   ],
   "source": [
    "model_history = classifier.fit(x_train, y_train, validation_split=0.33, batch_size=10, epochs=1000)"
   ]
  },
  {
   "cell_type": "markdown",
   "id": "1739084f-b059-46a5-a0d8-d27aab6b5f57",
   "metadata": {},
   "source": [
    "We have mentioned 1000 epochs but we interrupted the kernel because the accuracy is not improving.  \n",
    "The accuracy is not increasing above 86%. It went to 86% at 11th epoch and it stayed between 86 to 87 till 108 epochs.  \n",
    "\n",
    "Similarly val_loss is also not improving 36%. It started at 45% and went till 36%. val_loss did not increase above 36%."
   ]
  },
  {
   "cell_type": "markdown",
   "id": "bce45442-faf1-49bf-9565-11d638fa6991",
   "metadata": {},
   "source": [
    "## Early Stopping \n",
    "Early stopping is a technique which is used to automatically stop our model when the accuracy is not improving."
   ]
  },
  {
   "cell_type": "code",
   "execution_count": 38,
   "id": "23f76183-5f72-43df-849d-d4c331dff848",
   "metadata": {},
   "outputs": [],
   "source": [
    "# Early stopping will done based on val_loss\n",
    "\n",
    "early_stopping = tf.keras.callbacks.EarlyStopping(\n",
    "                        monitor=\"val_loss\",\n",
    "                        min_delta=0.0001,\n",
    "                        patience=20,\n",
    "                        verbose=1,\n",
    "                        mode=\"auto\",\n",
    "                        baseline=None,\n",
    "                        restore_best_weights=False,\n",
    "                        )"
   ]
  },
  {
   "cell_type": "code",
   "execution_count": 39,
   "id": "e1b69706-d180-433a-b589-dd9ef894acbe",
   "metadata": {},
   "outputs": [
    {
     "name": "stdout",
     "output_type": "stream",
     "text": [
      "Epoch 1/1000\n",
      "536/536 [==============================] - 1s 2ms/step - loss: 0.3099 - accuracy: 0.8698 - val_loss: 0.3661 - val_accuracy: 0.8531\n",
      "Epoch 2/1000\n",
      "536/536 [==============================] - 1s 2ms/step - loss: 0.3101 - accuracy: 0.8711 - val_loss: 0.3659 - val_accuracy: 0.8516\n",
      "Epoch 3/1000\n",
      "536/536 [==============================] - 1s 2ms/step - loss: 0.3100 - accuracy: 0.8724 - val_loss: 0.3643 - val_accuracy: 0.8523\n",
      "Epoch 4/1000\n",
      "536/536 [==============================] - 1s 2ms/step - loss: 0.3100 - accuracy: 0.8696 - val_loss: 0.3658 - val_accuracy: 0.8527\n",
      "Epoch 5/1000\n",
      "536/536 [==============================] - 2s 3ms/step - loss: 0.3104 - accuracy: 0.8692 - val_loss: 0.3640 - val_accuracy: 0.8538\n",
      "Epoch 6/1000\n",
      "536/536 [==============================] - 1s 3ms/step - loss: 0.3096 - accuracy: 0.8722 - val_loss: 0.3659 - val_accuracy: 0.8523\n",
      "Epoch 7/1000\n",
      "536/536 [==============================] - 1s 2ms/step - loss: 0.3103 - accuracy: 0.8707 - val_loss: 0.3662 - val_accuracy: 0.8542\n",
      "Epoch 8/1000\n",
      "536/536 [==============================] - 1s 2ms/step - loss: 0.3093 - accuracy: 0.8688 - val_loss: 0.3639 - val_accuracy: 0.8554\n",
      "Epoch 9/1000\n",
      "536/536 [==============================] - 1s 2ms/step - loss: 0.3096 - accuracy: 0.8679 - val_loss: 0.3663 - val_accuracy: 0.8565\n",
      "Epoch 10/1000\n",
      "536/536 [==============================] - 1s 3ms/step - loss: 0.3094 - accuracy: 0.8683 - val_loss: 0.3671 - val_accuracy: 0.8512\n",
      "Epoch 11/1000\n",
      "536/536 [==============================] - 1s 2ms/step - loss: 0.3092 - accuracy: 0.8705 - val_loss: 0.3680 - val_accuracy: 0.8527\n",
      "Epoch 12/1000\n",
      "536/536 [==============================] - 1s 2ms/step - loss: 0.3096 - accuracy: 0.8690 - val_loss: 0.3669 - val_accuracy: 0.8550\n",
      "Epoch 13/1000\n",
      "536/536 [==============================] - 1s 2ms/step - loss: 0.3103 - accuracy: 0.8692 - val_loss: 0.3651 - val_accuracy: 0.8497\n",
      "Epoch 14/1000\n",
      "536/536 [==============================] - 1s 2ms/step - loss: 0.3093 - accuracy: 0.8681 - val_loss: 0.3663 - val_accuracy: 0.8512\n",
      "Epoch 15/1000\n",
      "536/536 [==============================] - 1s 2ms/step - loss: 0.3094 - accuracy: 0.8722 - val_loss: 0.3665 - val_accuracy: 0.8550\n",
      "Epoch 16/1000\n",
      "536/536 [==============================] - 1s 2ms/step - loss: 0.3092 - accuracy: 0.8737 - val_loss: 0.3662 - val_accuracy: 0.8554\n",
      "Epoch 17/1000\n",
      "536/536 [==============================] - 1s 2ms/step - loss: 0.3096 - accuracy: 0.8712 - val_loss: 0.3677 - val_accuracy: 0.8516\n",
      "Epoch 18/1000\n",
      "536/536 [==============================] - 1s 2ms/step - loss: 0.3085 - accuracy: 0.8683 - val_loss: 0.3697 - val_accuracy: 0.8535\n",
      "Epoch 19/1000\n",
      "536/536 [==============================] - 1s 2ms/step - loss: 0.3093 - accuracy: 0.8714 - val_loss: 0.3653 - val_accuracy: 0.8531\n",
      "Epoch 20/1000\n",
      "536/536 [==============================] - 1s 2ms/step - loss: 0.3084 - accuracy: 0.8716 - val_loss: 0.3669 - val_accuracy: 0.8531\n",
      "Epoch 21/1000\n",
      "536/536 [==============================] - 1s 3ms/step - loss: 0.3097 - accuracy: 0.8714 - val_loss: 0.3683 - val_accuracy: 0.8523\n",
      "Epoch 22/1000\n",
      "536/536 [==============================] - 1s 2ms/step - loss: 0.3085 - accuracy: 0.8726 - val_loss: 0.3660 - val_accuracy: 0.8535\n",
      "Epoch 23/1000\n",
      "536/536 [==============================] - 1s 2ms/step - loss: 0.3082 - accuracy: 0.8686 - val_loss: 0.3675 - val_accuracy: 0.8527\n",
      "Epoch 24/1000\n",
      "536/536 [==============================] - 1s 2ms/step - loss: 0.3087 - accuracy: 0.8698 - val_loss: 0.3679 - val_accuracy: 0.8501\n",
      "Epoch 25/1000\n",
      "536/536 [==============================] - 1s 3ms/step - loss: 0.3090 - accuracy: 0.8707 - val_loss: 0.3649 - val_accuracy: 0.8531\n",
      "Epoch 00025: early stopping\n"
     ]
    }
   ],
   "source": [
    "model_history = classifier.fit(x_train, y_train, validation_split=0.33, batch_size=10, epochs=1000, callbacks=early_stopping)"
   ]
  },
  {
   "cell_type": "raw",
   "id": "75ff0e70-690d-4f8b-b478-bc14c18261d8",
   "metadata": {},
   "source": [
    "As we can see that the model stopped at 25th epoch because val_loss did not improve any further.  \n",
    "And the model has stopped automatically because of using early stopping.    "
   ]
  },
  {
   "cell_type": "markdown",
   "id": "30e16c96-b7c2-40a4-9747-85909027791b",
   "metadata": {},
   "source": [
    "## Major metrics used "
   ]
  },
  {
   "cell_type": "code",
   "execution_count": 40,
   "id": "57126137-5f3b-4acc-b149-fc179bf080e9",
   "metadata": {},
   "outputs": [
    {
     "data": {
      "text/plain": [
       "dict_keys(['loss', 'accuracy', 'val_loss', 'val_accuracy'])"
      ]
     },
     "execution_count": 40,
     "metadata": {},
     "output_type": "execute_result"
    }
   ],
   "source": [
    "model_history.history.keys()"
   ]
  },
  {
   "cell_type": "markdown",
   "id": "1414693a-fd05-462c-b553-baef2256ceb7",
   "metadata": {},
   "source": [
    "## Plotting the accuracy"
   ]
  },
  {
   "cell_type": "code",
   "execution_count": 54,
   "id": "fa935b7c-989e-4eeb-a32c-6460c6c57bfc",
   "metadata": {},
   "outputs": [
    {
     "data": {
      "image/png": "[encoded data removed]",
      "text/plain": [
       "<Figure size 640x480 with 1 Axes>"
      ]
     },
     "metadata": {},
     "output_type": "display_data"
    }
   ],
   "source": [
    "plt.plot(model_history.history['accuracy'])\n",
    "plt.plot(model_history.history['val_accuracy'])\n",
    "plt.title('Model Accuracy')\n",
    "plt.ylabel('accuracy')\n",
    "plt.xlabel('epoch')\n",
    "plt.legend(['train', 'test'], loc='lower right')\n",
    "plt.show()"
   ]
  },
  {
   "cell_type": "code",
   "execution_count": 45,
   "id": "a206b7c5-e4e5-4e63-a421-4945304354ab",
   "metadata": {},
   "outputs": [
    {
     "data": {
      "image/png": "[encoded data removed]",
      "text/plain": [
       "<Figure size 640x480 with 1 Axes>"
      ]
     },
     "metadata": {},
     "output_type": "display_data"
    }
   ],
   "source": [
    "plt.plot(model_history.history['loss'])\n",
    "plt.plot(model_history.history['val_loss'])\n",
    "plt.title('Model Accuracy')\n",
    "plt.ylabel('accuracy')\n",
    "plt.xlabel('epoch')\n",
    "plt.legend(['train', 'test'], loc='lower right')\n",
    "plt.show()"
   ]
  },
  {
   "cell_type": "markdown",
   "id": "9e3296bb-1a13-480b-bbeb-776f7edde784",
   "metadata": {},
   "source": [
    "## Predicting test results"
   ]
  },
  {
   "cell_type": "code",
   "execution_count": 55,
   "id": "19d4e282-c9a8-47a3-8745-99f291722abd",
   "metadata": {},
   "outputs": [],
   "source": [
    "y_pred = classifier.predict(x_test)\n",
    "y_pred = (y_pred >= 0.5)           ## greater than or equal to 0.5 is considered as 1"
   ]
  },
  {
   "cell_type": "code",
   "execution_count": 64,
   "id": "4c9210f8-49a5-443e-9655-0a9da52bbba0",
   "metadata": {},
   "outputs": [
    {
     "data": {
      "text/plain": [
       "array([[False],\n",
       "       [False],\n",
       "       [False],\n",
       "       ...,\n",
       "       [False],\n",
       "       [False],\n",
       "       [False]])"
      ]
     },
     "execution_count": 64,
     "metadata": {},
     "output_type": "execute_result"
    }
   ],
   "source": [
    "y_pred"
   ]
  },
  {
   "cell_type": "markdown",
   "id": "79d32f2d-3d48-49e4-8bbc-8e1f17b94cd3",
   "metadata": {},
   "source": [
    "## Confusion matrix"
   ]
  },
  {
   "cell_type": "code",
   "execution_count": 56,
   "id": "57468a03-4511-4293-9711-e3d1697e3344",
   "metadata": {},
   "outputs": [],
   "source": [
    "from sklearn.metrics import confusion_matrix\n",
    "cm = confusion_matrix(y_test, y_pred)"
   ]
  },
  {
   "cell_type": "code",
   "execution_count": 57,
   "id": "1d3c97b2-b09f-4fbc-a0ff-c7816215f28a",
   "metadata": {},
   "outputs": [
    {
     "data": {
      "text/plain": [
       "array([[1540,   55],\n",
       "       [ 219,  186]], dtype=int64)"
      ]
     },
     "execution_count": 57,
     "metadata": {},
     "output_type": "execute_result"
    }
   ],
   "source": [
    "cm"
   ]
  },
  {
   "cell_type": "markdown",
   "id": "a85b7299-8e94-4d9e-91c5-22307db2f332",
   "metadata": {},
   "source": [
    "## Accuracy"
   ]
  },
  {
   "cell_type": "code",
   "execution_count": 58,
   "id": "3263e88e-cc24-4e4d-a87c-6428fdff81dc",
   "metadata": {},
   "outputs": [
    {
     "data": {
      "text/plain": [
       "0.863"
      ]
     },
     "execution_count": 58,
     "metadata": {},
     "output_type": "execute_result"
    }
   ],
   "source": [
    "from sklearn.metrics import accuracy_score\n",
    "score = accuracy_score(y_pred, y_test)\n",
    "score"
   ]
  },
  {
   "cell_type": "markdown",
   "id": "0e2310ec-e088-4ce1-8521-95987fefa6eb",
   "metadata": {},
   "source": [
    "## Weights \n",
    "what are the weights values used in the artificial neural network"
   ]
  },
  {
   "cell_type": "code",
   "execution_count": 65,
   "id": "f9380b9b-f3ea-41f7-a9ce-4956170e55cc",
   "metadata": {},
   "outputs": [
    {
     "data": {
      "text/plain": [
       "[array([[-0.40950426, -0.00407047,  0.2133136 , -0.20591713,  0.59072953,\n",
       "         -0.11940683,  0.07668844, -0.02147965,  0.08281974, -0.06968062,\n",
       "          0.14231443],\n",
       "        [-0.14812018, -0.51986015, -0.2303464 , -0.07024839, -0.67154014,\n",
       "          1.2733725 ,  0.15535937, -0.04301655,  0.9550407 , -0.23108184,\n",
       "          0.67809623],\n",
       "        [-0.15087266, -0.03077992,  0.28654218, -0.13008131,  0.01416048,\n",
       "         -0.13036841, -0.20814654,  0.08302941,  0.3294548 , -0.08117127,\n",
       "         -0.04984406],\n",
       "        [-0.08940496,  0.05239976, -0.83340275,  0.82842064,  0.12166319,\n",
       "         -0.63692605,  0.00823742, -0.28118744,  0.16131221,  0.04681853,\n",
       "          0.81561905],\n",
       "        [ 0.10998245,  1.3270016 , -0.32670152,  0.11833709, -0.19314885,\n",
       "         -0.66150445,  0.78746784, -0.8678222 ,  0.37860915,  0.00758772,\n",
       "          0.5813112 ],\n",
       "        [-0.44885948, -0.40784505, -0.32541364, -0.35790336,  0.64934033,\n",
       "         -0.13661873,  0.03192747,  0.02040868, -0.2066159 ,  0.47745052,\n",
       "         -0.05432894],\n",
       "        [-0.7804115 , -0.06183004,  0.38144943,  0.5387026 ,  0.20895752,\n",
       "          0.23311393,  0.12489177, -1.0132484 , -0.20155059,  0.2582874 ,\n",
       "         -0.2128149 ],\n",
       "        [-0.54762435,  0.34892154, -0.13759418,  0.86558163,  0.7082583 ,\n",
       "          0.07583207,  0.13769971,  0.23654298,  0.08202089,  0.3442639 ,\n",
       "          0.06962036],\n",
       "        [-0.61605793,  0.25859615, -0.05115517,  0.37794068, -0.4004051 ,\n",
       "          0.34430996, -0.54199326,  0.16752097,  0.02235102,  0.1795515 ,\n",
       "          0.13123988],\n",
       "        [-0.5344751 ,  0.1478552 , -0.00400896, -0.17766082, -0.22077833,\n",
       "         -0.09417294, -0.3874549 ,  0.46440682,  0.68511516,  0.5384155 ,\n",
       "         -0.19093473],\n",
       "        [-0.12996548,  0.18333402,  0.8382802 , -0.24280946,  0.06104936,\n",
       "          0.22118345,  0.2921562 ,  0.03521213,  0.19287403,  0.366251  ,\n",
       "         -0.34108722]], dtype=float32),\n",
       " array([ 0.610188  ,  0.4663996 ,  0.06366763, -0.4184016 , -0.00953138,\n",
       "         0.11597142,  0.09664117,  0.66488534,  0.12708677,  0.35022268,\n",
       "         0.00933414], dtype=float32),\n",
       " array([[-0.24861187,  0.645691  , -0.63006276,  0.5965785 ,  0.31638706,\n",
       "          0.5913621 ,  0.53553057],\n",
       "        [ 0.5645425 ,  0.2313502 , -0.16901115, -0.8451307 ,  0.6366945 ,\n",
       "          0.45985508,  0.694561  ],\n",
       "        [ 0.38388515,  0.745175  , -0.4154332 ,  0.5633748 , -0.9028465 ,\n",
       "         -0.41120568,  0.06098787],\n",
       "        [-0.24687822,  0.27785975, -0.21845764,  0.12813805, -0.4079233 ,\n",
       "         -0.49521065, -0.523733  ],\n",
       "        [ 0.6191448 , -0.0456342 ,  0.87750715, -0.5640014 , -0.5986608 ,\n",
       "         -0.5119234 , -0.03306324],\n",
       "        [-0.47010615, -0.8204901 ,  0.6941351 ,  0.28451288, -0.33041826,\n",
       "          0.04878253, -0.14399996],\n",
       "        [ 0.19820462, -0.05315344,  0.38462478, -0.5336085 ,  0.5600149 ,\n",
       "          0.48816276,  0.2737802 ],\n",
       "        [-1.6569606 , -0.13764726, -0.9550134 ,  0.3425943 , -0.28889006,\n",
       "          0.57223845, -0.25873813],\n",
       "        [ 0.00440219,  0.12728214,  0.31095526, -0.26545095,  0.50309795,\n",
       "          0.92056036,  0.70407355],\n",
       "        [ 0.26357442,  0.23478243, -0.24109773, -0.0438607 ,  0.1908634 ,\n",
       "         -0.14553885,  0.27005064],\n",
       "        [ 0.22566296, -0.2432159 , -0.00724139,  0.2551489 , -0.04975906,\n",
       "          0.29773813, -0.77933025]], dtype=float32),\n",
       " array([-0.57161117,  0.7141631 , -0.44032744, -0.30685896, -0.73186105,\n",
       "        -0.43739066,  0.5812542 ], dtype=float32),\n",
       " array([[ 0.4727734 , -0.1635752 , -1.631695  ,  0.6983154 , -1.9702852 ,\n",
       "          0.7233183 ],\n",
       "        [ 0.6704976 ,  0.70118827,  0.46641034, -0.09658241, -1.0140429 ,\n",
       "         -1.1340442 ],\n",
       "        [-0.1433074 ,  0.5221175 ,  0.8462159 , -1.1361576 ,  0.42351937,\n",
       "         -1.1425331 ],\n",
       "        [-1.2210727 , -0.1605224 ,  0.3741844 ,  0.41710714,  0.7122037 ,\n",
       "          0.3486347 ],\n",
       "        [ 0.04907579, -0.9361575 , -1.4240211 ,  0.47377947, -0.57132477,\n",
       "          0.76858425],\n",
       "        [-0.21025835,  0.11554813, -1.978483  ,  0.79335415, -0.86471754,\n",
       "          0.21898822],\n",
       "        [ 0.8629894 ,  0.61273116, -0.79995066,  0.4961011 ,  0.09387597,\n",
       "         -0.20948067]], dtype=float32),\n",
       " array([ 0.16728902,  0.36227015,  0.26380214, -0.24522512, -0.23890664,\n",
       "        -0.22163257], dtype=float32),\n",
       " array([[-0.39389512],\n",
       "        [-1.1939853 ],\n",
       "        [ 1.0811219 ],\n",
       "        [ 0.70556945],\n",
       "        [ 0.7935226 ],\n",
       "        [ 1.6098346 ]], dtype=float32),\n",
       " array([-0.3687197], dtype=float32)]"
      ]
     },
     "execution_count": 65,
     "metadata": {},
     "output_type": "execute_result"
    }
   ],
   "source": [
    "classifier.get_weights()"
   ]
  },
  {
   "cell_type": "code",
   "execution_count": null,
   "id": "b4bbde36-83fe-4eeb-859d-44dae818258b",
   "metadata": {},
   "outputs": [],
   "source": []
  }
 ],
 "metadata": {
  "kernelspec": {
   "display_name": "Rough",
   "language": "python",
   "name": "rough"
  },
  "language_info": {
   "codemirror_mode": {
    "name": "ipython",
    "version": 3
   },
   "file_extension": ".py",
   "mimetype": "text/x-python",
   "name": "python",
   "nbconvert_exporter": "python",
   "pygments_lexer": "ipython3",
   "version": "3.8.18"
  }
 },
 "nbformat": 4,
 "nbformat_minor": 5
}
