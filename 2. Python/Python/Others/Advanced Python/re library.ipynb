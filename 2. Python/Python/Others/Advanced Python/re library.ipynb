{
 "cells": [
  {
   "cell_type": "markdown",
   "id": "bc58f33e",
   "metadata": {},
   "source": [
    "# Contents\n",
    "- [1. re library](#1.-re-library)\n",
    "- [2. Constant pattern](#2.-Constant-Pattern-(fixed-characters))\n",
    "     - [2.1 Match](#2.1-Match)\n",
    "     - [2.2 Start and end function](#2.2-Start-and-end-function)\n",
    "     - [2.3 Search](#2.3-Search)\n",
    "     - [2.4 Findall](#2.4-Findall)\n",
    "     - [2.5 Split](#2.5-Split)\n",
    "     - [2.6 Sub](#2.6-Sub)\n",
    "     - [2.7 Complie](#2.7-Compile)\n",
    "- [3. Non Constant Pattern](#3.-Non-Constant-Pattern)\n",
    "    - [3.1 Extract each character of a string](#3.1-Extract-each-character-of-a-string)\n",
    "    - [3.2 Extract theeach word](#3.2-Extract-the-each-word)\n",
    "    - [3.3 Extract the first word](#3.3-Extract-the-first-word)\n",
    "    - [3.4 Extract the last word](#3.4-Extract-the-last-word)\n",
    "    - [3.5 Extract the consecutive two characters without including spaces](#3.5-Extract-the-consecutive-two-characters-without-including-the-spaces)\n",
    "    - [3.6 Extract the consecutive two charcters of the start of a word only](#3.6-Extract-the-consecutive-two-characters-of-the-start-of-a-word-only)\n",
    "    - [3.7 Extract the domain name](#3.7-Extract-the-domain-name)\n",
    "    - [3.8 Extract the domain name only](#3.8-Extract-the-domain-name-only)\n",
    "    - [3.9 Extract the dates](#3.9-Extract-the-date)\n",
    "    - [3.10 Extract the words within []](#3.10-Extract-words-within-[])\n",
    "    - [3.11 Validate a phone number](#3.11-Validate-a-phone-number)\n",
    "    - [3.12 Split String](#3.12-Split-string)\n",
    "    - [3.13 Replace a string with space](#3.13-Replace-a-string-with-space)\n",
    "- [4. Special Sequences](#4.-Special-sequences)\n",
    "- [5. Meta Characters](#5.-Meta-characters)\n",
    "- [6. Sets](#6.-Sets)\n",
    "- [7. Complex Problems](#7.-Complex-problems)'\n",
    "- [8. Working with titanic dataset](#8.-Working-with-titanic-dataset)"
   ]
  },
  {
   "cell_type": "markdown",
   "id": "7b95507e",
   "metadata": {},
   "source": [
    "# 1. re library\n",
    "- re library is a python's standard library which provide functions and methods for working with regular expressions.\n",
    "- Regular expressions are powerful patterns used for searching, matching and manipulating text."
   ]
  },
  {
   "cell_type": "code",
   "execution_count": 63,
   "id": "cb086cf7",
   "metadata": {},
   "outputs": [],
   "source": [
    "import re\n",
    "import pandas as pd"
   ]
  },
  {
   "cell_type": "markdown",
   "id": "75aa532f",
   "metadata": {},
   "source": [
    "# 2. Constant Pattern (fixed characters)\n",
    "**We have a specific search pattern** "
   ]
  },
  {
   "cell_type": "markdown",
   "id": "58a30285",
   "metadata": {},
   "source": [
    "## 2.1 Match \n",
    "```python\n",
    "re.match(pattern, string)\n",
    "```\n",
    "#### This method finds match if it occurs at the start of the string."
   ]
  },
  {
   "cell_type": "code",
   "execution_count": 15,
   "id": "0748375c",
   "metadata": {},
   "outputs": [
    {
     "name": "stdout",
     "output_type": "stream",
     "text": [
      "<re.Match object; span=(0, 4), match='Gold'>\n"
     ]
    }
   ],
   "source": [
    "result = re.match(r'Gold', 'Gold D. Roger')  # 'r' inside the function designates python raw string\n",
    "print(result)                                                                                    "
   ]
  },
  {
   "cell_type": "code",
   "execution_count": 16,
   "id": "b7a4bc46",
   "metadata": {},
   "outputs": [
    {
     "name": "stdout",
     "output_type": "stream",
     "text": [
      "Gold\n"
     ]
    }
   ],
   "source": [
    "### use group method to print the output\n",
    "\n",
    "print(result.group(0))"
   ]
  },
  {
   "cell_type": "code",
   "execution_count": 18,
   "id": "f31f2c4f",
   "metadata": {},
   "outputs": [
    {
     "name": "stdout",
     "output_type": "stream",
     "text": [
      "None\n"
     ]
    }
   ],
   "source": [
    "### The function will not work for the succeeding strings\n",
    "\n",
    "result_mid = re.match(r'D', 'Gold D. Roger')\n",
    "print(result_mid)            ## note we are not using group function here to print the output"
   ]
  },
  {
   "cell_type": "markdown",
   "id": "150320dd",
   "metadata": {},
   "source": [
    "## 2.2 Start and end function\n",
    "#### It is usefull to find the start and end position of the string"
   ]
  },
  {
   "cell_type": "code",
   "execution_count": 28,
   "id": "ea8738ef",
   "metadata": {},
   "outputs": [
    {
     "name": "stdout",
     "output_type": "stream",
     "text": [
      "0\n",
      "4\n"
     ]
    }
   ],
   "source": [
    "result_1 = re.match(r'Gold', 'Gold D.roger')\n",
    "print(result_1.start(), result_1.end(), sep=\"\\n\")      ## output is the position of the strings"
   ]
  },
  {
   "cell_type": "markdown",
   "id": "04c012dd",
   "metadata": {},
   "source": [
    "## 2.3 Search \n",
    "#### Unlike match function it helps to find the string that is present anywhere in the collection of strings."
   ]
  },
  {
   "cell_type": "code",
   "execution_count": 29,
   "id": "269250f7",
   "metadata": {},
   "outputs": [
    {
     "name": "stdout",
     "output_type": "stream",
     "text": [
      "D\n"
     ]
    }
   ],
   "source": [
    "result_2 = re.search(r'D', 'Gold D. Roger')\n",
    "print(result_2.group())"
   ]
  },
  {
   "cell_type": "markdown",
   "id": "b5bcc73b",
   "metadata": {},
   "source": [
    "## 2.4 Findall\n",
    "#### It helps to find the occurences of a string present at any position and also it will return any number of occurences that is present.\n",
    "#### Use the findall function more frequently as it will both work as match and search."
   ]
  },
  {
   "cell_type": "code",
   "execution_count": 30,
   "id": "0c14a10a",
   "metadata": {},
   "outputs": [
    {
     "name": "stdout",
     "output_type": "stream",
     "text": [
      "['D', 'D', 'D']\n"
     ]
    }
   ],
   "source": [
    "result_3 = re.findall(r'D', 'Gold D. Roger, Monkey D. Luffy, Monkey D. Garp')\n",
    "print(result_3)"
   ]
  },
  {
   "cell_type": "markdown",
   "id": "8535e74b",
   "metadata": {},
   "source": [
    "## 2.5 Split \n",
    "#### Helps to split  a string by the occurence of a given pattern."
   ]
  },
  {
   "cell_type": "code",
   "execution_count": 31,
   "id": "a819f39d",
   "metadata": {},
   "outputs": [
    {
     "name": "stdout",
     "output_type": "stream",
     "text": [
      "['Gold ', '. Roger']\n"
     ]
    }
   ],
   "source": [
    "result_4 = re.split(r'D', 'Gold D. Roger')\n",
    "print(result_4)"
   ]
  },
  {
   "cell_type": "code",
   "execution_count": 32,
   "id": "626906ae",
   "metadata": {},
   "outputs": [
    {
     "name": "stdout",
     "output_type": "stream",
     "text": [
      "['G', 'ld D. R', 'ger']\n"
     ]
    }
   ],
   "source": [
    "### maxsplit argument in split function\n",
    "\n",
    "result_5 = re.split(r'o', 'Gold D. Roger', maxsplit=2)\n",
    "print(result_5)"
   ]
  },
  {
   "cell_type": "markdown",
   "id": "680719bd",
   "metadata": {},
   "source": [
    "## 2.6 Sub\n",
    "#### It helps to search and replace a string."
   ]
  },
  {
   "cell_type": "code",
   "execution_count": 33,
   "id": "7ce19a88",
   "metadata": {},
   "outputs": [
    {
     "name": "stdout",
     "output_type": "stream",
     "text": [
      "Monkey D. Dragon\n"
     ]
    }
   ],
   "source": [
    "result_6 = re.sub(r'Luffy', 'Dragon', 'Monkey D. Luffy')   ## existing, newstring, complete string\n",
    "print(result_6)"
   ]
  },
  {
   "cell_type": "markdown",
   "id": "b1c23a2b",
   "metadata": {},
   "source": [
    "## 2.7 Compile\n",
    "#### It is used for precompiling a regular expression in a regular expression object, which can later be used got pattern match operations."
   ]
  },
  {
   "cell_type": "code",
   "execution_count": 34,
   "id": "2cffd92a",
   "metadata": {},
   "outputs": [
    {
     "name": "stdout",
     "output_type": "stream",
     "text": [
      "['D', 'D', 'D', 'D', 'D']\n"
     ]
    }
   ],
   "source": [
    "pattern = re.compile(\"D\")\n",
    "result_7 = pattern.findall('Gold D. Roger, Monkey D Luffy, Monkey D Dragon, Monkey D Garp')\n",
    "print(result_7)         ## inplace of findall we can also use other search and match functions"
   ]
  },
  {
   "cell_type": "markdown",
   "id": "d2fa06be",
   "metadata": {},
   "source": [
    "[Go to contents](#Contents)"
   ]
  },
  {
   "cell_type": "markdown",
   "id": "06100637",
   "metadata": {},
   "source": [
    "# *******************************************************************************************"
   ]
  },
  {
   "attachments": {
    "Capture.PNG": {
     "image/png": "[encoded data removed]"
    }
   },
   "cell_type": "markdown",
   "id": "9b6a96b0",
   "metadata": {},
   "source": [
    "# 3. Non Constant Pattern\n",
    "**We do not have a specific search pattern but we want to return a specific set of characters** \n",
    "\n",
    "**This can be solved by operators(meta and literal characters)**\n",
    "\n",
    "The following are the most commonly operators[special squences] used for webscrapping and text mining.\n",
    "\n",
    "![Capture.PNG](attachment:Capture.PNG)"
   ]
  },
  {
   "cell_type": "markdown",
   "id": "127015ab",
   "metadata": {},
   "source": [
    "## 3.1 Extract each character of a string"
   ]
  },
  {
   "cell_type": "code",
   "execution_count": 35,
   "id": "38942e89",
   "metadata": {},
   "outputs": [
    {
     "name": "stdout",
     "output_type": "stream",
     "text": [
      "['O', 'n', 'e', ' ', 'P', 'i', 'e', 'c', 'e']\n"
     ]
    }
   ],
   "source": [
    "output = re.findall(r'.', 'One Piece')\n",
    "print(output)"
   ]
  },
  {
   "cell_type": "code",
   "execution_count": 38,
   "id": "4555e977",
   "metadata": {},
   "outputs": [
    {
     "name": "stdout",
     "output_type": "stream",
     "text": [
      "['O', 'n', 'e', 'P', 'i', 'e', 'c', 'e']\n"
     ]
    }
   ],
   "source": [
    "### The '\\w' does not extracts white spaces\n",
    "\n",
    "output_1 = re.findall(r'\\w', 'One Piece')\n",
    "print(output_1)"
   ]
  },
  {
   "cell_type": "code",
   "execution_count": 5,
   "id": "3f3a5cae",
   "metadata": {},
   "outputs": [
    {
     "name": "stdout",
     "output_type": "stream",
     "text": [
      "['', 'The', '', 'King', '', 'of', '', 'the', '', 'pirates', '']\n"
     ]
    }
   ],
   "source": [
    "output_2 = re.findall(r'\\w*', ' The King of the pirates')\n",
    "print(output_2)"
   ]
  },
  {
   "cell_type": "code",
   "execution_count": 6,
   "id": "d1cdce21",
   "metadata": {},
   "outputs": [
    {
     "name": "stdout",
     "output_type": "stream",
     "text": [
      "['The', 'King', 'of', 'the', 'pirates']\n"
     ]
    }
   ],
   "source": [
    "### To exclude white spaces\n",
    "\n",
    "output_3 = re.findall(r'\\w+', 'The King of the pirates')\n",
    "print(output_3)"
   ]
  },
  {
   "cell_type": "markdown",
   "id": "39843a48",
   "metadata": {},
   "source": [
    "## 3.3 Extract the first word"
   ]
  },
  {
   "cell_type": "code",
   "execution_count": 7,
   "id": "f705e397",
   "metadata": {},
   "outputs": [
    {
     "name": "stdout",
     "output_type": "stream",
     "text": [
      "['The']\n"
     ]
    }
   ],
   "source": [
    "output_4 = re.findall(r'^\\w+', 'The king of the pirates')\n",
    "print(output_4)"
   ]
  },
  {
   "cell_type": "markdown",
   "id": "12b1b1d5",
   "metadata": {},
   "source": [
    "## 3.4 Extract the last word"
   ]
  },
  {
   "cell_type": "code",
   "execution_count": 14,
   "id": "42eee387",
   "metadata": {},
   "outputs": [
    {
     "name": "stdout",
     "output_type": "stream",
     "text": [
      "['pirates']\n"
     ]
    }
   ],
   "source": [
    "output_5 = re.findall(r'\\w+$', 'The kind of the pirates')\n",
    "print(output_5)"
   ]
  },
  {
   "cell_type": "markdown",
   "id": "7d6ed054",
   "metadata": {},
   "source": [
    "## 3.5 Extract the consecutive two characters without including the spaces"
   ]
  },
  {
   "cell_type": "code",
   "execution_count": 15,
   "id": "f1ea3253",
   "metadata": {},
   "outputs": [
    {
     "name": "stdout",
     "output_type": "stream",
     "text": [
      "['Th', 'ki', 'ng', 'of', 'th', 'pi', 'ra', 'te']\n"
     ]
    }
   ],
   "source": [
    "output_6 = re.findall(r'\\w\\w', 'The king of the pirates')\n",
    "print(output_6)"
   ]
  },
  {
   "cell_type": "markdown",
   "id": "40e5b9a7",
   "metadata": {},
   "source": [
    "## 3.6 Extract the consecutive two characters of the start of a word only"
   ]
  },
  {
   "cell_type": "code",
   "execution_count": 17,
   "id": "acfb5b5a",
   "metadata": {},
   "outputs": [
    {
     "name": "stdout",
     "output_type": "stream",
     "text": [
      "['Th', 'ki', 'of', 'th', 'pi']\n"
     ]
    }
   ],
   "source": [
    "output_7 = re.findall(r'\\b\\w.', 'The king of the pirates')\n",
    "print(output_7)"
   ]
  },
  {
   "cell_type": "markdown",
   "id": "0a9c98da",
   "metadata": {},
   "source": [
    "## 3.7 Extract the domain name "
   ]
  },
  {
   "cell_type": "code",
   "execution_count": 22,
   "id": "218ba2f7",
   "metadata": {},
   "outputs": [
    {
     "name": "stdout",
     "output_type": "stream",
     "text": [
      "['@gmail', '@test', '@ymail', '@rest']\n"
     ]
    }
   ],
   "source": [
    "output_8 = re.findall(r'@\\w+', 'abc.test@gmail.com, xyz@test.in, test.first@ymail.com, first.test@rest.biz')\n",
    "print(output_8)"
   ]
  },
  {
   "cell_type": "code",
   "execution_count": 24,
   "id": "a8511a2a",
   "metadata": {},
   "outputs": [
    {
     "name": "stdout",
     "output_type": "stream",
     "text": [
      "['@gmail.com', '@test.in', '@ymail.com', '@rest.biz']\n"
     ]
    }
   ],
   "source": [
    "### to include .com part\n",
    "\n",
    "output_9 = re.findall(r'@\\w+.\\w+', 'abc.test@gmail.com, xyz@test.in, test.first@ymail.com, first.test@rest.biz')\n",
    "print(output_9)"
   ]
  },
  {
   "cell_type": "markdown",
   "id": "5eda523c",
   "metadata": {},
   "source": [
    "## 3.8 Extract only the domain name"
   ]
  },
  {
   "cell_type": "code",
   "execution_count": 25,
   "id": "5cb4f2be",
   "metadata": {},
   "outputs": [
    {
     "name": "stdout",
     "output_type": "stream",
     "text": [
      "['com', 'in', 'com', 'biz']\n"
     ]
    }
   ],
   "source": [
    "output_10 = re.findall(r'@\\w+.(\\w+)', 'abc.test@gmail.com, xyz@test.in, test.first@ymail.com, first.test@rest.biz')\n",
    "print(output_10)"
   ]
  },
  {
   "cell_type": "markdown",
   "id": "c94af3c4",
   "metadata": {},
   "source": [
    "## 3.9 Extract the date "
   ]
  },
  {
   "cell_type": "code",
   "execution_count": 26,
   "id": "9d3e70b2",
   "metadata": {},
   "outputs": [
    {
     "name": "stdout",
     "output_type": "stream",
     "text": [
      "['01-02-2023', '02-03-2023', '03-03-2023']\n"
     ]
    }
   ],
   "source": [
    "output_11 = re.findall(r'\\d{2}-\\d{2}-\\d{4}', 'Raj 34-34343 01-02-2023, Dhivi 43-43434 02-03-2023, Rahul 55-55555 03-03-2023')\n",
    "print(output_11)"
   ]
  },
  {
   "cell_type": "code",
   "execution_count": 27,
   "id": "72e19fb8",
   "metadata": {},
   "outputs": [
    {
     "name": "stdout",
     "output_type": "stream",
     "text": [
      "['2023', '2023', '2023']\n"
     ]
    }
   ],
   "source": [
    "### only extracting the year\n",
    "\n",
    "output_12 = re.findall(r'\\d{2}-\\d{2}-(\\d{4})', 'Raj 34-34343 01-02-2023, Dhivi 43-43434 02-03-2023, Rahul 55-55555 03-03-2023')\n",
    "print(output_12)"
   ]
  },
  {
   "cell_type": "markdown",
   "id": "e9a238cf",
   "metadata": {},
   "source": [
    "## 3.10 Extract words within []"
   ]
  },
  {
   "cell_type": "code",
   "execution_count": 28,
   "id": "4b1384e9",
   "metadata": {},
   "outputs": [
    {
     "name": "stdout",
     "output_type": "stream",
     "text": [
      "['ing', 'of', 'irates']\n"
     ]
    }
   ],
   "source": [
    "output_13 = re.findall(r'[aeiouAEIOU]\\w+', 'The king of the pirates')\n",
    "print(output_13)"
   ]
  },
  {
   "cell_type": "code",
   "execution_count": 30,
   "id": "ebc489fc",
   "metadata": {},
   "outputs": [
    {
     "name": "stdout",
     "output_type": "stream",
     "text": [
      "['of']\n"
     ]
    }
   ],
   "source": [
    "### There are words starting from the min to drop these use boundry\n",
    "\n",
    "output_14 = re.findall(r'\\b[aeiouAEIOU]\\w+', 'The king of the pirates')\n",
    "print(output_14)"
   ]
  },
  {
   "cell_type": "code",
   "execution_count": 31,
   "id": "4690329f",
   "metadata": {},
   "outputs": [
    {
     "name": "stdout",
     "output_type": "stream",
     "text": [
      "['The', ' king', ' of', ' the', ' pirates']\n"
     ]
    }
   ],
   "source": [
    "### We can also use ^ i.e starting with constant\n",
    "\n",
    "output_15 = re.findall(r'\\b[^aeiouAEIOU]\\w+', 'The king of the pirates')\n",
    "print(output_15)"
   ]
  },
  {
   "cell_type": "markdown",
   "id": "57cdb740",
   "metadata": {},
   "source": [
    "## 3.11 Validate a phone number\n",
    "**Must start with 8 or 9 and should contain 10 digits**"
   ]
  },
  {
   "cell_type": "code",
   "execution_count": 34,
   "id": "b9410232",
   "metadata": {},
   "outputs": [
    {
     "name": "stdout",
     "output_type": "stream",
     "text": [
      "Yes\n",
      "No\n",
      "No\n"
     ]
    }
   ],
   "source": [
    "l = ['9999999999', '999999-999', '99999x9999']\n",
    "for val in l:\n",
    "    if re.match(r'[8-9]{1}[0-9]{9}',val) and len(val)==10:\n",
    "        print('Yes')\n",
    "    else:\n",
    "        print('No')"
   ]
  },
  {
   "cell_type": "markdown",
   "id": "6e7712d5",
   "metadata": {},
   "source": [
    "## 3.12 Split string"
   ]
  },
  {
   "cell_type": "code",
   "execution_count": 37,
   "id": "d388557e",
   "metadata": {},
   "outputs": [
    {
     "name": "stdout",
     "output_type": "stream",
     "text": [
      "['Hello', \"i'am\", 'dhanush', 'raj', 'form', 'TRK']\n"
     ]
    }
   ],
   "source": [
    "str = 'Hello,i\\'am,dhanush,raj;form,TRK'\n",
    "output_16 = re.split(r'[,;\\s]', str)\n",
    "print(output_16)"
   ]
  },
  {
   "cell_type": "markdown",
   "id": "19b14f43",
   "metadata": {},
   "source": [
    "## 3.13 Replace a string with space"
   ]
  },
  {
   "cell_type": "code",
   "execution_count": 38,
   "id": "c01cbe02",
   "metadata": {},
   "outputs": [
    {
     "name": "stdout",
     "output_type": "stream",
     "text": [
      "Hello i'am dhanush raj form TRK\n"
     ]
    }
   ],
   "source": [
    "output_17 = re.sub(r'[,;\\s]', ' ', str)\n",
    "print(output_17)"
   ]
  },
  {
   "cell_type": "markdown",
   "id": "53b78233",
   "metadata": {},
   "source": [
    "# *******************************************************************************************"
   ]
  },
  {
   "cell_type": "markdown",
   "id": "9924193e",
   "metadata": {},
   "source": [
    "# 4. Special sequences\n",
    "**1. \\b returns a match where the specified pattern is at the end of the string**\n",
    "\n",
    "**2. \\d returns a match if the string contains any number**\n",
    "\n",
    "**3. \\D returns a match if the string does not contain any digits**\n",
    "\n",
    "**4. \\w extraction of alphanumeric characters**\n",
    "\n",
    "**5. \\W extraction of every non alphanumeric characters**"
   ]
  },
  {
   "cell_type": "markdown",
   "id": "074c754b",
   "metadata": {},
   "source": [
    "[Go to contents](#Contents)"
   ]
  },
  {
   "cell_type": "markdown",
   "id": "30b0e254",
   "metadata": {},
   "source": [
    "# *******************************************************************************************"
   ]
  },
  {
   "cell_type": "markdown",
   "id": "7eefe39a",
   "metadata": {},
   "source": [
    "# 5. Meta characters\n",
    "**1. \".\" matchs any character except newline character**\n",
    "\n",
    "**2. \"^\" returns the begining word of the string**\n",
    "\n",
    "**3. \"$\" returns the end of the string**\n",
    "\n",
    "**4. \"*\" matchs zero or more occurences of the pattern to the left of it**\n",
    "\n",
    "**5. \"+\" matches for one or more occurences of the pattern to the left of it**\n",
    "\n",
    "**6. \"?\" matches zero or one occurences of the pattern to the left of it**\n",
    "\n",
    "**7. \"|\" either, or"
   ]
  },
  {
   "cell_type": "code",
   "execution_count": 43,
   "id": "580d7469",
   "metadata": {},
   "outputs": [
    {
     "name": "stdout",
     "output_type": "stream",
     "text": [
      "['easy', 'eassssy', 'eay']\n"
     ]
    }
   ],
   "source": [
    "### \"*\" \n",
    "\n",
    "strs = 'easy eassssy eay ey'\n",
    "\n",
    "## chech if the string contains 'ea' followed by 0 or more 's' and ending with 'y'\n",
    "\n",
    "x = re.findall('eas*y*', strs)\n",
    "print(x)"
   ]
  },
  {
   "cell_type": "code",
   "execution_count": 46,
   "id": "47776f02",
   "metadata": {},
   "outputs": [
    {
     "name": "stdout",
     "output_type": "stream",
     "text": [
      "['easy', 'eassssy']\n"
     ]
    }
   ],
   "source": [
    "### \"+\"\n",
    "\n",
    "### check if the string contains 'ea' followed by 1 or more 's' and ending with 'y'\n",
    "\n",
    "y = re.findall('eas+y', strs)\n",
    "print(y)"
   ]
  },
  {
   "cell_type": "code",
   "execution_count": 48,
   "id": "149396e1",
   "metadata": {},
   "outputs": [
    {
     "name": "stdout",
     "output_type": "stream",
     "text": [
      "['easy', 'eay']\n"
     ]
    }
   ],
   "source": [
    "### \"?\"\n",
    "\n",
    "### chech if the string contains 'ea' followed by 0 or 1 's' and ends with 'y'\n",
    "\n",
    "z = re.findall('eas?y', strs)\n",
    "print(z)"
   ]
  },
  {
   "cell_type": "code",
   "execution_count": 49,
   "id": "042ab2ab",
   "metadata": {},
   "outputs": [
    {
     "name": "stdout",
     "output_type": "stream",
     "text": [
      "['easy', 'ey']\n"
     ]
    }
   ],
   "source": [
    "### \"|\"\n",
    "\n",
    "### check if the string contains 'easy' or 'ey'\n",
    "\n",
    "h = re.findall('easy|ey', strs)\n",
    "print(h)"
   ]
  },
  {
   "cell_type": "markdown",
   "id": "2d242353",
   "metadata": {},
   "source": [
    "# *******************************************************************************************"
   ]
  },
  {
   "cell_type": "markdown",
   "id": "5246aa14",
   "metadata": {},
   "source": [
    "# 6. Sets\n",
    "**Sets are a bunch of characters inside a []**"
   ]
  },
  {
   "cell_type": "code",
   "execution_count": 55,
   "id": "5a00539e",
   "metadata": {},
   "outputs": [
    {
     "name": "stdout",
     "output_type": "stream",
     "text": [
      "['A', 'l', 'l', 'i', 'A', 'i', 'i']\n"
     ]
    }
   ],
   "source": [
    "strr = \"All you need is DISCIPLINE and HARD WORK with the right MINDSET\"\n",
    "\n",
    "a = re.findall('[iAll]', strr)\n",
    "print(a)"
   ]
  },
  {
   "cell_type": "code",
   "execution_count": 51,
   "id": "7b5959c4",
   "metadata": {},
   "outputs": [
    {
     "name": "stdout",
     "output_type": "stream",
     "text": [
      "['e', 'e', 'd', 'h', 'h', 'e', 'g', 'h']\n"
     ]
    }
   ],
   "source": [
    "### between a-h\n",
    "\n",
    "b = re.findall('[a-h]', strr)\n",
    "print(b)"
   ]
  },
  {
   "cell_type": "code",
   "execution_count": 57,
   "id": "c1cf8860",
   "metadata": {},
   "outputs": [
    {
     "name": "stdout",
     "output_type": "stream",
     "text": [
      "['A', 'n', 'a', 'l', 't', 'i', 'c', 's', ' ', 'V', 'i', 'a', ' ', 'i', 's', ' ', 't', 'e', ' ', 'l', 'a', 'r', 'g', 'e', 's', 't', ' ', 'a', 't', 'a', ' ', 's', 'c', 'i', 'e', 'n', 'c', 'e', ' ', 'c', 'o', 'm', 'm', 'u', 'n', 'i', 't', ' ', 'o', 'f', ' ', 'I', 'n', 'i', 'a']\n"
     ]
    }
   ],
   "source": [
    "### check if every word character has character other than y, d, h\n",
    "\n",
    "strsr = 'Analytics Vidhya is the largest data science community of India'\n",
    "c = re.findall(\"[^ydh]\", strsr)\n",
    "print(c)           ## output is every string other than ydh"
   ]
  },
  {
   "cell_type": "markdown",
   "id": "776b0eac",
   "metadata": {},
   "source": [
    "[Go to contents](#Contents)"
   ]
  },
  {
   "cell_type": "markdown",
   "id": "b108a365",
   "metadata": {},
   "source": [
    "# *******************************************************************************************"
   ]
  },
  {
   "cell_type": "markdown",
   "id": "fa0afb6e",
   "metadata": {},
   "source": [
    "# 7. Complex problems"
   ]
  },
  {
   "cell_type": "code",
   "execution_count": 58,
   "id": "3587191f",
   "metadata": {},
   "outputs": [
    {
     "name": "stdout",
     "output_type": "stream",
     "text": [
      "['raj@gmail.com', 'dhanush123@hotmail.com']\n"
     ]
    }
   ],
   "source": [
    "### extracting emails\n",
    "\n",
    "email = 'Send the message to the following mails raj@gmail.com, dhanush123@hotmail.com'\n",
    "\n",
    "d = re.findall('[a-zA-Z0-9.]+@\\w+\\.com', email)\n",
    "print(d)"
   ]
  },
  {
   "cell_type": "code",
   "execution_count": 60,
   "id": "031aafc2",
   "metadata": {},
   "outputs": [
    {
     "name": "stdout",
     "output_type": "stream",
     "text": [
      "['22 mar 2023', '23 mar 2023']\n"
     ]
    }
   ],
   "source": [
    "### extracting dates\n",
    "\n",
    "dates = 'Today is monday i.e 22 mar 2023 and tomorrow is 23 mar 2023'\n",
    "\n",
    "e = re.findall('\\d{2} \\w{3} \\d{4}', dates)\n",
    "print(e)"
   ]
  },
  {
   "cell_type": "code",
   "execution_count": 62,
   "id": "7f0980aa",
   "metadata": {},
   "outputs": [
    {
     "name": "stdout",
     "output_type": "stream",
     "text": [
      "['22 december 2023', '1 august 1980']\n"
     ]
    }
   ],
   "source": [
    "dates_new = 'My birthday is at 22 december 2023 and my mom birthday is at 1 august 1980'\n",
    "\n",
    "f = re.findall('\\d{1,2} \\w{1,10} \\d{4}', dates_new)          ## 1,2 and 1,10 are ranges\n",
    "print(f)"
   ]
  },
  {
   "cell_type": "markdown",
   "id": "6b83deef",
   "metadata": {},
   "source": [
    "# *******************************************************************************************"
   ]
  },
  {
   "cell_type": "markdown",
   "id": "9d7f5824",
   "metadata": {},
   "source": [
    "# 8. Working with titanic dataset"
   ]
  },
  {
   "cell_type": "markdown",
   "id": "958bc089",
   "metadata": {},
   "source": [
    "## Extracting names"
   ]
  },
  {
   "cell_type": "code",
   "execution_count": 65,
   "id": "966889c7",
   "metadata": {},
   "outputs": [
    {
     "data": {
      "text/html": [
       "<div>\n",
       "<style scoped>\n",
       "    .dataframe tbody tr th:only-of-type {\n",
       "        vertical-align: middle;\n",
       "    }\n",
       "\n",
       "    .dataframe tbody tr th {\n",
       "        vertical-align: top;\n",
       "    }\n",
       "\n",
       "    .dataframe thead th {\n",
       "        text-align: right;\n",
       "    }\n",
       "</style>\n",
       "<table border=\"1\" class=\"dataframe\">\n",
       "  <thead>\n",
       "    <tr style=\"text-align: right;\">\n",
       "      <th></th>\n",
       "      <th>PassengerId</th>\n",
       "      <th>Survived</th>\n",
       "      <th>Pclass</th>\n",
       "      <th>Name</th>\n",
       "      <th>Sex</th>\n",
       "      <th>Age</th>\n",
       "      <th>SibSp</th>\n",
       "      <th>Parch</th>\n",
       "      <th>Ticket</th>\n",
       "      <th>Fare</th>\n",
       "      <th>Cabin</th>\n",
       "      <th>Embarked</th>\n",
       "    </tr>\n",
       "  </thead>\n",
       "  <tbody>\n",
       "    <tr>\n",
       "      <th>0</th>\n",
       "      <td>1</td>\n",
       "      <td>0</td>\n",
       "      <td>3</td>\n",
       "      <td>Braund, Mr. Owen Harris</td>\n",
       "      <td>male</td>\n",
       "      <td>22.0</td>\n",
       "      <td>1</td>\n",
       "      <td>0</td>\n",
       "      <td>A/5 21171</td>\n",
       "      <td>7.2500</td>\n",
       "      <td>NaN</td>\n",
       "      <td>S</td>\n",
       "    </tr>\n",
       "    <tr>\n",
       "      <th>1</th>\n",
       "      <td>2</td>\n",
       "      <td>1</td>\n",
       "      <td>1</td>\n",
       "      <td>Cumings, Mrs. John Bradley (Florence Briggs Th...</td>\n",
       "      <td>female</td>\n",
       "      <td>38.0</td>\n",
       "      <td>1</td>\n",
       "      <td>0</td>\n",
       "      <td>PC 17599</td>\n",
       "      <td>71.2833</td>\n",
       "      <td>C85</td>\n",
       "      <td>C</td>\n",
       "    </tr>\n",
       "    <tr>\n",
       "      <th>2</th>\n",
       "      <td>3</td>\n",
       "      <td>1</td>\n",
       "      <td>3</td>\n",
       "      <td>Heikkinen, Miss. Laina</td>\n",
       "      <td>female</td>\n",
       "      <td>26.0</td>\n",
       "      <td>0</td>\n",
       "      <td>0</td>\n",
       "      <td>STON/O2. 3101282</td>\n",
       "      <td>7.9250</td>\n",
       "      <td>NaN</td>\n",
       "      <td>S</td>\n",
       "    </tr>\n",
       "    <tr>\n",
       "      <th>3</th>\n",
       "      <td>4</td>\n",
       "      <td>1</td>\n",
       "      <td>1</td>\n",
       "      <td>Futrelle, Mrs. Jacques Heath (Lily May Peel)</td>\n",
       "      <td>female</td>\n",
       "      <td>35.0</td>\n",
       "      <td>1</td>\n",
       "      <td>0</td>\n",
       "      <td>113803</td>\n",
       "      <td>53.1000</td>\n",
       "      <td>C123</td>\n",
       "      <td>S</td>\n",
       "    </tr>\n",
       "    <tr>\n",
       "      <th>4</th>\n",
       "      <td>5</td>\n",
       "      <td>0</td>\n",
       "      <td>3</td>\n",
       "      <td>Allen, Mr. William Henry</td>\n",
       "      <td>male</td>\n",
       "      <td>35.0</td>\n",
       "      <td>0</td>\n",
       "      <td>0</td>\n",
       "      <td>373450</td>\n",
       "      <td>8.0500</td>\n",
       "      <td>NaN</td>\n",
       "      <td>S</td>\n",
       "    </tr>\n",
       "  </tbody>\n",
       "</table>\n",
       "</div>"
      ],
      "text/plain": [
       "   PassengerId  Survived  Pclass  \\\n",
       "0            1         0       3   \n",
       "1            2         1       1   \n",
       "2            3         1       3   \n",
       "3            4         1       1   \n",
       "4            5         0       3   \n",
       "\n",
       "                                                Name     Sex   Age  SibSp  \\\n",
       "0                            Braund, Mr. Owen Harris    male  22.0      1   \n",
       "1  Cumings, Mrs. John Bradley (Florence Briggs Th...  female  38.0      1   \n",
       "2                             Heikkinen, Miss. Laina  female  26.0      0   \n",
       "3       Futrelle, Mrs. Jacques Heath (Lily May Peel)  female  35.0      1   \n",
       "4                           Allen, Mr. William Henry    male  35.0      0   \n",
       "\n",
       "   Parch            Ticket     Fare Cabin Embarked  \n",
       "0      0         A/5 21171   7.2500   NaN        S  \n",
       "1      0          PC 17599  71.2833   C85        C  \n",
       "2      0  STON/O2. 3101282   7.9250   NaN        S  \n",
       "3      0            113803  53.1000  C123        S  \n",
       "4      0            373450   8.0500   NaN        S  "
      ]
     },
     "execution_count": 65,
     "metadata": {},
     "output_type": "execute_result"
    }
   ],
   "source": [
    "df = pd.read_csv(r'F:\\datasets\\titanic.csv')\n",
    "df.head()"
   ]
  },
  {
   "cell_type": "code",
   "execution_count": 66,
   "id": "89eb9139",
   "metadata": {},
   "outputs": [
    {
     "data": {
      "text/plain": [
       "0                              Braund, Mr. Owen Harris\n",
       "1    Cumings, Mrs. John Bradley (Florence Briggs Th...\n",
       "2                               Heikkinen, Miss. Laina\n",
       "3         Futrelle, Mrs. Jacques Heath (Lily May Peel)\n",
       "4                             Allen, Mr. William Henry\n",
       "Name: Name, dtype: object"
      ]
     },
     "execution_count": 66,
     "metadata": {},
     "output_type": "execute_result"
    }
   ],
   "source": [
    "df['Name'].head()"
   ]
  },
  {
   "cell_type": "code",
   "execution_count": 69,
   "id": "9f3f4f27",
   "metadata": {},
   "outputs": [
    {
     "data": {
      "text/plain": [
       "['Allen, Mr', 'William Henry']"
      ]
     },
     "execution_count": 69,
     "metadata": {},
     "output_type": "execute_result"
    }
   ],
   "source": [
    "name = 'Allen, Mr.William Henry'\n",
    "name1 = name.split('.')\n",
    "name1"
   ]
  },
  {
   "cell_type": "code",
   "execution_count": 74,
   "id": "de17215a",
   "metadata": {},
   "outputs": [
    {
     "data": {
      "text/plain": [
       "['Allen', ' Mr']"
      ]
     },
     "execution_count": 74,
     "metadata": {},
     "output_type": "execute_result"
    }
   ],
   "source": [
    "name1[0].split(',')"
   ]
  },
  {
   "cell_type": "code",
   "execution_count": 71,
   "id": "233ab194",
   "metadata": {},
   "outputs": [
    {
     "data": {
      "text/plain": [
       "['Allen,', 'Mr', 'William', 'Henry']"
      ]
     },
     "execution_count": 71,
     "metadata": {},
     "output_type": "execute_result"
    }
   ],
   "source": [
    "name3 = re.split(r'[.\\s]', name)\n",
    "name3"
   ]
  },
  {
   "cell_type": "code",
   "execution_count": 75,
   "id": "06bb1e34",
   "metadata": {},
   "outputs": [
    {
     "data": {
      "text/plain": [
       " Mr              517\n",
       " Miss            182\n",
       " Mrs             125\n",
       " Master           40\n",
       " Dr                7\n",
       " Rev               6\n",
       " Mlle              2\n",
       " Major             2\n",
       " Col               2\n",
       " the Countess      1\n",
       " Capt              1\n",
       " Ms                1\n",
       " Sir               1\n",
       " Lady              1\n",
       " Mme               1\n",
       " Don               1\n",
       " Jonkheer          1\n",
       "Name: Name, dtype: int64"
      ]
     },
     "execution_count": 75,
     "metadata": {},
     "output_type": "execute_result"
    }
   ],
   "source": [
    "name_new = df['Name'].apply(lambda x: x.split('.')[0].split(',')[1])\n",
    "name_new.value_counts()"
   ]
  },
  {
   "cell_type": "code",
   "execution_count": 76,
   "id": "89512da8",
   "metadata": {},
   "outputs": [],
   "source": [
    "### This method might not work all the time therefore define a pattern and use regx"
   ]
  },
  {
   "cell_type": "code",
   "execution_count": 77,
   "id": "1c5b9c6b",
   "metadata": {},
   "outputs": [],
   "source": [
    "### regx\n",
    "\n",
    "def name_split(name):\n",
    "    return re.findall(\"\\w+\\.\", name)[0]"
   ]
  },
  {
   "cell_type": "code",
   "execution_count": 78,
   "id": "5df6bdd1",
   "metadata": {
    "scrolled": true
   },
   "outputs": [
    {
     "data": {
      "text/plain": [
       "Mr.          517\n",
       "Miss.        182\n",
       "Mrs.         125\n",
       "Master.       40\n",
       "Dr.            7\n",
       "Rev.           6\n",
       "Mlle.          2\n",
       "Major.         2\n",
       "Col.           2\n",
       "Countess.      1\n",
       "Capt.          1\n",
       "Ms.            1\n",
       "Sir.           1\n",
       "Lady.          1\n",
       "Mme.           1\n",
       "Don.           1\n",
       "Jonkheer.      1\n",
       "Name: Name, dtype: int64"
      ]
     },
     "execution_count": 78,
     "metadata": {},
     "output_type": "execute_result"
    }
   ],
   "source": [
    "name_new1 = df['Name'].apply(lambda x: name_split(x))\n",
    "name_new1.value_counts()"
   ]
  },
  {
   "cell_type": "markdown",
   "id": "634c70b7",
   "metadata": {},
   "source": [
    "# *******************************************************************************************"
   ]
  },
  {
   "cell_type": "markdown",
   "id": "b550f0b3",
   "metadata": {},
   "source": [
    "[Go to contents](#Contents)"
   ]
  }
 ],
 "metadata": {
  "kernelspec": {
   "display_name": "Python 3 (ipykernel)",
   "language": "python",
   "name": "python3"
  },
  "language_info": {
   "codemirror_mode": {
    "name": "ipython",
    "version": 3
   },
   "file_extension": ".py",
   "mimetype": "text/x-python",
   "name": "python",
   "nbconvert_exporter": "python",
   "pygments_lexer": "ipython3",
   "version": "3.10.9"
  }
 },
 "nbformat": 4,
 "nbformat_minor": 5
}
