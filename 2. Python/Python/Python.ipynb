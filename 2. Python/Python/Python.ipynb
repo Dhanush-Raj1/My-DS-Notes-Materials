{
 "cells": [
  {
   "cell_type": "markdown",
   "id": "d1f72c22",
   "metadata": {},
   "source": [
    "# Contents\n",
    " - [1. Print Statements](#1.-Print-Statements)\n",
    " - [2. New line - \\n](#2.-New-line---\\n)\n",
    " - [3. Indentation - \\t](#3.-Indentation---\\t)\n",
    " - [4. End parameter](#4.-End-Parameter)\n",
    " - [5. Input Function](#5.-Input-Function)\n",
    " - [6. Data Types ](#6.-Data-Types)\n",
    "    - [6.1 String](#6.1-String)\n",
    "    - [6.2 Integer](#6.2-Integer)\n",
    "    - [6.3 Float](#6.3-Float)\n",
    "    - [6.4 Boolean](#6.4-Boolean)\n",
    " - [7. Operators](#7.-Operators)\n",
    " - [8. Variable](#8.-Variable)\n",
    " - [9. Data Structures](#9.-Data-Structures)\n",
    "    - [9.1 Tuple](#9.1-Tuple)\n",
    "    - [9.2 List](#9.2-List)\n",
    "        - [9.2.1 List Comperhension](#9.2.1-List-Comperhension)\n",
    "    - [9.3 Dicionary](#9.3-Dictionary)\n",
    "    - [9.4 Set](#9.4-Set)\n",
    " - [10. Decision making statements](#10.-Decision-Making-Statements)\n",
    "    - [10.1 If statement](#10.1-If-Statement)\n",
    "    - [10.2 If-else statement](#10.2-If---else-Statement)\n",
    "    - [10.3 If-elif-else statement](#10.3-If---elif---else-Statement)\n",
    "    - [10.4 Nested-if Statement](#10.4-Nested---if-Statement)\n",
    " - [11. Looping Statement](#11.-Looping-Statements)\n",
    "    - [11.1 While Loop](#11.1-While-Loop)\n",
    "    - [11.2 For Loop](#11.2-For-Loop)\n",
    "    - [11.3. Enumerate Function](#11.3-Enumerate-Function)\n",
    " - [12. Functions](#12.-Functions)\n",
    "    - [12.1 Normal Functions](#12.1-Normal-Functions)\n",
    "    - [12.2 Lambda Functions](#12.2-Lambda-Functions)\n",
    " - [13. Class](#13.-Class)\n",
    "    - [13.1 Difference between '__init__' and regular method](#13.1-Difference-between--'-init-'--method-and-regular-method)\n",
    "    - [13.2 Inheritance](#13.2-Inheritance)\n",
    "    - [13.3 Types of Inheritance](#13.3-Types-of-Inheritance)\n",
    "        - [13.3.1 Multiple inheritance](#13.3.1-Multiple-inheritance)\n",
    "        - [13.3.2 Multi - level inheritance](#13.3.2-Multi---level-inheritance)\n",
    "            - [Multi - level inheritance without init](#Multi---level-inheritance-without-init)\n",
    "        - [13.3.3 Hybrid inheritance](#13.3.3.-Hybrid-inheritance)\n",
    " - [14. File Operations](#14.-File-Operations)\n",
    " - [15. Big O](#15.-Big-O)\n",
    " - [16. Stacks](#16.-Stacks)\n",
    " - [17. Basic Problems](#17.-Basic-Problems)  \n",
    " - [18. Advanced Problems](#18.-Advanced-Problems)\n",
    "     - [18.1 Ceaser Cipher](#18.1-Ceaser-Cipher)\n",
    "     - [18.2 Two-Sum](#18.2-Two-Sum)\n",
    "     - [18.3 Towers of Hanoi](#18.3-Towers-of-Hanoi)\n",
    "     - [18.4 Luhn Algorithm](#18.4-Luhn-Algorithm)\n",
    "     - [18.5 Search and Sort Algorithm](#18.5-Search-and-Sort-algorithm)\n",
    "     - [18.6 Rock, Paper, Scissor](#18.6-Rock,-Paper,-Scissor)\n"
   ]
  },
  {
   "cell_type": "code",
   "execution_count": 52,
   "id": "3433240e",
   "metadata": {},
   "outputs": [
    {
     "data": {
      "text/plain": [
       "'3.10.9'"
      ]
     },
     "execution_count": 52,
     "metadata": {},
     "output_type": "execute_result"
    }
   ],
   "source": [
    "#to check python version in jupyter \n",
    "\n",
    "from platform import python_version\n",
    "python_version()"
   ]
  },
  {
   "cell_type": "markdown",
   "id": "2aa128dc",
   "metadata": {},
   "source": [
    "# 1. Print Statements\n",
    "- Print statement is used to print the specified message given in the statement.\n",
    "- The message can be a string, int, float, boolean.\n",
    "- It can also be used to perform certain operations"
   ]
  },
  {
   "cell_type": "code",
   "execution_count": 1,
   "id": "8ce8600b",
   "metadata": {
    "lines_to_next_cell": 2
   },
   "outputs": [
    {
     "name": "stdout",
     "output_type": "stream",
     "text": [
      "Work every waking hour\n"
     ]
    }
   ],
   "source": [
    "print(\"Work every waking hour\")"
   ]
  },
  {
   "cell_type": "code",
   "execution_count": 2,
   "id": "04a575c3",
   "metadata": {
    "lines_to_next_cell": 2
   },
   "outputs": [
    {
     "name": "stdout",
     "output_type": "stream",
     "text": [
      "20000\n"
     ]
    }
   ],
   "source": [
    "print(20000)"
   ]
  },
  {
   "cell_type": "code",
   "execution_count": 3,
   "id": "4188b218",
   "metadata": {
    "lines_to_next_cell": 2
   },
   "outputs": [
    {
     "name": "stdout",
     "output_type": "stream",
     "text": [
      "2.3333333333333335\n"
     ]
    }
   ],
   "source": [
    "print(7/3)"
   ]
  },
  {
   "cell_type": "code",
   "execution_count": 4,
   "id": "bca938f1",
   "metadata": {},
   "outputs": [
    {
     "name": "stdout",
     "output_type": "stream",
     "text": [
      "2\n"
     ]
    }
   ],
   "source": [
    "print(7//3)        # // rounds off the value"
   ]
  },
  {
   "cell_type": "markdown",
   "id": "9d1c151a",
   "metadata": {},
   "source": [
    "# *******************************************************************************************"
   ]
  },
  {
   "cell_type": "markdown",
   "id": "1fa8c06e",
   "metadata": {},
   "source": [
    "# 2. New line - \\n\n",
    "- \\n condition is used to print a statement in a new line."
   ]
  },
  {
   "cell_type": "code",
   "execution_count": 5,
   "id": "7ef43b35",
   "metadata": {
    "lines_to_next_cell": 2
   },
   "outputs": [
    {
     "name": "stdout",
     "output_type": "stream",
     "text": [
      "My name is \n",
      "Raj\n"
     ]
    }
   ],
   "source": [
    "print(\"My name is \\nRaj\")"
   ]
  },
  {
   "cell_type": "code",
   "execution_count": 6,
   "id": "ab001996",
   "metadata": {},
   "outputs": [
    {
     "name": "stdout",
     "output_type": "stream",
     "text": [
      "My name is \n",
      " Raj\n"
     ]
    }
   ],
   "source": [
    "print(\"My name is \\n Raj\")           # there is a space in the output in the new line"
   ]
  },
  {
   "cell_type": "markdown",
   "id": "7c1c3e49",
   "metadata": {},
   "source": [
    "# *******************************************************************************************"
   ]
  },
  {
   "cell_type": "markdown",
   "id": "41db2865",
   "metadata": {},
   "source": [
    "# 3. Indentation - \\t\n",
    "- \\t represents a tab which is used to insert a tab space in a python code."
   ]
  },
  {
   "cell_type": "code",
   "execution_count": 7,
   "id": "9b67127d",
   "metadata": {
    "lines_to_next_cell": 2
   },
   "outputs": [
    {
     "name": "stdout",
     "output_type": "stream",
     "text": [
      "I'm a \tData Scientist\n"
     ]
    }
   ],
   "source": [
    "print(\"I'm a \\tData Scientist\")"
   ]
  },
  {
   "cell_type": "code",
   "execution_count": 8,
   "id": "3cde80ea",
   "metadata": {
    "lines_to_next_cell": 2
   },
   "outputs": [
    {
     "name": "stdout",
     "output_type": "stream",
     "text": [
      "Data scientist is the \n",
      "\tsexiest job of the 21th century.\n"
     ]
    }
   ],
   "source": [
    "print(\"Data scientist is the \\n\\tsexiest job of the 21th century.\")"
   ]
  },
  {
   "cell_type": "code",
   "execution_count": 9,
   "id": "a3385383",
   "metadata": {},
   "outputs": [
    {
     "name": "stdout",
     "output_type": "stream",
     "text": [
      "Focus on 'Building' yourself \n",
      "every \t//'single day'\\\\.\n"
     ]
    }
   ],
   "source": [
    "# Complex print statement\n",
    "\n",
    "print(\"Focus on 'Building' yourself \\nevery \\t//'single day'\\\\\\\\.\")"
   ]
  },
  {
   "cell_type": "markdown",
   "id": "572001df",
   "metadata": {},
   "source": [
    "# *******************************************************************************************"
   ]
  },
  {
   "cell_type": "markdown",
   "id": "736de53d",
   "metadata": {},
   "source": [
    "# 4. End Parameter \n",
    "- The 'end' parameter is used to fomate and control the output of a print statement.\n",
    "- It helps to add a new string or a condition to the print statement "
   ]
  },
  {
   "cell_type": "code",
   "execution_count": 10,
   "id": "02e90366",
   "metadata": {
    "lines_to_next_cell": 2
   },
   "outputs": [
    {
     "name": "stdout",
     "output_type": "stream",
     "text": [
      "Fight or be Forgotten\n"
     ]
    }
   ],
   "source": [
    "# concatenates multiple print statements without a new line.\n",
    "\n",
    "print(\"Fight or be\", end=' ')\n",
    "print(\"Forgotten\")"
   ]
  },
  {
   "cell_type": "code",
   "execution_count": 11,
   "id": "7e6c68c2",
   "metadata": {},
   "outputs": [
    {
     "name": "stdout",
     "output_type": "stream",
     "text": [
      "Its not over\n",
      "Until I WIN\n"
     ]
    }
   ],
   "source": [
    "# customize the line endings\n",
    "\n",
    "print(\"Its not over\", end='\\n')\n",
    "print(\"Until I WIN\")"
   ]
  },
  {
   "cell_type": "markdown",
   "id": "a68f1711",
   "metadata": {},
   "source": [
    "# *******************************************************************************************"
   ]
  },
  {
   "cell_type": "markdown",
   "id": "3b33b7cf",
   "metadata": {},
   "source": [
    "[Go to contents](#Contents)"
   ]
  },
  {
   "cell_type": "markdown",
   "id": "c746a859",
   "metadata": {},
   "source": [
    "# 5. Input Function\n",
    "- The 'input()' parameter is used to interactively prompt the user to input from the keyboard.\n",
    "- It allows the program to receive data or values entered by the user during runtime."
   ]
  },
  {
   "cell_type": "code",
   "execution_count": 12,
   "id": "1cbdc4ec",
   "metadata": {},
   "outputs": [
    {
     "name": "stdout",
     "output_type": "stream",
     "text": [
      "Enter your first name>>\tGold\n",
      "Enter your last name>>>\tD Roger\n",
      "Your full name is Gold D Roger\n"
     ]
    }
   ],
   "source": [
    "first_name = str(input(\"Enter your first name>>\\t\"))\n",
    "last_name = str(input(\"Enter your last name>>>\\t\"))\n",
    "print(\"Your full name is \" + first_name + ' ' + last_name )"
   ]
  },
  {
   "cell_type": "markdown",
   "id": "aec2c757",
   "metadata": {},
   "source": [
    "# 6. Data Types\n",
    "# 6.1 String\n",
    "- Strings are a set of charcters in python which enclosed with ' ' or \" \" or ''' '''.\n",
    "- A string can contain a number, letter, spaces, special characters as long as it is enclosed with a quotation.\n",
    "- Strings are immutuable."
   ]
  },
  {
   "cell_type": "code",
   "execution_count": 13,
   "id": "d6b7ab92",
   "metadata": {
    "lines_to_next_cell": 2
   },
   "outputs": [
    {
     "name": "stdout",
     "output_type": "stream",
     "text": [
      "King\n"
     ]
    }
   ],
   "source": [
    "str_1 = \"King\"\n",
    "print(str_1)"
   ]
  },
  {
   "cell_type": "code",
   "execution_count": 14,
   "id": "842fd40c",
   "metadata": {},
   "outputs": [
    {
     "name": "stdout",
     "output_type": "stream",
     "text": [
      "123_@\n"
     ]
    }
   ],
   "source": [
    "str_2 = \"123_@\"\n",
    "print(str_2)"
   ]
  },
  {
   "cell_type": "markdown",
   "id": "9e6df2cf",
   "metadata": {},
   "source": [
    " ## String Operations"
   ]
  },
  {
   "cell_type": "code",
   "execution_count": 15,
   "id": "a1c57169",
   "metadata": {
    "lines_to_next_cell": 2
   },
   "outputs": [
    {
     "data": {
      "text/plain": [
       "'KING'"
      ]
     },
     "execution_count": 15,
     "metadata": {},
     "output_type": "execute_result"
    }
   ],
   "source": [
    "# Uppercase\n",
    "\n",
    "str_1.upper()"
   ]
  },
  {
   "cell_type": "code",
   "execution_count": 16,
   "id": "e7f5f458",
   "metadata": {
    "lines_to_next_cell": 2
   },
   "outputs": [
    {
     "data": {
      "text/plain": [
       "'king'"
      ]
     },
     "execution_count": 16,
     "metadata": {},
     "output_type": "execute_result"
    }
   ],
   "source": [
    "# Lowercase\n",
    "\n",
    "str_1.lower()"
   ]
  },
  {
   "cell_type": "code",
   "execution_count": 17,
   "id": "ae1494c5",
   "metadata": {
    "lines_to_next_cell": 2
   },
   "outputs": [
    {
     "data": {
      "text/plain": [
       "'456_@'"
      ]
     },
     "execution_count": 17,
     "metadata": {},
     "output_type": "execute_result"
    }
   ],
   "source": [
    "# replacing \n",
    "\n",
    "str_2.replace('123', '456')"
   ]
  },
  {
   "cell_type": "code",
   "execution_count": 18,
   "id": "169c1ae7",
   "metadata": {
    "lines_to_next_cell": 2
   },
   "outputs": [
    {
     "data": {
      "text/plain": [
       "2"
      ]
     },
     "execution_count": 18,
     "metadata": {},
     "output_type": "execute_result"
    }
   ],
   "source": [
    "# counting \n",
    "\n",
    "str_3 = 'Hello Hello'\n",
    "str_3.count('o')"
   ]
  },
  {
   "cell_type": "code",
   "execution_count": 19,
   "id": "8de49d00",
   "metadata": {
    "lines_to_next_cell": 2
   },
   "outputs": [
    {
     "data": {
      "text/plain": [
       "2"
      ]
     },
     "execution_count": 19,
     "metadata": {},
     "output_type": "execute_result"
    }
   ],
   "source": [
    "# finding index number\n",
    "\n",
    "str_1.find('n')"
   ]
  },
  {
   "cell_type": "code",
   "execution_count": 53,
   "id": "097f7489",
   "metadata": {
    "lines_to_next_cell": 2
   },
   "outputs": [
    {
     "name": "stdout",
     "output_type": "stream",
     "text": [
      "[' There', 'is', 'a', 'massive', 'development', 'in', 'AI']\n",
      "['This', 'is', 'an', 'era', 'of', 'Artificial', 'Intelligence']\n"
     ]
    }
   ],
   "source": [
    "# splitting a string\n",
    "\n",
    "str_4 = \" There,is,a,massive,development,in,AI\"\n",
    "print(str_4.split(','))            # the output is a list\n",
    "\n",
    "string = 'This is an era of Artificial Intelligence'\n",
    "print(string.split(' '))"
   ]
  },
  {
   "cell_type": "code",
   "execution_count": 21,
   "id": "9410ccab",
   "metadata": {
    "lines_to_next_cell": 2
   },
   "outputs": [
    {
     "data": {
      "text/plain": [
       "\"Google's customer base is huge\""
      ]
     },
     "execution_count": 21,
     "metadata": {},
     "output_type": "execute_result"
    }
   ],
   "source": [
    "# Backslash to avoid confusion\n",
    "\n",
    "str_5 = 'Google\\'s customer base is huge'\n",
    "str_5"
   ]
  },
  {
   "cell_type": "code",
   "execution_count": 22,
   "id": "1b580742",
   "metadata": {
    "lines_to_next_cell": 2
   },
   "outputs": [
    {
     "data": {
      "text/plain": [
       "'This notebook\\ncovers the python topics \\nrequired for Data Science'"
      ]
     },
     "execution_count": 22,
     "metadata": {},
     "output_type": "execute_result"
    }
   ],
   "source": [
    "# multi line string,use ''' '''\n",
    "\n",
    "str_6 = '''This notebook\n",
    "covers the python topics \n",
    "required for Data Science'''\n",
    "str_6"
   ]
  },
  {
   "cell_type": "code",
   "execution_count": 24,
   "id": "5ff14d11",
   "metadata": {},
   "outputs": [
    {
     "data": {
      "text/plain": [
       "'a Science'"
      ]
     },
     "execution_count": 24,
     "metadata": {},
     "output_type": "execute_result"
    }
   ],
   "source": [
    "# slicing of a string\n",
    "# string slicing helps in extracting a specific part of a string  \n",
    "# [start:end:step]\n",
    "\n",
    "str_7 = 'Data Science'\n",
    "str_7[3:]"
   ]
  },
  {
   "cell_type": "markdown",
   "id": "d773dd72",
   "metadata": {},
   "source": [
    "# 6.2 Integers\n",
    "- Integer \"int\" data type represents whole numbers without any fractional part.\n",
    "- Integers can be positive or negative. "
   ]
  },
  {
   "cell_type": "code",
   "execution_count": 25,
   "id": "08bfd8a4",
   "metadata": {
    "lines_to_next_cell": 2
   },
   "outputs": [
    {
     "data": {
      "text/plain": [
       "100"
      ]
     },
     "execution_count": 25,
     "metadata": {},
     "output_type": "execute_result"
    }
   ],
   "source": [
    "int_1 = 100\n",
    "int_1"
   ]
  },
  {
   "cell_type": "code",
   "execution_count": 26,
   "id": "3c52ff18",
   "metadata": {},
   "outputs": [
    {
     "name": "stdout",
     "output_type": "stream",
     "text": [
      "-100\n",
      "<class 'int'>\n"
     ]
    }
   ],
   "source": [
    "int_2 = -100\n",
    "print(int_2)\n",
    "print(type(int_2))"
   ]
  },
  {
   "cell_type": "markdown",
   "id": "b0a6bd13",
   "metadata": {},
   "source": [
    "[Go to contents](#Contents)"
   ]
  },
  {
   "cell_type": "markdown",
   "id": "9cd7ab5a",
   "metadata": {},
   "source": [
    "# 6.3 Float\n",
    "- Floating point numbers or 'float' represents numbers with fractional part.\n",
    "- Floats are represented using a decimal point."
   ]
  },
  {
   "cell_type": "code",
   "execution_count": 27,
   "id": "3e33f548",
   "metadata": {
    "lines_to_next_cell": 2
   },
   "outputs": [
    {
     "data": {
      "text/plain": [
       "2.34"
      ]
     },
     "execution_count": 27,
     "metadata": {},
     "output_type": "execute_result"
    }
   ],
   "source": [
    "float_1 = 2.34\n",
    "float_1"
   ]
  },
  {
   "cell_type": "code",
   "execution_count": 28,
   "id": "cb7a6192",
   "metadata": {},
   "outputs": [
    {
     "name": "stdout",
     "output_type": "stream",
     "text": [
      "-1.111\n",
      "<class 'float'>\n"
     ]
    }
   ],
   "source": [
    "float_2 = -1.111\n",
    "print(float_2)\n",
    "print(type(float_2))"
   ]
  },
  {
   "cell_type": "markdown",
   "id": "ffe5c97d",
   "metadata": {},
   "source": [
    "# 6.4 Boolean \n",
    "- Boolean is a build-in data type that can have one of two values: \"True\" or \"False\"."
   ]
  },
  {
   "cell_type": "code",
   "execution_count": 29,
   "id": "48ea534c",
   "metadata": {
    "lines_to_next_cell": 2
   },
   "outputs": [
    {
     "data": {
      "text/plain": [
       "True"
      ]
     },
     "execution_count": 29,
     "metadata": {},
     "output_type": "execute_result"
    }
   ],
   "source": [
    "True"
   ]
  },
  {
   "cell_type": "code",
   "execution_count": 30,
   "id": "c0fbdae5",
   "metadata": {
    "lines_to_next_cell": 2
   },
   "outputs": [
    {
     "data": {
      "text/plain": [
       "False"
      ]
     },
     "execution_count": 30,
     "metadata": {},
     "output_type": "execute_result"
    }
   ],
   "source": [
    "False"
   ]
  },
  {
   "cell_type": "code",
   "execution_count": 31,
   "id": "1cd344cf",
   "metadata": {
    "lines_to_next_cell": 2
   },
   "outputs": [
    {
     "data": {
      "text/plain": [
       "True"
      ]
     },
     "execution_count": 31,
     "metadata": {},
     "output_type": "execute_result"
    }
   ],
   "source": [
    "not False"
   ]
  },
  {
   "cell_type": "code",
   "execution_count": 32,
   "id": "4ec72abc",
   "metadata": {
    "lines_to_next_cell": 2
   },
   "outputs": [
    {
     "data": {
      "text/plain": [
       "False"
      ]
     },
     "execution_count": 32,
     "metadata": {},
     "output_type": "execute_result"
    }
   ],
   "source": [
    "not True"
   ]
  },
  {
   "cell_type": "code",
   "execution_count": 33,
   "id": "189ec4f3",
   "metadata": {
    "lines_to_next_cell": 2
   },
   "outputs": [
    {
     "data": {
      "text/plain": [
       "True"
      ]
     },
     "execution_count": 33,
     "metadata": {},
     "output_type": "execute_result"
    }
   ],
   "source": [
    "True or not (7 > 3)   # print true or is 7 not greater than 3 \n",
    "                        # 7 is not lesser than 3, the statement is incorrect and therefore is prints True"
   ]
  },
  {
   "cell_type": "code",
   "execution_count": 34,
   "id": "669b9773",
   "metadata": {},
   "outputs": [
    {
     "data": {
      "text/plain": [
       "True"
      ]
     },
     "execution_count": 34,
     "metadata": {},
     "output_type": "execute_result"
    }
   ],
   "source": [
    "False or not(7 < 3)    # 7 is not lesser than 3, the statement is correct and it prints true "
   ]
  },
  {
   "cell_type": "code",
   "execution_count": 35,
   "id": "f1fb733a",
   "metadata": {},
   "outputs": [
    {
     "name": "stdout",
     "output_type": "stream",
     "text": [
      "1\n",
      "2\n"
     ]
    }
   ],
   "source": [
    "## Converting data types\n",
    "## int() functions converts a float to int by always downgrading the float value even if it is greater than .5\n",
    "\n",
    "a = 1.99\n",
    "print(int(a))\n",
    "\n",
    "## round() function can be used to round the value flexibily\n",
    "\n",
    "print(round(a))"
   ]
  },
  {
   "cell_type": "markdown",
   "id": "b5a61b00",
   "metadata": {},
   "source": [
    "# *******************************************************************************************"
   ]
  },
  {
   "cell_type": "markdown",
   "id": "ff782775",
   "metadata": {},
   "source": [
    "[Go to contents](#Contents)"
   ]
  },
  {
   "attachments": {
    "arithemetics%20shortcuts.png": {
     "image/png": "[encoded data removed]"
    }
   },
   "cell_type": "markdown",
   "id": "1aca3cec",
   "metadata": {},
   "source": [
    "# 7. Operators \n",
    "We can perform different operations on a variable .\n",
    "1. Arthimetic operations\n",
    "     - ' + '\n",
    "     - ' - '\n",
    "     - ' * ' \n",
    "     - ' / '\n",
    "     - ' % ' modulus (reminder)\n",
    "     - ' ** ' exponentiation (raising power to an int)\n",
    "     - **PEDMAS** - order of operations - Parantheses, exponentiation, Multiplication and division, addition and subtracion.  \n",
    "&nbsp;                    \n",
    "2. Relational Operations     \n",
    "     - ' < '\n",
    "     - ' > '\n",
    "     - ' == '\n",
    "     - ' != '  \n",
    "&nbsp;         \n",
    "3. Logical Operations\n",
    "     - ' and '                \n",
    "     - ' or '      \n",
    "     - ' not '  \n",
    "&nbsp;           \n",
    "4. Bitwise operations\n",
    "     - ' & '\n",
    "     - ' | '    \n",
    "     - At first intergers are converted into binary and then opertions are performed on each bit or corresponding pair of bits, hence the name bitwise operations.\n",
    "- Bitwise operators are used to manipulate individual bits within integer values.\n",
    "![arithemetics%20shortcuts.png](attachment:arithemetics%20shortcuts.png)"
   ]
  },
  {
   "cell_type": "code",
   "execution_count": 36,
   "id": "83071a1d",
   "metadata": {
    "lines_to_next_cell": 2
   },
   "outputs": [
    {
     "name": "stdout",
     "output_type": "stream",
     "text": [
      "4\n",
      "8.0\n"
     ]
    }
   ],
   "source": [
    "# arthimetic operations\n",
    "\n",
    "print(1 + 1 * 3)\n",
    "print(10 / (5 // 4) - 2 )"
   ]
  },
  {
   "cell_type": "code",
   "execution_count": 37,
   "id": "35379fcf",
   "metadata": {
    "lines_to_next_cell": 2
   },
   "outputs": [
    {
     "name": "stdout",
     "output_type": "stream",
     "text": [
      "False\n",
      "True\n",
      "True\n",
      "False\n"
     ]
    }
   ],
   "source": [
    "## Relational Operators and logical operators\n",
    "a=3\n",
    "b=6\n",
    "\n",
    "## and\n",
    "## will return True if both conditions are true\n",
    "print(a>3 and a<7)\n",
    "print(a==3 and a<6)\n",
    "\n",
    "## or\n",
    "## will return return true if any one condition is true\n",
    "print(a==3 or a<6)\n",
    "\n",
    "## not\n",
    "## return true if the given statement is false\n",
    "print(not(a==3))"
   ]
  },
  {
   "cell_type": "code",
   "execution_count": 38,
   "id": "a2e0a344",
   "metadata": {},
   "outputs": [
    {
     "name": "stdout",
     "output_type": "stream",
     "text": [
      "1\n",
      "-6\n"
     ]
    }
   ],
   "source": [
    "# bitwise operations\n",
    "# Performs a bitwise AND operation on corresponding bits of two operands. The result has a 1 in each bit position \n",
    "                                                                     # where both operands have a 1.\n",
    "a = 5            # Binary: 101\n",
    "b = 3            # Binary: 011\n",
    "result = a & b\n",
    "print(result)    # Output: 1 (Binary: 001)\n",
    "\n",
    "\n",
    "\n",
    "# Bitwise NOT (~): Performs a bitwise NOT operation on the bits of a single operand. It flips each bit, \n",
    "                                                        #converting 0 to 1 and 1 to 0.\n",
    "a_1 = 5  # Binary: 101\n",
    "result_1 = ~a_1\n",
    "print(result_1)  # Output: -6 (Binary: 11111111111111111111111111111010 in 2'"
   ]
  },
  {
   "cell_type": "markdown",
   "id": "0b9c571f",
   "metadata": {},
   "source": [
    "# *******************************************************************************************"
   ]
  },
  {
   "cell_type": "markdown",
   "id": "d6fed3d6",
   "metadata": {},
   "source": [
    "[Go to contents](#Contents)"
   ]
  },
  {
   "cell_type": "markdown",
   "id": "be240b02",
   "metadata": {},
   "source": [
    "# 8. Variable\n",
    "- Variables are a temporary storage spaces for storing values or data.\n",
    "- Letters, numbers, underscores can only be used for a variable name.\n",
    "- A variable name cannot start with a number or with a special character.\n",
    "- The values of a variable can be a string, int, float, boolean values.\n",
    "   - <font color=Blue>Variable1</font> \n",
    "   - <font color=blue>Variable_new</font> \n",
    "   - <font color=red>2variable</font> - Not applicable\n",
    "   - <font color=red>@variable</font> - Not applicable"
   ]
  },
  {
   "cell_type": "code",
   "execution_count": 39,
   "id": "40662b41",
   "metadata": {
    "lines_to_next_cell": 2
   },
   "outputs": [
    {
     "name": "stdout",
     "output_type": "stream",
     "text": [
      "Data Science\n"
     ]
    }
   ],
   "source": [
    "variable1 = \"Data Science\"\n",
    "print(variable1)                      "
   ]
  },
  {
   "cell_type": "code",
   "execution_count": 40,
   "id": "ce684fa3",
   "metadata": {
    "lines_to_next_cell": 2
   },
   "outputs": [
    {
     "name": "stdout",
     "output_type": "stream",
     "text": [
      "2003\n"
     ]
    }
   ],
   "source": [
    "variable_new = 2003\n",
    "print(variable_new)"
   ]
  },
  {
   "cell_type": "code",
   "execution_count": 41,
   "id": "30ad2c44",
   "metadata": {
    "lines_to_next_cell": 2
   },
   "outputs": [
    {
     "ename": "SyntaxError",
     "evalue": "invalid syntax (1182801915.py, line 1)",
     "output_type": "error",
     "traceback": [
      "\u001b[1;36m  File \u001b[1;32m\"C:\\Users\\Gokul\\AppData\\Local\\Temp\\ipykernel_7744\\1182801915.py\"\u001b[1;36m, line \u001b[1;32m1\u001b[0m\n\u001b[1;33m    2variable = \"Data Engineer\"          # variable name is not applicable\u001b[0m\n\u001b[1;37m     ^\u001b[0m\n\u001b[1;31mSyntaxError\u001b[0m\u001b[1;31m:\u001b[0m invalid syntax\n"
     ]
    }
   ],
   "source": [
    "2variable = \"Data Engineer\"          # variable name is not applicable\n",
    "print(2variable)"
   ]
  },
  {
   "cell_type": "code",
   "execution_count": 42,
   "id": "c134cc98",
   "metadata": {
    "scrolled": true
   },
   "outputs": [
    {
     "ename": "SyntaxError",
     "evalue": "invalid syntax (3815584156.py, line 1)",
     "output_type": "error",
     "traceback": [
      "\u001b[1;36m  File \u001b[1;32m\"C:\\Users\\Gokul\\AppData\\Local\\Temp\\ipykernel_7744\\3815584156.py\"\u001b[1;36m, line \u001b[1;32m1\u001b[0m\n\u001b[1;33m    @variable = \"Artificial Intelligence\"        # variable name is not applicable\u001b[0m\n\u001b[1;37m              ^\u001b[0m\n\u001b[1;31mSyntaxError\u001b[0m\u001b[1;31m:\u001b[0m invalid syntax\n"
     ]
    }
   ],
   "source": [
    "@variable = \"Artificial Intelligence\"        # variable name is not applicable\n",
    "print(@variable)"
   ]
  },
  {
   "cell_type": "markdown",
   "id": "aab92246",
   "metadata": {},
   "source": [
    "# *******************************************************************************************"
   ]
  },
  {
   "cell_type": "markdown",
   "id": "a00023d3",
   "metadata": {},
   "source": [
    "[Go to contents](#Contents)"
   ]
  },
  {
   "cell_type": "markdown",
   "id": "186bac57",
   "metadata": {},
   "source": [
    "# 9. Data Structures\n",
    "- Data structures are containers that allow you to organize and store data in different formats.\n",
    "- They provide efficient ways to manage and manipulate collection of values, allowing easy access, inserting, deletion and modification.\n",
    "\n",
    "# 9.1 Tuple\n",
    "- Tuples are a collection of elements enclosed with parantheses ().\n",
    "- Tuples can contain elements of different data types.\n",
    "- They are immutable."
   ]
  },
  {
   "cell_type": "code",
   "execution_count": 43,
   "id": "36ec6f28",
   "metadata": {
    "lines_to_next_cell": 2
   },
   "outputs": [
    {
     "name": "stdout",
     "output_type": "stream",
     "text": [
      "('Technology', 2023, False)\n",
      "<class 'tuple'>\n"
     ]
    }
   ],
   "source": [
    "tuple_1 = ('Technology', 2023, False)\n",
    "print(tuple_1)\n",
    "print(type(tuple_1))"
   ]
  },
  {
   "cell_type": "code",
   "execution_count": 44,
   "id": "c0324364",
   "metadata": {
    "scrolled": true
   },
   "outputs": [
    {
     "data": {
      "text/plain": [
       "('Technology',\n",
       " 2023,\n",
       " False,\n",
       " 'Technology',\n",
       " 2023,\n",
       " False,\n",
       " 'Technology',\n",
       " 2023,\n",
       " False)"
      ]
     },
     "execution_count": 44,
     "metadata": {},
     "output_type": "execute_result"
    }
   ],
   "source": [
    "tuple_1 * 3 "
   ]
  },
  {
   "cell_type": "markdown",
   "id": "0aa9e05a",
   "metadata": {},
   "source": [
    "# 9.2 List\n",
    "- Lists are a collection of elements enclosed with square brackets [].\n",
    "- Lists can contain elements of different data types.\n",
    "- Lists are mutuable."
   ]
  },
  {
   "cell_type": "code",
   "execution_count": 45,
   "id": "0f298925",
   "metadata": {
    "lines_to_next_cell": 2
   },
   "outputs": [
    {
     "name": "stdout",
     "output_type": "stream",
     "text": [
      "['Generative_AI', 2030, False]\n",
      "<class 'list'>\n"
     ]
    }
   ],
   "source": [
    "lst = ['Generative_AI', 2030, False]\n",
    "\n",
    "print(lst)\n",
    "print(type(lst))"
   ]
  },
  {
   "cell_type": "code",
   "execution_count": 46,
   "id": "b8449bda",
   "metadata": {
    "lines_to_next_cell": 2
   },
   "outputs": [
    {
     "name": "stdout",
     "output_type": "stream",
     "text": [
      "['Generative_AI', 2023, False]\n"
     ]
    }
   ],
   "source": [
    "# modifying a list\n",
    "\n",
    "lst[1] = 2023\n",
    "print(lst)"
   ]
  },
  {
   "cell_type": "code",
   "execution_count": 47,
   "id": "57e4654e",
   "metadata": {
    "lines_to_next_cell": 2
   },
   "outputs": [
    {
     "name": "stdout",
     "output_type": "stream",
     "text": [
      "['Generative_AI', 2023, False, 'OpenAI']\n"
     ]
    }
   ],
   "source": [
    "# adding new element\n",
    "\n",
    "lst.append('OpenAI')\n",
    "print(lst)"
   ]
  },
  {
   "cell_type": "code",
   "execution_count": 48,
   "id": "164ace5e",
   "metadata": {
    "lines_to_next_cell": 2
   },
   "outputs": [
    {
     "name": "stdout",
     "output_type": "stream",
     "text": [
      "['Generative_AI', 2023, 'OpenAI']\n"
     ]
    }
   ],
   "source": [
    "# deleting an element \n",
    "\n",
    "lst.pop(2)     ## remove() function can also be used\n",
    "print(lst)     ## del(lst[index]) can also be used "
   ]
  },
  {
   "cell_type": "code",
   "execution_count": 49,
   "id": "848558d3",
   "metadata": {
    "lines_to_next_cell": 2
   },
   "outputs": [
    {
     "name": "stdout",
     "output_type": "stream",
     "text": [
      "['OpenAI', 2023, 'Generative_AI']\n"
     ]
    }
   ],
   "source": [
    "# reversing a list\n",
    "\n",
    "lst.reverse()\n",
    "print(lst)"
   ]
  },
  {
   "cell_type": "code",
   "execution_count": 50,
   "id": "36593675",
   "metadata": {
    "lines_to_next_cell": 2
   },
   "outputs": [
    {
     "name": "stdout",
     "output_type": "stream",
     "text": [
      "['OpenAI', 2023, 'Generative_AI', 'Technology']\n"
     ]
    }
   ],
   "source": [
    "# inserting new elements\n",
    "\n",
    "lst.insert(3, 'Technology')   # inserting 'technology' at index 3\n",
    "print(lst)"
   ]
  },
  {
   "cell_type": "code",
   "execution_count": 51,
   "id": "89abec79",
   "metadata": {
    "lines_to_next_cell": 2
   },
   "outputs": [
    {
     "data": {
      "text/plain": [
       "[19, 29, 39, 49]"
      ]
     },
     "execution_count": 51,
     "metadata": {},
     "output_type": "execute_result"
    }
   ],
   "source": [
    "# sorting a list\n",
    "\n",
    "lst_1 = [29, 39, 19, 49]\n",
    "lst_1.sort()      # sorts in ascending order \n",
    "lst_1"
   ]
  },
  {
   "cell_type": "code",
   "execution_count": 52,
   "id": "81758dfb",
   "metadata": {
    "lines_to_next_cell": 2
   },
   "outputs": [
    {
     "name": "stdout",
     "output_type": "stream",
     "text": [
      "Generative_AI\n",
      "Generative_AI\n"
     ]
    }
   ],
   "source": [
    "# indexing \n",
    "\n",
    "print(lst[2])       # positive indexing \n",
    "print(lst[-2])      # negative indexing"
   ]
  },
  {
   "cell_type": "code",
   "execution_count": 53,
   "id": "db895b12",
   "metadata": {},
   "outputs": [
    {
     "name": "stdout",
     "output_type": "stream",
     "text": [
      "['OpenAI', 'Generative_AI']\n",
      "[29, 39]\n"
     ]
    }
   ],
   "source": [
    "# slicing \n",
    " \n",
    "print(lst[0::2])       # print elements from 0 index till the end by selecting every 2 element [start:end:step]\n",
    "print(lst_1[1:3])"
   ]
  },
  {
   "cell_type": "markdown",
   "id": "8ac260b2",
   "metadata": {},
   "source": [
    "# 9.2.1 List Comperhension"
   ]
  },
  {
   "cell_type": "code",
   "execution_count": 37,
   "id": "2269efbd",
   "metadata": {},
   "outputs": [
    {
     "name": "stdout",
     "output_type": "stream",
     "text": [
      "[1, 4, 9, 16, 25, 36, 49, 64, 81, 100]\n"
     ]
    }
   ],
   "source": [
    "list_1 = [x**2 for x in range(1,11)]         ## takes only one line of code\n",
    "print(list_1) "
   ]
  },
  {
   "cell_type": "code",
   "execution_count": 38,
   "id": "299311fc",
   "metadata": {},
   "outputs": [
    {
     "name": "stdout",
     "output_type": "stream",
     "text": [
      "[1, 4, 9, 16, 25, 36, 49, 64, 81, 100]\n"
     ]
    }
   ],
   "source": [
    "m = []                                       ## takes multiple line for the same output, this is the power of comperhension\n",
    "for x in range(1,11):\n",
    "    m.append(x**2)\n",
    "print(m)"
   ]
  },
  {
   "cell_type": "markdown",
   "id": "d5f833c0",
   "metadata": {},
   "source": [
    "# 9.3 Dictionary\n",
    "- Dictionary is an unordered collection of key - value pairs enclosed with style brackets {}.\n",
    "- Dictionary is mutuable.\n",
    "- The key of the values should unique and can be used during indexing.\n",
    "- The key of the dictionary can be string, int, float. The value of the dictionary can be of any data types string, int, float, boolean, even lists and dictionaries.\n",
    "- If identical key is used for two or more values, python stores only the first key and last value.\n",
    "- Boolean and integers should not be mixed together. As python converts True to 1 and False to 0, if gets mingled with integers and python will only keep first key and last value. "
   ]
  },
  {
   "cell_type": "code",
   "execution_count": 54,
   "id": "94fc150c",
   "metadata": {
    "lines_to_next_cell": 2
   },
   "outputs": [
    {
     "data": {
      "text/plain": [
       "{'India': 'Delhi', 'Population': 140285477, 'Rupee': True}"
      ]
     },
     "execution_count": 54,
     "metadata": {},
     "output_type": "execute_result"
    }
   ],
   "source": [
    "dic = {'India' : 'Delhi', 'Population' : 140285477, 'Rupee' : True}\n",
    "dic"
   ]
  },
  {
   "cell_type": "code",
   "execution_count": 55,
   "id": "1b15d45b",
   "metadata": {
    "lines_to_next_cell": 2
   },
   "outputs": [
    {
     "data": {
      "text/plain": [
       "dict_keys(['India', 'Population', 'Rupee'])"
      ]
     },
     "execution_count": 55,
     "metadata": {},
     "output_type": "execute_result"
    }
   ],
   "source": [
    "# extracting only keys \n",
    "\n",
    "dic.keys()"
   ]
  },
  {
   "cell_type": "code",
   "execution_count": 56,
   "id": "176d24e2",
   "metadata": {
    "lines_to_next_cell": 2
   },
   "outputs": [
    {
     "data": {
      "text/plain": [
       "dict_values(['Delhi', 140285477, True])"
      ]
     },
     "execution_count": 56,
     "metadata": {},
     "output_type": "execute_result"
    }
   ],
   "source": [
    "# extracting only values\n",
    "\n",
    "dic.values()"
   ]
  },
  {
   "cell_type": "code",
   "execution_count": 57,
   "id": "f8583a71",
   "metadata": {
    "lines_to_next_cell": 2
   },
   "outputs": [
    {
     "data": {
      "text/plain": [
       "{'India': 'Delhi', 'Population': 140285477, 'Rupee': True, 'GDP': '3 Trillion'}"
      ]
     },
     "execution_count": 57,
     "metadata": {},
     "output_type": "execute_result"
    }
   ],
   "source": [
    "# adding new element\n",
    "\n",
    "dic['GDP'] = '3 Trillion'\n",
    "dic"
   ]
  },
  {
   "cell_type": "code",
   "execution_count": 58,
   "id": "4dd3d69c",
   "metadata": {
    "lines_to_next_cell": 2
   },
   "outputs": [
    {
     "data": {
      "text/plain": [
       "{'India': 'Delhi', 'Population': 140285477, 'GDP': '3 Trillion'}"
      ]
     },
     "execution_count": 58,
     "metadata": {},
     "output_type": "execute_result"
    }
   ],
   "source": [
    "# deleting a element\n",
    "\n",
    "dic.pop('Rupee')\n",
    "dic"
   ]
  },
  {
   "cell_type": "code",
   "execution_count": 59,
   "id": "10d85f34",
   "metadata": {},
   "outputs": [
    {
     "data": {
      "text/plain": [
       "{'United kingdom': 'London',\n",
       " 'United States': 'Washington D C',\n",
       " 'Japan': 'Tokyo',\n",
       " 'China': 'Bejing',\n",
       " 'Russia': 'Moscow'}"
      ]
     },
     "execution_count": 59,
     "metadata": {},
     "output_type": "execute_result"
    }
   ],
   "source": [
    "# concatenating two dictionaries\n",
    "\n",
    "dic_1 = {'United kingdom' : 'London', 'United States' : 'Washington D C'}\n",
    "dic_2 = {'Japan' : 'Tokyo', 'China' : 'Bejing', 'Russia' : 'Moscow'}\n",
    "\n",
    "dic_1.update(dic_2)\n",
    "dic_1"
   ]
  },
  {
   "cell_type": "code",
   "execution_count": 34,
   "id": "0e30bcd6",
   "metadata": {},
   "outputs": [],
   "source": [
    "# dictionary with list and a dictionary as its values\n",
    "\n",
    "# dictionary with a list\n",
    "dic = {'dhanush':100, 'raj':100, 'zoro':99, 'Shanks':[101,102,103]}\n",
    "\n",
    "# dictionary with a dic \n",
    "new_dic = {'dhanush':{'marks':100, 'place':'Chennai'},\n",
    "           'shanks':{'marks':200,'place':'New world'} }"
   ]
  },
  {
   "cell_type": "code",
   "execution_count": 33,
   "id": "e906897f",
   "metadata": {},
   "outputs": [
    {
     "name": "stdout",
     "output_type": "stream",
     "text": [
      "dhanush {'marks': 100, 'place': 'Chennai'}\n",
      "shanks {'marks': 200, 'place': 'New world'}\n"
     ]
    }
   ],
   "source": [
    "for k,v in new_dic.items():\n",
    "    print(k,v)"
   ]
  },
  {
   "cell_type": "code",
   "execution_count": 36,
   "id": "3008a0ce",
   "metadata": {},
   "outputs": [
    {
     "name": "stdout",
     "output_type": "stream",
     "text": [
      "dhanush marks is 100 and he is staying in Chennai\n",
      "shanks marks is 200 and he is staying in New world\n"
     ]
    }
   ],
   "source": [
    "for key,value in new_dic.items():\n",
    "    print(f'{key} marks is {value[\"marks\"]} and he is staying in {value[\"place\"]}')"
   ]
  },
  {
   "cell_type": "code",
   "execution_count": 46,
   "id": "d36bfce4",
   "metadata": {},
   "outputs": [
    {
     "name": "stdout",
     "output_type": "stream",
     "text": [
      "('dhanush', 'raj', 'zoro', 'Shanks') (100, 100, 99, [101, 102, 103])\n",
      "<class 'tuple'> <class 'tuple'>\n"
     ]
    }
   ],
   "source": [
    "# zip function is used to seperate key, value pair\n",
    "\n",
    "key,value = zip(*dic.items())\n",
    "print(key,value)\n",
    "print(type(key), type(value))"
   ]
  },
  {
   "cell_type": "code",
   "execution_count": 42,
   "id": "1430bc2a",
   "metadata": {},
   "outputs": [
    {
     "data": {
      "text/plain": [
       "[(1, 'a'), (2, 'b'), (3, 'c'), (4, 'd'), (5, 'e')]"
      ]
     },
     "execution_count": 42,
     "metadata": {},
     "output_type": "execute_result"
    }
   ],
   "source": [
    "# zip function also takes two different lists and creats a new list\n",
    "\n",
    "list_1 = [1,2,3,4,5]\n",
    "list_2 = ['a','b','c','d','e']\n",
    "new_list = list(zip(list_1,list_2))            ## note '*' symbol is not used while creating\n",
    "new_list"
   ]
  },
  {
   "cell_type": "markdown",
   "id": "f62b9f18",
   "metadata": {},
   "source": [
    "# 9.4 Set\n",
    "- Sets are unordered and unindexed collection of elements enclosed with { }.\n",
    "- Sets are mutuable. \n",
    "- Duplicates are not allowed in a set."
   ]
  },
  {
   "cell_type": "code",
   "execution_count": 70,
   "id": "003e6365",
   "metadata": {
    "lines_to_next_cell": 2
   },
   "outputs": [
    {
     "name": "stdout",
     "output_type": "stream",
     "text": [
      "{False, True, 4, 7, 'Victor'}\n",
      "<class 'set'>\n"
     ]
    }
   ],
   "source": [
    "set_1 = {'Victor', 4, True, 7, False}\n",
    "print(set_1)                             # the order of the elements in the output is different compared to the input \n",
    "print(type(set_1))                                    # as sets are unordered and unindexed"
   ]
  },
  {
   "cell_type": "code",
   "execution_count": 61,
   "id": "3626dfda",
   "metadata": {
    "lines_to_next_cell": 2
   },
   "outputs": [
    {
     "data": {
      "text/plain": [
       "{4, 7, False, 'Greatness', True, 'Victor'}"
      ]
     },
     "execution_count": 61,
     "metadata": {},
     "output_type": "execute_result"
    }
   ],
   "source": [
    "# adding a new element\n",
    "\n",
    "set_1.add('Greatness')\n",
    "set_1"
   ]
  },
  {
   "cell_type": "code",
   "execution_count": 62,
   "id": "fc38d55d",
   "metadata": {
    "lines_to_next_cell": 2
   },
   "outputs": [
    {
     "data": {
      "text/plain": [
       "{4, 5, 7, False, 'Greatness', True, 'Victor', 'Warrior'}"
      ]
     },
     "execution_count": 62,
     "metadata": {},
     "output_type": "execute_result"
    }
   ],
   "source": [
    "# adding multiple elemetns\n",
    "\n",
    "set_1.update([True, 'Warrior', 5])\n",
    "set_1"
   ]
  },
  {
   "cell_type": "code",
   "execution_count": 63,
   "id": "41152ca5",
   "metadata": {
    "lines_to_next_cell": 2
   },
   "outputs": [
    {
     "data": {
      "text/plain": [
       "{4, 5, 7, 'Greatness', True, 'Victor', 'Warrior'}"
      ]
     },
     "execution_count": 63,
     "metadata": {},
     "output_type": "execute_result"
    }
   ],
   "source": [
    "# removing an element \n",
    "\n",
    "set_1.remove(False)\n",
    "set_1"
   ]
  },
  {
   "cell_type": "code",
   "execution_count": 72,
   "id": "5f7f30b4",
   "metadata": {
    "lines_to_next_cell": 2
   },
   "outputs": [
    {
     "data": {
      "text/plain": [
       "{3, 4, 7, False, 'Power', True, 'Victor'}"
      ]
     },
     "execution_count": 72,
     "metadata": {},
     "output_type": "execute_result"
    }
   ],
   "source": [
    "# concatenating two sets \n",
    "\n",
    "set_2 = {'Power', 3, True}        # there is only one true in the output as duplicates is not applicable\n",
    "set_1.union(set_2)"
   ]
  },
  {
   "cell_type": "code",
   "execution_count": 75,
   "id": "ffa9b3e7",
   "metadata": {},
   "outputs": [
    {
     "name": "stdout",
     "output_type": "stream",
     "text": [
      "{True}\n"
     ]
    }
   ],
   "source": [
    "# intersection \n",
    "# only the common element from the sets are added\n",
    "\n",
    "print(set_1.intersection(set_2))"
   ]
  },
  {
   "cell_type": "code",
   "execution_count": 79,
   "id": "d76770f9",
   "metadata": {},
   "outputs": [
    {
     "name": "stdout",
     "output_type": "stream",
     "text": [
      "<class 'set'>\n",
      "{5, 6, 7}\n",
      "{0, 1, 2, 3, 4, 5, 6, 7, 11, 12, 13, 14, 15}\n",
      "{0, 1, 2, 3, 4}\n",
      "{0, 1, 2, 3, 4, 11, 12, 13, 14, 15}\n"
     ]
    }
   ],
   "source": [
    "# Set operations using bitwise operators\n",
    "A = [0,1,2,2,3,3,4,4,5,5,6,6,7,7]\n",
    "B = [5,5,6,6,7,7,11,12,12,12,13,13,14,15]\n",
    "\n",
    "A = set(A)\n",
    "B = set(B)\n",
    "\n",
    "print(type(A))\n",
    "\n",
    "\n",
    "# intersection\n",
    "print(A & B)\n",
    "\n",
    "\n",
    "# union\n",
    "print(A | B)\n",
    "\n",
    "\n",
    "# differences\n",
    "print(A - B)\n",
    "\n",
    "\n",
    "# systematic difference (unique elements)\n",
    "print(A ^ B)"
   ]
  },
  {
   "cell_type": "markdown",
   "id": "9b66d811",
   "metadata": {},
   "source": [
    "# *******************************************************************************************"
   ]
  },
  {
   "cell_type": "markdown",
   "id": "5e033fad",
   "metadata": {},
   "source": [
    "[Go to contents](#Contents)"
   ]
  },
  {
   "cell_type": "markdown",
   "id": "67675ed5",
   "metadata": {},
   "source": [
    "# 10. Decision Making Statements\n",
    "- Decision making statements are those that decides whether to execute a specific statement or not based on certain conditions.\n",
    "- If the condition is met then the statement is executed and if the condition is not met the statement is not executed or some other statement is executed.\n",
    "- The decision making statements in python are:\n",
    "   - If statement\n",
    "   - If-else statement\n",
    "   - If-elif-else statement\n",
    "   - Nested-if statement\n",
    "   - Ternary operator"
   ]
  },
  {
   "cell_type": "markdown",
   "id": "25af8fdd",
   "metadata": {},
   "source": [
    "# 10.1 If Statement"
   ]
  },
  {
   "cell_type": "code",
   "execution_count": 66,
   "id": "cd39d8c6",
   "metadata": {},
   "outputs": [
    {
     "name": "stdout",
     "output_type": "stream",
     "text": [
      "Enter your age:\t18\n",
      "You are an adult\n"
     ]
    }
   ],
   "source": [
    "age = int(input(\"Enter your age:\\t\"))\n",
    "if age == 18:\n",
    "    print(\"You are an adult\")"
   ]
  },
  {
   "cell_type": "markdown",
   "id": "a975708e",
   "metadata": {},
   "source": [
    "# 10.2 If - else Statement"
   ]
  },
  {
   "cell_type": "code",
   "execution_count": 68,
   "id": "83103aeb",
   "metadata": {},
   "outputs": [
    {
     "name": "stdout",
     "output_type": "stream",
     "text": [
      "Enter your age:\t10\n",
      "You are not an adult\n"
     ]
    }
   ],
   "source": [
    "age = int(input(\"Enter your age:\\t\"))\n",
    "if age >= 18:\n",
    "    print(\"You are an adult\")\n",
    "    \n",
    "else:\n",
    "    print(\"You are not an adult\")"
   ]
  },
  {
   "cell_type": "markdown",
   "id": "ad4a73ae",
   "metadata": {},
   "source": [
    "# 10.3 If - elif - else Statement"
   ]
  },
  {
   "cell_type": "code",
   "execution_count": 69,
   "id": "a230e2e6",
   "metadata": {
    "lines_to_next_cell": 2
   },
   "outputs": [
    {
     "name": "stdout",
     "output_type": "stream",
     "text": [
      "Enter your Age:\t20\n",
      "You are an adult\n"
     ]
    }
   ],
   "source": [
    "age = int(input(\"Enter your Age:\\t\"))\n",
    "if age == 10 or age < 16:\n",
    "    print(\"You are a teen\")\n",
    "\n",
    "elif age == 18 or age < 25:\n",
    "    print(\"You are an adult\")\n",
    "    \n",
    "else:\n",
    "    print(\"You are not an adult\")"
   ]
  },
  {
   "cell_type": "code",
   "execution_count": 70,
   "id": "26414f99",
   "metadata": {},
   "outputs": [
    {
     "name": "stdout",
     "output_type": "stream",
     "text": [
      "Guess a number:\t5\n",
      "Wrong, the number is far away\n"
     ]
    }
   ],
   "source": [
    "secret = 1\n",
    "guess = input('Guess a number:\\t')\n",
    "if guess.isdigit():            ## if guess is digit then convert it in to an int\n",
    "    guess = int(guess)\n",
    "    if guess == 1:\n",
    "        print('Awesome thats correct')\n",
    "    elif guess == 2:\n",
    "        print('that\\'s too close')\n",
    "    elif guess == 3:\n",
    "        print('Sorry try again')\n",
    "    else:\n",
    "        print('Wrong, the number is far away')\n",
    "else:\n",
    "    print('Thats not even an integer')"
   ]
  },
  {
   "cell_type": "markdown",
   "id": "e0106344",
   "metadata": {},
   "source": [
    "# 10.4 Nested - if Statement"
   ]
  },
  {
   "cell_type": "code",
   "execution_count": 73,
   "id": "ab682e72",
   "metadata": {
    "scrolled": true
   },
   "outputs": [
    {
     "name": "stdout",
     "output_type": "stream",
     "text": [
      "Enter a number:\t4\n",
      "Enter a number:\t4\n",
      "X is a positive number\n",
      "Y is also a positive number\n"
     ]
    }
   ],
   "source": [
    "# if statement inside an if statement \n",
    "\n",
    "x = input(\"Enter a number:\\t\")\n",
    "y = input(\"Enter a number:\\t\")\n",
    "\n",
    "if x.isdigit():         # converting the digit into int\n",
    "    x = int(x)\n",
    "    \n",
    "if y.isdigit():\n",
    "    y = int(y)\n",
    "      \n",
    "if isinstance(x, int) and x > 0:                # isinstance() checks that x & y have successfully converted into intergers\n",
    "    print(\"X is a positive number\")            # isinstance() takes two arguments, variable to be checked and the data type\n",
    "    \n",
    "    if isinstance(y, int) and y > 0:\n",
    "        print(\"Y is also a positive number\")\n",
    "    else:\n",
    "        print(\"Y is not a positive number\")\n",
    "        \n",
    "else:\n",
    "    print(\"X is not a positive number\")"
   ]
  },
  {
   "cell_type": "markdown",
   "id": "2b0c71c6",
   "metadata": {},
   "source": [
    "# *******************************************************************************************"
   ]
  },
  {
   "cell_type": "markdown",
   "id": "7f2ccea0",
   "metadata": {},
   "source": [
    "[Go to Contents](#Contents)"
   ]
  },
  {
   "cell_type": "markdown",
   "id": "f73b9616",
   "metadata": {},
   "source": [
    "# 11. Looping Statements \n",
    "- Looping statements helps you to repeatedly execute a block of code based on some conditions or for a certain number of times.\n",
    "- Looping statements are used to repeat a task multiple times until the condition is true\n",
    "\n",
    "## 11.1 While Loop\n",
    "- While loop repeats a block of code untill the condition is true."
   ]
  },
  {
   "cell_type": "code",
   "execution_count": 74,
   "id": "57599ec0",
   "metadata": {
    "lines_to_next_cell": 2
   },
   "outputs": [
    {
     "name": "stdout",
     "output_type": "stream",
     "text": [
      "1\n",
      "2\n",
      "3\n",
      "4\n",
      "5\n",
      "6\n",
      "7\n",
      "8\n",
      "9\n",
      "10\n"
     ]
    }
   ],
   "source": [
    "i = 1\n",
    "while i <= 10:\n",
    "    print(i)\n",
    "    i = i + 1     # adding i with 1 and printing it until i <= 10"
   ]
  },
  {
   "cell_type": "code",
   "execution_count": 75,
   "id": "008e5a12",
   "metadata": {
    "lines_to_next_cell": 2
   },
   "outputs": [
    {
     "name": "stdout",
     "output_type": "stream",
     "text": [
      "1 * 2 = 2\n",
      "2 * 2 = 4\n",
      "3 * 2 = 6\n",
      "4 * 2 = 8\n",
      "5 * 2 = 10\n",
      "6 * 2 = 12\n",
      "7 * 2 = 14\n",
      "8 * 2 = 16\n",
      "9 * 2 = 18\n",
      "10 * 2 = 20\n"
     ]
    }
   ],
   "source": [
    "i = 1 \n",
    "n = 2\n",
    "while i <= 10:\n",
    "    print(i, \"*\", n, \"=\", i*n)        # adding i with 1 and multiplying i with n till i <= 10\n",
    "    i = i + 1"
   ]
  },
  {
   "cell_type": "code",
   "execution_count": 76,
   "id": "b7de46b7",
   "metadata": {
    "lines_to_next_cell": 2
   },
   "outputs": [
    {
     "name": "stdout",
     "output_type": "stream",
     "text": [
      "[101, 2, 3, 4, 5]\n",
      "[101, 102, 3, 4, 5]\n",
      "[101, 102, 103, 4, 5]\n",
      "[101, 102, 103, 104, 5]\n",
      "[101, 102, 103, 104, 105]\n"
     ]
    }
   ],
   "source": [
    "# while statement with list\n",
    "\n",
    "lst = [1, 2, 3, 4, 5]\n",
    "i = 0 \n",
    "while i < len(lst):\n",
    "    lst[i] = lst[i] + 100     # each element in the lst will be added with 100 untill i < 5\n",
    "    i = i + 1\n",
    "    print(lst)"
   ]
  },
  {
   "cell_type": "markdown",
   "id": "becea104",
   "metadata": {},
   "source": [
    "# 11.2 For Loop\n",
    "- For loop is used to iterate over a sequence of list or tuple or dictionary."
   ]
  },
  {
   "cell_type": "code",
   "execution_count": 77,
   "id": "272e8f58",
   "metadata": {
    "lines_to_next_cell": 2
   },
   "outputs": [
    {
     "name": "stdout",
     "output_type": "stream",
     "text": [
      "one\n",
      "two\n",
      "3\n",
      "four\n"
     ]
    }
   ],
   "source": [
    "# for loop with list\n",
    "\n",
    "lst_1 = ['one', 'two', 3, 'four']\n",
    "for i in lst_1:\n",
    "    print(i)"
   ]
  },
  {
   "cell_type": "code",
   "execution_count": 79,
   "id": "436bd1a3",
   "metadata": {},
   "outputs": [
    {
     "name": "stdout",
     "output_type": "stream",
     "text": [
      "Artifical Intelligence\n",
      "Artifical AI\n",
      "Generative Intelligence\n",
      "Generative AI\n"
     ]
    }
   ],
   "source": [
    "# nested for loop\n",
    "\n",
    "lst_one = ['Artifical', 'Generative']\n",
    "lst_two = ['Intelligence', 'AI']\n",
    "for i in lst_one:\n",
    "    for j in lst_two:     # first loop of lst_two will end and then the loop of lst_one will end, as lst_two is within lst_one\n",
    "        print(i,j)"
   ]
  },
  {
   "cell_type": "markdown",
   "id": "92d824b4",
   "metadata": {},
   "source": [
    "[Go to contents](#Contents)"
   ]
  },
  {
   "cell_type": "markdown",
   "id": "3ca67684",
   "metadata": {},
   "source": [
    "# 11.3 Enumerate Function\n",
    "- Enumerate() function is a buildin function which is used to iterate over a sequence of list, tuple, string without using the len or range functions"
   ]
  },
  {
   "cell_type": "code",
   "execution_count": 29,
   "id": "fe58a14f",
   "metadata": {},
   "outputs": [
    {
     "name": "stdout",
     "output_type": "stream",
     "text": [
      "0 b\n",
      "1 b\n",
      "2 b\n",
      "3 b\n",
      "4 b\n",
      "5 b\n",
      "6 b\n",
      "7 b\n",
      "8 b\n",
      "9 b\n",
      "10 b\n",
      "11 b\n",
      "12 b\n",
      "13 b\n",
      "14 b\n",
      "15 b\n",
      "16 b\n",
      "17 b\n",
      "18 b\n",
      "19 b\n",
      "20 b\n",
      "21 b\n",
      "22 b\n",
      "23 b\n",
      "24 b\n",
      "25 b\n"
     ]
    }
   ],
   "source": [
    "# len, range functions\n",
    "\n",
    "alphabets = 'abcdefghijklmnopqrstuvwxyz'\n",
    "alpha_list = list(alphabets)\n",
    "for i in range(len(alpha_list)):\n",
    "    print(i, alpha_list[1])"
   ]
  },
  {
   "cell_type": "code",
   "execution_count": 30,
   "id": "4ceb7993",
   "metadata": {},
   "outputs": [
    {
     "name": "stdout",
     "output_type": "stream",
     "text": [
      "0 a\n",
      "1 b\n",
      "2 c\n",
      "3 d\n",
      "4 e\n",
      "5 f\n",
      "6 g\n",
      "7 h\n",
      "8 i\n",
      "9 j\n",
      "10 k\n",
      "11 l\n",
      "12 m\n",
      "13 n\n",
      "14 o\n",
      "15 p\n",
      "16 q\n",
      "17 r\n",
      "18 s\n",
      "19 t\n",
      "20 u\n",
      "21 v\n",
      "22 w\n",
      "23 x\n",
      "24 y\n",
      "25 z\n"
     ]
    }
   ],
   "source": [
    "# enumerte function\n",
    "\n",
    "for i, j in enumerate(alpha_list):\n",
    "    print(i, j)"
   ]
  },
  {
   "cell_type": "code",
   "execution_count": 31,
   "id": "2d8888d6",
   "metadata": {},
   "outputs": [
    {
     "name": "stdout",
     "output_type": "stream",
     "text": [
      "4 a\n",
      "5 b\n",
      "6 c\n",
      "7 d\n",
      "8 e\n",
      "9 f\n",
      "10 g\n",
      "11 h\n",
      "12 i\n",
      "13 j\n",
      "14 k\n",
      "15 l\n",
      "16 m\n",
      "17 n\n",
      "18 o\n",
      "19 p\n",
      "20 q\n",
      "21 r\n",
      "22 s\n",
      "23 t\n",
      "24 u\n",
      "25 v\n",
      "26 w\n",
      "27 x\n",
      "28 y\n",
      "29 z\n"
     ]
    }
   ],
   "source": [
    "## changing the start index\n",
    "\n",
    "for count, item in enumerate(alpha_list, start = 4):        ## indexing starts from 4 and not 0\n",
    "    print(count,item) "
   ]
  },
  {
   "cell_type": "markdown",
   "id": "af1416e1",
   "metadata": {},
   "source": [
    "# *******************************************************************************************"
   ]
  },
  {
   "cell_type": "markdown",
   "id": "72c87d2a",
   "metadata": {},
   "source": [
    "[Go to contents](#Contents)"
   ]
  },
  {
   "cell_type": "markdown",
   "id": "f508dc59",
   "metadata": {},
   "source": [
    "# 12. Functions\n",
    "- A function is a named block of reusable code that performs a specific task.\n",
    "- Functions provide a way to encapsulate a set of instructions, assign a name, and call it whenever needed.     \n",
    "&nbsp;    \n",
    "1. Normal Function syntax  \n",
    "```python\n",
    "def function_name:\n",
    "    execute statements\n",
    "```                                      \n",
    "2. Lambda Function synax      \n",
    "```python\n",
    "Lambda arguments:expression  \n",
    "```  \n",
    "- Lambda function is also known as anonymous function because there is no need to name the function.\n",
    "- Lambda function can be used to list,dictionaries,tuples."
   ]
  },
  {
   "cell_type": "markdown",
   "id": "7a5f61fd",
   "metadata": {},
   "source": [
    "# 12.1 Normal Functions"
   ]
  },
  {
   "cell_type": "code",
   "execution_count": 80,
   "id": "01f3d587",
   "metadata": {
    "lines_to_next_cell": 2
   },
   "outputs": [
    {
     "name": "stdout",
     "output_type": "stream",
     "text": [
      "Hey\n"
     ]
    }
   ],
   "source": [
    "# basic function\n",
    "\n",
    "def hello():\n",
    "    print('Hey')\n",
    "    \n",
    "hello()        # calling the function"
   ]
  },
  {
   "cell_type": "code",
   "execution_count": 81,
   "id": "cfbecb9c",
   "metadata": {
    "lines_to_next_cell": 2
   },
   "outputs": [
    {
     "data": {
      "text/plain": [
       "20"
      ]
     },
     "execution_count": 81,
     "metadata": {},
     "output_type": "execute_result"
    }
   ],
   "source": [
    "# function with variable\n",
    "\n",
    "def add_this_with_10(x):\n",
    "    return x+10\n",
    "\n",
    "add_this_with_10(10)"
   ]
  },
  {
   "cell_type": "code",
   "execution_count": 83,
   "id": "a2294d93",
   "metadata": {},
   "outputs": [
    {
     "name": "stdout",
     "output_type": "stream",
     "text": [
      "The number is even\n"
     ]
    }
   ],
   "source": [
    "# function with if, else\n",
    "\n",
    "def even_or_odd(x):\n",
    "    if x % 2 == 0:\n",
    "        print(\"The number is even\")\n",
    "    else:\n",
    "        print(\"The number is not even\")\n",
    "        \n",
    "even_or_odd(12)"
   ]
  },
  {
   "cell_type": "markdown",
   "id": "85cbccb4",
   "metadata": {},
   "source": [
    "# 12.2 Lambda Functions"
   ]
  },
  {
   "cell_type": "code",
   "execution_count": 84,
   "id": "a7aaab86",
   "metadata": {
    "lines_to_next_cell": 2
   },
   "outputs": [
    {
     "name": "stdout",
     "output_type": "stream",
     "text": [
      "8\n"
     ]
    }
   ],
   "source": [
    "# basic lambda function\n",
    "\n",
    "cube = lambda x: (x*x*x)\n",
    "print(cube(2))"
   ]
  },
  {
   "cell_type": "code",
   "execution_count": 85,
   "id": "0c54e64b",
   "metadata": {
    "lines_to_next_cell": 2
   },
   "outputs": [
    {
     "name": "stdout",
     "output_type": "stream",
     "text": [
      "[1, 3, 5, 7]\n"
     ]
    }
   ],
   "source": [
    "# lambda function with filters \n",
    "\n",
    "lst = [1, 2, 3, 4, 5, 6, 7, 8]\n",
    "result = list(filter(lambda x: (x % 2 != 0),lst))\n",
    "print(result) "
   ]
  },
  {
   "cell_type": "code",
   "execution_count": 86,
   "id": "ed0125d0",
   "metadata": {
    "lines_to_next_cell": 2
   },
   "outputs": [
    {
     "name": "stdout",
     "output_type": "stream",
     "text": [
      "[2, 4, 6, 8, 10, 12, 14, 16]\n"
     ]
    }
   ],
   "source": [
    "# lambda function with map \n",
    "lst = [1, 2, 3, 4, 5, 6, 7, 8]\n",
    "result = list(map(lambda x: (x*2),lst))\n",
    "print(result)"
   ]
  },
  {
   "cell_type": "code",
   "execution_count": 87,
   "id": "eeb6d7a8",
   "metadata": {
    "lines_to_next_cell": 2
   },
   "outputs": [
    {
     "name": "stdout",
     "output_type": "stream",
     "text": [
      "36\n"
     ]
    }
   ],
   "source": [
    "# lambda function with reduce \n",
    "\n",
    "from functools import reduce\n",
    "lst = [1, 2, 3, 4, 5, 6, 7, 8]\n",
    "sum = reduce((lambda x,y:x+y),lst)\n",
    "print(sum)"
   ]
  },
  {
   "cell_type": "markdown",
   "id": "2d5be098",
   "metadata": {},
   "source": [
    "# *******************************************************************************************"
   ]
  },
  {
   "cell_type": "markdown",
   "id": "7bbfee51",
   "metadata": {},
   "source": [
    "[Go to contents](#Contents)"
   ]
  },
  {
   "cell_type": "markdown",
   "id": "a1a0d80e",
   "metadata": {
    "lines_to_next_cell": 2
   },
   "source": [
    "# 13. Class \n",
    "- A class is a user defined prototype or blueprint  for creating objects.\n",
    "- Classes provide a means to bundle data and functions together.\n",
    "- Creating a new class creats a new type of object, allowing new instances of that type to be made. Each class instances can have attributes attached to it for maintaining its state.\n",
    "- Objects are instances of class\n",
    "- The name of a class should start with capital letter.\n",
    "-  For example there are many types of cars in the market. Suppose you want to categories each based on its properties. List would be a way to do this, even dictionaries can help but how many of those do we have to create for each car. Its complex and difficult to do this. And classes comes to our aid."
   ]
  },
  {
   "cell_type": "markdown",
   "id": "ace3eb94",
   "metadata": {},
   "source": [
    "### Class with a constructor"
   ]
  },
  {
   "cell_type": "code",
   "execution_count": 1,
   "id": "75e82711",
   "metadata": {},
   "outputs": [],
   "source": [
    "# creating a class with constructor\n",
    "# class variable, they are common for all the objects \n",
    "# instance variable, they are unique for each objects \n",
    "\n",
    "class Car:\n",
    "    \n",
    "    status = 'Its a Car'    # class variable \n",
    "    \n",
    "    \n",
    "    def __init__(self, brand, car_type, year):                                    # __init__ is the constructor \n",
    "        \"\"\"                                                                       # This is a doc string between header and body\n",
    "        Constructor for the Car class.\n",
    "        Initializes the attributes of the car object. Brand, type, ye\n",
    "        \"\"\"\n",
    "        self.brand = brand           # instance variables\n",
    "        self.type = car_type\n",
    "        self.year = year\n",
    "        \n",
    "\n",
    "    def details(self):\n",
    "        \"\"\"\n",
    "        Display the details of the car.\n",
    "        Prints the brand, type, and year of the car.\n",
    "        \"\"\"\n",
    "        print(f\"The brand of the car is {self.brand}.\")\n",
    "        print(f\"The type of the car is {self.type}.\")\n",
    "        print(f\"The car was bought in {self.year}.\")\n",
    "        \n",
    "\n",
    "    def accelerate(self):\n",
    "        \"\"\"    \n",
    "        Prints a message indicating that the car is accelerating.\n",
    "        \"\"\"\n",
    "        print(\"The car is accelerating.\")\n",
    "        \n",
    "\n",
    "    def brake(self):\n",
    "        \"\"\"\n",
    "        Prints a message indicating that the car is braking.\n",
    "        \"\"\"\n",
    "        print(\"The car is braking.\")\n",
    "        \n",
    "\n",
    "    def color(self, color):\n",
    "        \"\"\"\n",
    "        Set the color of the car.\n",
    "        \"\"\"\n",
    "        self.color = color\n",
    "        print(f\"The color of the {self.brand} is {color}.\")\n"
   ]
  },
  {
   "cell_type": "code",
   "execution_count": 2,
   "id": "6a42910d",
   "metadata": {},
   "outputs": [],
   "source": [
    "# creating an object of the class\n",
    "\n",
    "my_car = Car(\"BMW\", \"Fuel\", 2020)"
   ]
  },
  {
   "cell_type": "code",
   "execution_count": 66,
   "id": "537f1b9d",
   "metadata": {},
   "outputs": [
    {
     "name": "stdout",
     "output_type": "stream",
     "text": [
      "The brand of the car is BMW.\n",
      "The type of the car is Fuel.\n",
      "The car was bought in 2020.\n"
     ]
    }
   ],
   "source": [
    "# accessing parameter\n",
    "\n",
    "my_car.details()"
   ]
  },
  {
   "cell_type": "code",
   "execution_count": 67,
   "id": "77cb812a",
   "metadata": {},
   "outputs": [
    {
     "name": "stdout",
     "output_type": "stream",
     "text": [
      "BMW\n",
      "Fuel\n",
      "2020\n"
     ]
    }
   ],
   "source": [
    "# access objects attributes\n",
    "\n",
    "print(my_car.brand)\n",
    "print(my_car.type)\n",
    "print(my_car.year)"
   ]
  },
  {
   "cell_type": "code",
   "execution_count": 68,
   "id": "053176f2",
   "metadata": {},
   "outputs": [
    {
     "name": "stdout",
     "output_type": "stream",
     "text": [
      "The car is accelerating.\n",
      "The car is braking.\n"
     ]
    }
   ],
   "source": [
    "# Call objects methods\n",
    "\n",
    "my_car.accelerate()\n",
    "my_car.brake()"
   ]
  },
  {
   "cell_type": "code",
   "execution_count": 69,
   "id": "bbca7085",
   "metadata": {},
   "outputs": [
    {
     "name": "stdout",
     "output_type": "stream",
     "text": [
      "The color of the BMW is black.\n"
     ]
    }
   ],
   "source": [
    "my_car.color('black')"
   ]
  },
  {
   "cell_type": "code",
   "execution_count": 73,
   "id": "9d54d89b",
   "metadata": {},
   "outputs": [
    {
     "data": {
      "text/plain": [
       "'black'"
      ]
     },
     "execution_count": 73,
     "metadata": {},
     "output_type": "execute_result"
    }
   ],
   "source": [
    "my_car.color"
   ]
  },
  {
   "cell_type": "code",
   "execution_count": 88,
   "id": "4c70f68b",
   "metadata": {},
   "outputs": [
    {
     "data": {
      "text/plain": [
       "'Its a Car'"
      ]
     },
     "execution_count": 88,
     "metadata": {},
     "output_type": "execute_result"
    }
   ],
   "source": [
    "my_car.status"
   ]
  },
  {
   "cell_type": "markdown",
   "id": "2952b730",
   "metadata": {},
   "source": [
    "### Class without a constructor"
   ]
  },
  {
   "cell_type": "code",
   "execution_count": 46,
   "id": "c25cebb7",
   "metadata": {},
   "outputs": [],
   "source": [
    "class Phone:\n",
    "    def set_color(self,color):\n",
    "        self.color=color\n",
    "        \n",
    "    def set_cost(self,cost):\n",
    "        self.cost=cost\n",
    "        \n",
    "    def show_color(self):\n",
    "        return self.color\n",
    "    \n",
    "    def show_cost(self):\n",
    "        return self.cost\n",
    "    \n",
    "    def call(self):\n",
    "        return(\"Lets make a call\")\n",
    "        \n",
    "    def game(self):\n",
    "        return(\"Playing games\")"
   ]
  },
  {
   "cell_type": "code",
   "execution_count": 47,
   "id": "ce287de7",
   "metadata": {},
   "outputs": [
    {
     "name": "stdout",
     "output_type": "stream",
     "text": [
      "Black\n",
      "20,000\n",
      "Lets make a call\n",
      "Playing games\n"
     ]
    }
   ],
   "source": [
    "# access the objects parameters \n",
    "\n",
    "my_phone = Phone()\n",
    "\n",
    "my_phone.set_color('Black')\n",
    "\n",
    "my_phone.set_cost('20,000')\n",
    "\n",
    "print(my_phone.show_color())\n",
    "\n",
    "print(my_phone.show_cost())\n",
    "\n",
    "print(my_phone.call())\n",
    "\n",
    "print(my_phone.game())"
   ]
  },
  {
   "cell_type": "markdown",
   "id": "f5f8c84f",
   "metadata": {},
   "source": [
    "# 13.1 Difference between  ' init '  method and regular method  \n",
    "\n",
    "**Method_1**\n",
    "``` python\n",
    " class Method_1:\n",
    "    def __init__(self, name):\n",
    "        self.name = name\n",
    "```\n",
    "- In the first method_1, the name attribute has to been initialized during the object is created. \n",
    "```python\n",
    "Method_one = Method_1('Styles')\n",
    "```\n",
    "&nbsp;  \n",
    "**Method_2**\n",
    "```python\n",
    "class Method_2:\n",
    "    def name(self, name):\n",
    "        self.name = name\n",
    "```\n",
    "- Where as in Method_2, the name attribute has to been initialized after creating the object.\n",
    "```python\n",
    "Method_two = Method_2()\n",
    "Method_two.name('Roger') \n",
    "```\n",
    "       "
   ]
  },
  {
   "cell_type": "markdown",
   "id": "dfc69a2a",
   "metadata": {},
   "source": [
    "# 13.2 Inheritance\n",
    "- One class can inherit the properties of another class.\n",
    "- The class that inherits is called as 'subclass' or 'derived class'"
   ]
  },
  {
   "cell_type": "markdown",
   "id": "bb0de6c9",
   "metadata": {},
   "source": [
    "### Parent class"
   ]
  },
  {
   "cell_type": "code",
   "execution_count": 90,
   "id": "dad5cad4",
   "metadata": {},
   "outputs": [],
   "source": [
    "class Patient:\n",
    "    ''' Medical Details of a patient '''\n",
    "    \n",
    "    status = 'Patient'\n",
    "    \n",
    "    def __init__(self, name, age):\n",
    "        self.name = name\n",
    "        self.age = age\n",
    "        self.condition = []              # an empty variable \n",
    "        \n",
    "    def get_details(self):\n",
    "        print(f'The name of the patient is {self.name} and the age is {self.age} years.'\\     #'\\' helps to break long lines \n",
    "              f' Current condition is {self.condition}.')                                                     # of code\n",
    "    \n",
    "    def add_info(self, information):           # this info will be added in the empty variable\n",
    "        self.condition.append(information)"
   ]
  },
  {
   "cell_type": "code",
   "execution_count": 91,
   "id": "bf091ccc",
   "metadata": {},
   "outputs": [],
   "source": [
    "Patient_1 = Patient('Stella', 25)"
   ]
  },
  {
   "cell_type": "code",
   "execution_count": 93,
   "id": "4540864c",
   "metadata": {},
   "outputs": [
    {
     "name": "stdout",
     "output_type": "stream",
     "text": [
      "The name of the patient is Stella and the age is 25 years. Current condition is [].\n"
     ]
    }
   ],
   "source": [
    "Patient_1.get_details()"
   ]
  },
  {
   "cell_type": "code",
   "execution_count": 94,
   "id": "36c9fa8c",
   "metadata": {},
   "outputs": [],
   "source": [
    "Patient_1.add_info('Critial but stable')"
   ]
  },
  {
   "cell_type": "code",
   "execution_count": 95,
   "id": "05d7f0cd",
   "metadata": {},
   "outputs": [
    {
     "name": "stdout",
     "output_type": "stream",
     "text": [
      "The name of the patient is Stella and the age is 25 years. Current condition is ['Critial but stable'].\n"
     ]
    }
   ],
   "source": [
    "Patient_1.get_details()"
   ]
  },
  {
   "cell_type": "markdown",
   "id": "142f90c7",
   "metadata": {},
   "source": [
    "### Child class"
   ]
  },
  {
   "cell_type": "code",
   "execution_count": 96,
   "id": "afaa76e0",
   "metadata": {},
   "outputs": [],
   "source": [
    "class Infant(Patient):\n",
    "    ' Patient under age of 2 years '\n",
    "    \n",
    "    def __init__(self, name, age):\n",
    "        self.vaccination = []\n",
    "        super().__init__(name,age)            # initialises name, age from parent class \n",
    "        \n",
    "    def add_vacc(self,vaccine):\n",
    "        self.vaccination.append(vaccine)\n",
    "        \n",
    "    def get_details(self):\n",
    "        print(f'The name of the patient is {self.name} and the age is {self.age} years'\\\n",
    "              f' Vacciantion: {self.vaccination}') "
   ]
  },
  {
   "cell_type": "code",
   "execution_count": 97,
   "id": "efdef042",
   "metadata": {},
   "outputs": [],
   "source": [
    "Infant_1 = Infant('Chandler', 1.5)"
   ]
  },
  {
   "cell_type": "code",
   "execution_count": 98,
   "id": "2d23cce8",
   "metadata": {},
   "outputs": [],
   "source": [
    "Infant_1.add_vacc('New born vaccine')"
   ]
  },
  {
   "cell_type": "code",
   "execution_count": 99,
   "id": "68cecd61",
   "metadata": {},
   "outputs": [
    {
     "name": "stdout",
     "output_type": "stream",
     "text": [
      "The name of the patient is Chandler and the age is 1.5 years Vacciantion: ['New born vaccine']\n"
     ]
    }
   ],
   "source": [
    "Infant_1.get_details()"
   ]
  },
  {
   "cell_type": "markdown",
   "id": "9c54e65b",
   "metadata": {},
   "source": [
    "# 13.3 Types of Inheritance \n",
    "1. Single inheritence\n",
    "   - The child class inherits the properties of another single class.  \n",
    "&nbsp;                           \n",
    "2. Multiple inheritence  \n",
    "   - The child class inherits the properties from multiple parent classes.  \n",
    "&nbsp;                \n",
    "3. Multi-level inheritance  \n",
    "   - In multi-level inheritance we have a parent,child and grand-child relationship.  \n",
    "   - The grand-child class will inherite both the properties of the parent as well as child class  \n",
    "&nbsp;                        \n",
    "4. Hybrid inheritence  \n",
    "   - Hybrid inheritance is a combination of multiple inheritance and multilevel inheritance. \n",
    "   - It involves inheritance from multiple parent classes, including both single and multiple inheritance relationships."
   ]
  },
  {
   "cell_type": "markdown",
   "id": "77e6006c",
   "metadata": {},
   "source": [
    "## 13.3.1 Multipe inheritance"
   ]
  },
  {
   "cell_type": "code",
   "execution_count": 161,
   "id": "6b3db499",
   "metadata": {},
   "outputs": [],
   "source": [
    "## Parent class 1\n",
    "class Parent1:\n",
    "    def parent1_name(self,name1):\n",
    "        self.name1=name1\n",
    "    \n",
    "    def show_parent1_details(self):\n",
    "        print(self.name1)\n",
    "    \n",
    "\n",
    "    \n",
    "## Parent class 2\n",
    "class Parent2:\n",
    "    def parent2_name(self,name2):\n",
    "        self.name2 = name2       \n",
    "    def show_parent2_details(self):\n",
    "        print(self.name2)\n",
    " \n",
    "\n",
    "    \n",
    "## Child class\n",
    "class Child(Parent1,Parent2):\n",
    "    def child_name(self,name3):\n",
    "        self.name3=name3\n",
    "        \n",
    "    def show_details(self):\n",
    "        print(f'The father name is {self.name1:10}' \\\n",
    "              f'The mother name is  {self.name2:10}' \\\n",
    "              f'The child name is  {self.name3}')"
   ]
  },
  {
   "cell_type": "code",
   "execution_count": 162,
   "id": "9781f14a",
   "metadata": {},
   "outputs": [],
   "source": [
    "my_child = Child()\n",
    "my_child.parent1_name('Adam')\n",
    "my_child.parent2_name('Asha')\n",
    "my_child.child_name('Aron')"
   ]
  },
  {
   "cell_type": "code",
   "execution_count": 140,
   "id": "df3d6dcf",
   "metadata": {},
   "outputs": [
    {
     "name": "stdout",
     "output_type": "stream",
     "text": [
      "The father name is Adam      The mother name is  Asha      The child name is  Aron\n"
     ]
    }
   ],
   "source": [
    "my_child.show_details()"
   ]
  },
  {
   "cell_type": "markdown",
   "id": "2a6d3e13",
   "metadata": {},
   "source": [
    "## 13.3.2 Multi - level inheritance"
   ]
  },
  {
   "cell_type": "code",
   "execution_count": 20,
   "id": "92295550",
   "metadata": {},
   "outputs": [],
   "source": [
    "# Parent class \n",
    "class Parent:\n",
    "    def __init__(self, name):\n",
    "        self.name = name\n",
    "        \n",
    "    def show_name(self):\n",
    "        print(self.name)\n",
    "        \n",
    "\n",
    "# Child Class\n",
    "class Child(Parent):\n",
    "    def __init__(self, name, age):\n",
    "        super().__init__(name)           # initialises name parameter from parent class \n",
    "        self.age = age\n",
    "        \n",
    "    def show_details(self):\n",
    "        print(f'The name of the parent is {self.name}\\t'\\\n",
    "              f'The age of the child is {self.age}')\n",
    "        \n",
    "# Grand child class \n",
    "class Grandchild(Child):\n",
    "    def __init__(self, name, age, gender):\n",
    "        super().__init__(name, age)\n",
    "        self.gender = gender \n",
    "    \n",
    "    def complete_details(self):\n",
    "              print(f'The name of the Grand Child is {self.name} and '\\\n",
    "                    f'the age is {self.age} and '\\\n",
    "                    f'the gender is {self.gender}')"
   ]
  },
  {
   "cell_type": "code",
   "execution_count": 21,
   "id": "cf09f9b6",
   "metadata": {},
   "outputs": [
    {
     "name": "stdout",
     "output_type": "stream",
     "text": [
      "The name of the Grand Child is Scott and the age is 24 and the gender is Male\n"
     ]
    }
   ],
   "source": [
    "my_grandchild = Grandchild('Scott', 24, 'Male')\n",
    "my_grandchild.complete_details()"
   ]
  },
  {
   "cell_type": "markdown",
   "id": "447b89b1",
   "metadata": {},
   "source": [
    "##  Multi - level inheritance without init"
   ]
  },
  {
   "cell_type": "code",
   "execution_count": 26,
   "id": "e7dfbf56",
   "metadata": {},
   "outputs": [],
   "source": [
    "# Parent class \n",
    "class Parent:\n",
    "    def name(self, name):\n",
    "        self.name = name\n",
    "        \n",
    "    def show_name(self):\n",
    "        print(self.name)\n",
    "        \n",
    "\n",
    "        \n",
    "        \n",
    "# Child Class\n",
    "class Child(Parent):\n",
    "    def age(self, age):\n",
    "        self.age = age\n",
    "        \n",
    "    def show_details(self):\n",
    "        print(f'The name of the parent is {self.name}\\t'\\\n",
    "              f'The name of the child is {self.name}\\t'\\\n",
    "              f'The age of the child is {self.age}')\n",
    "        \n",
    "        \n",
    "    \n",
    "# Grandchild class \n",
    "class Grandchild(Child):\n",
    "    def gender(self, gender):\n",
    "        self.gender = gender\n",
    "              \n",
    "    def complete_details(self):\n",
    "        print(f'The name of the Grand Child is {self.name} '\\\n",
    "              f'and the age is {self.age} '\\\n",
    "              f'and the gender is {self.gender}')\n"
   ]
  },
  {
   "cell_type": "code",
   "execution_count": 28,
   "id": "ef47390c",
   "metadata": {},
   "outputs": [
    {
     "name": "stdout",
     "output_type": "stream",
     "text": [
      "The name of the Grand Child is Liam and the age is 23 and the gender is Male\n"
     ]
    }
   ],
   "source": [
    "my_grandchild = Grandchild()\n",
    "my_grandchild.name('Liam')\n",
    "my_grandchild.age(23)\n",
    "my_grandchild.gender('Male')\n",
    "my_grandchild.complete_details()"
   ]
  },
  {
   "cell_type": "markdown",
   "id": "7cfa176b",
   "metadata": {},
   "source": [
    "## 13.3.3. Hybrid inheritance"
   ]
  },
  {
   "cell_type": "code",
   "execution_count": 30,
   "id": "81787608",
   "metadata": {},
   "outputs": [],
   "source": [
    "# Parent class\n",
    "class Parent:\n",
    "    def parent_method(self):\n",
    "        print(\"This is a parent method.\")\n",
    "\n",
    "        \n",
    "\n",
    "# Child class 1\n",
    "class Child1(Parent):\n",
    "    def child1_method(self):\n",
    "        print(\"This is a child1 method.\")\n",
    "\n",
    "        \n",
    "\n",
    "# Child class 2\n",
    "class Child2(Parent):\n",
    "    def child2_method(self):\n",
    "        print(\"This is a child2 method.\")\n",
    "\n",
    "        \n",
    "\n",
    "# Grandchild class\n",
    "class Grandchild(Child1, Child2):\n",
    "    def grandchild_method(self):\n",
    "        print(\"This is a grandchild method.\")\n"
   ]
  },
  {
   "cell_type": "code",
   "execution_count": 31,
   "id": "e2449e14",
   "metadata": {},
   "outputs": [
    {
     "name": "stdout",
     "output_type": "stream",
     "text": [
      "This is a parent method.\n",
      "This is a child1 method.\n",
      "This is a child2 method.\n",
      "This is a grandchild method.\n"
     ]
    }
   ],
   "source": [
    "my_grandchild = Grandchild()\n",
    "my_grandchild.parent_method()    \n",
    "my_grandchild.child1_method()    \n",
    "my_grandchild.child2_method()\n",
    "my_grandchild.grandchild_method()    "
   ]
  },
  {
   "cell_type": "markdown",
   "id": "14590429",
   "metadata": {},
   "source": [
    "# *******************************************************************************************"
   ]
  },
  {
   "cell_type": "markdown",
   "id": "bfb8a997",
   "metadata": {},
   "source": [
    "[Go to contents](#Contents)"
   ]
  },
  {
   "cell_type": "markdown",
   "id": "7e371351",
   "metadata": {},
   "source": [
    "# 14. File Operations"
   ]
  },
  {
   "cell_type": "code",
   "execution_count": 61,
   "id": "2396b65b",
   "metadata": {},
   "outputs": [],
   "source": [
    "## open keyword is used for both opening an existing file or for creating a new file.\n",
    "## 'w' keyword refers to writing\n",
    "## 'r' is for reading \n",
    "## 'a' is for appending\n",
    "\n",
    "files = open('new_textfile.txt','w')           ## here we are creating a new file\n",
    "                                               ## the file will be stored in the same location of this notebook"
   ]
  },
  {
   "cell_type": "code",
   "execution_count": 62,
   "id": "d1967261",
   "metadata": {},
   "outputs": [
    {
     "data": {
      "text/plain": [
       "91"
      ]
     },
     "execution_count": 62,
     "metadata": {},
     "output_type": "execute_result"
    }
   ],
   "source": [
    "files.write('In this era of AI it is very necessary for every working professional to learn and adapt AI')"
   ]
  },
  {
   "cell_type": "code",
   "execution_count": 63,
   "id": "f58eec12",
   "metadata": {},
   "outputs": [],
   "source": [
    "# Closing the file is important\n",
    "\n",
    "files.close()"
   ]
  },
  {
   "cell_type": "code",
   "execution_count": 64,
   "id": "1dbf8047",
   "metadata": {},
   "outputs": [
    {
     "name": "stdout",
     "output_type": "stream",
     "text": [
      "In this era of AI it is very necessary for every working professional to learn and adapt AI\n"
     ]
    }
   ],
   "source": [
    "## reading the file\n",
    "\n",
    "files = open('new_textfile.txt','r')\n",
    "print(files.read())\n",
    "files.close()"
   ]
  },
  {
   "cell_type": "code",
   "execution_count": 65,
   "id": "69216eda",
   "metadata": {},
   "outputs": [
    {
     "name": "stdout",
     "output_type": "stream",
     "text": [
      "In this era of AI it is very necessary for every working professional to learn and adapt AI\n"
     ]
    }
   ],
   "source": [
    "## reading the first line\n",
    "\n",
    "files = open('new_textfile.txt','r')          ## there is only one line in our file\n",
    "print(files.readline())\n",
    "files.close()"
   ]
  },
  {
   "cell_type": "code",
   "execution_count": 66,
   "id": "e284ba7d",
   "metadata": {},
   "outputs": [
    {
     "name": "stdout",
     "output_type": "stream",
     "text": [
      "['In this era of AI it is very necessary for every working professional to learn and adapt AI']\n",
      "<class 'list'>\n"
     ]
    }
   ],
   "source": [
    "## opening the file as a list, this allows us to iterate over it and access the informations in it.\n",
    "\n",
    "files = open('new_textfile.txt','r')\n",
    "content = files.readlines()\n",
    "files.close()\n",
    "print(content)\n",
    "print(type(content))"
   ]
  },
  {
   "cell_type": "code",
   "execution_count": 68,
   "id": "83d55bfe",
   "metadata": {},
   "outputs": [
    {
     "name": "stdout",
     "output_type": "stream",
     "text": [
      "In this era of AI it is very necessary for every working professional to learn and adapt AI\n"
     ]
    }
   ],
   "source": [
    "## Opening the file in a different method \n",
    "## This method does not require to close the file\n",
    "\n",
    "with open('new_textfile.txt','r') as files:\n",
    "    for line in files.readlines():\n",
    "        print(line)"
   ]
  },
  {
   "cell_type": "markdown",
   "id": "c6f9ce54",
   "metadata": {},
   "source": [
    "# *******************************************************************************************"
   ]
  },
  {
   "cell_type": "markdown",
   "id": "9fb03bee",
   "metadata": {},
   "source": [
    "[Go to contents](#Contents)"
   ]
  },
  {
   "cell_type": "markdown",
   "id": "ef173a1a",
   "metadata": {},
   "source": [
    "# 15. Big O\n",
    "\n",
    "## Constant time \n",
    "## _Big_o\n",
    " - Constant time is when the time taken to do a particular task does not depend upon the number of elements or variables in it. Time is independent of the number elements or variables present in it.\n",
    " - If an algorithm wants to go to the end of an array and perform a task, the time taken to perform the task is independent of the number of elements present in the array. The number elements may be 100 or even 100000 but time is independent of it.\n",
    " \n",
    "## Linear time\n",
    "## O(n)\n",
    "  - The time taken to do a task depends on the number of items or elements present.\n",
    "  - n can be any number of items or elements in an array but as the number of elements in an array increases the times taken to perform the task also gets increases.\n",
    "  \n",
    "## O(n^2)\n",
    "  - Suppose we want to perform a task but not just one but two tasks this time. Lets say we want to write down the prices of all the items in the shelf and then we want to compare the price of an item with every other items in the shelf.\n",
    "  - The time taken to perform the task will increase as the number of item increases. And the time taken will double as we are performing two tasks. This is called O of n squared 2.\n",
    "  - Avoid O(n^2).\n",
    "  \n",
    "## O(n!)\n",
    "  - Suppose we have a 1000 items in the shelf and we want to find the best sequence of items which increases the sales, literally it will take years to perform this task as we have to find the sequence for 1000 items. eg we have to 3 items and the sequences will be \n",
    "      - 1,2,3\n",
    "      - 1,3,2\n",
    "      - 2,1,3\n",
    "      - 2,3,1\n",
    "      - 3,2,1\n",
    "      - 3,1,2 \n",
    "   - so for 3 items we have 6 different configurations and for 4 items we will have 24 different configuration and imagine for 1000 items we will have ....this many configurations. Therefore it takes years to perform this task.\n",
    "   - In such situations we have to choose different algorithms to minimize the time. And there are algorithms that scales o(n!) and those algorithms should be avoided. The Traveling sales man algorithm is one amoung them."
   ]
  },
  {
   "cell_type": "markdown",
   "id": "31d146bc",
   "metadata": {},
   "source": [
    "# *******************************************************************************************"
   ]
  },
  {
   "cell_type": "markdown",
   "id": "6f72fc13",
   "metadata": {},
   "source": [
    "[Go to contents](#Contents)"
   ]
  },
  {
   "cell_type": "markdown",
   "id": "5d8bcdd6",
   "metadata": {},
   "source": [
    "# 16. Stacks\n",
    "- A stack is a data structure that resembles a stack of objects, such as a stack of books. It follows the Last-In-First-Out (LIFO) principle, which means that the last item added to the stack is the first one to be removed. \n",
    "- In python you can implement a stack using a list."
   ]
  },
  {
   "cell_type": "code",
   "execution_count": 7,
   "id": "47c5b992",
   "metadata": {},
   "outputs": [],
   "source": [
    "# Creating a stack\n",
    "\n",
    "stack = []"
   ]
  },
  {
   "cell_type": "code",
   "execution_count": 8,
   "id": "38f20f7f",
   "metadata": {},
   "outputs": [
    {
     "name": "stdout",
     "output_type": "stream",
     "text": [
      "[4, 7]\n"
     ]
    }
   ],
   "source": [
    "# stack forwarding \n",
    "# adding items to the top of the stack\n",
    "\n",
    "stack.append(4)\n",
    "stack.append(7)\n",
    "print(stack)"
   ]
  },
  {
   "cell_type": "code",
   "execution_count": 22,
   "id": "d21c521b",
   "metadata": {
    "scrolled": true
   },
   "outputs": [
    {
     "data": {
      "text/plain": [
       "4"
      ]
     },
     "execution_count": 22,
     "metadata": {},
     "output_type": "execute_result"
    }
   ],
   "source": [
    "## Stack peeking \n",
    "## returns the top item from the stack without removing it\n",
    "\n",
    "stack[-1]             # peek() function is not a build-in function for lists. It is used for stack implementation. \n",
    "                                   # Peek() function can be used on a stack class. Look below "
   ]
  },
  {
   "cell_type": "code",
   "execution_count": 10,
   "id": "7eae9926",
   "metadata": {},
   "outputs": [
    {
     "data": {
      "text/plain": [
       "7"
      ]
     },
     "execution_count": 10,
     "metadata": {},
     "output_type": "execute_result"
    }
   ],
   "source": [
    "## Stack poping \n",
    "## removes and returns the top item from the stack\n",
    "\n",
    "stack.pop()"
   ]
  },
  {
   "cell_type": "code",
   "execution_count": 11,
   "id": "5f0bfc5f",
   "metadata": {},
   "outputs": [
    {
     "data": {
      "text/plain": [
       "[4]"
      ]
     },
     "execution_count": 11,
     "metadata": {},
     "output_type": "execute_result"
    }
   ],
   "source": [
    "stack"
   ]
  },
  {
   "cell_type": "code",
   "execution_count": 12,
   "id": "cbb9c7e0",
   "metadata": {},
   "outputs": [],
   "source": [
    "class Stack():\n",
    "    \n",
    "    def __init__(self):\n",
    "        self.list_stack = []\n",
    "        \n",
    "    def is_empty(self):\n",
    "        if not self.list_stack:\n",
    "            return True\n",
    "        else:\n",
    "            return False\n",
    "        \n",
    "    def push(self,item):\n",
    "        self.list_stack.append(item)\n",
    "        \n",
    "    def pop(self):\n",
    "        return self.list_stack.pop()\n",
    "    \n",
    "    def peek(self):\n",
    "        \n",
    "        if self.list_stack == []:\n",
    "            return None\n",
    "        else:\n",
    "            return self.list_stack[-1]\n",
    "        \n",
    "    def __repr__(self):\n",
    "        return repr(self.list_stack)\n",
    "        "
   ]
  },
  {
   "cell_type": "code",
   "execution_count": 13,
   "id": "9d5ba64a",
   "metadata": {},
   "outputs": [],
   "source": [
    "new_stack = Stack()"
   ]
  },
  {
   "cell_type": "code",
   "execution_count": 14,
   "id": "e0e2d17b",
   "metadata": {},
   "outputs": [
    {
     "data": {
      "text/plain": [
       "True"
      ]
     },
     "execution_count": 14,
     "metadata": {},
     "output_type": "execute_result"
    }
   ],
   "source": [
    "new_stack.is_empty()"
   ]
  },
  {
   "cell_type": "code",
   "execution_count": 15,
   "id": "cea7eb6c",
   "metadata": {},
   "outputs": [],
   "source": [
    "new_stack.push(4)"
   ]
  },
  {
   "cell_type": "code",
   "execution_count": 16,
   "id": "ef78f10f",
   "metadata": {},
   "outputs": [
    {
     "data": {
      "text/plain": [
       "4"
      ]
     },
     "execution_count": 16,
     "metadata": {},
     "output_type": "execute_result"
    }
   ],
   "source": [
    "new_stack.peek()"
   ]
  },
  {
   "cell_type": "code",
   "execution_count": 17,
   "id": "01c6aecb",
   "metadata": {},
   "outputs": [
    {
     "name": "stdout",
     "output_type": "stream",
     "text": [
      "[4, 8]\n"
     ]
    }
   ],
   "source": [
    "new_stack.push(8)\n",
    "print(new_stack)"
   ]
  },
  {
   "cell_type": "code",
   "execution_count": 18,
   "id": "5ff0c510",
   "metadata": {},
   "outputs": [
    {
     "data": {
      "text/plain": [
       "8"
      ]
     },
     "execution_count": 18,
     "metadata": {},
     "output_type": "execute_result"
    }
   ],
   "source": [
    "new_stack.peek()"
   ]
  },
  {
   "cell_type": "code",
   "execution_count": 24,
   "id": "bd63e03d",
   "metadata": {},
   "outputs": [],
   "source": [
    "# Write a function to determine whether a string of brackets is balanced\n",
    "# It should return True if balanced. \n",
    "# [[({})]] is an example of balanced brackets. [({)})] is not balanced.\n",
    "\n",
    "def balanced_brackets(s):\n",
    "        \n",
    "    stack = []\n",
    "    brackets = {'(':')','[':']','{':'}'}       # a dictionary\n",
    "    \n",
    "    for char in s:\n",
    "        \n",
    "        if char in brackets.keys():\n",
    "            \n",
    "            stack.append(char)\n",
    "            \n",
    "        else:\n",
    "            \n",
    "            if len(stack) == 0 or brackets[stack.pop()] != char:\n",
    "                return False\n",
    "            \n",
    "    return len(stack) == 0"
   ]
  },
  {
   "cell_type": "code",
   "execution_count": 25,
   "id": "d42a59a2",
   "metadata": {},
   "outputs": [
    {
     "data": {
      "text/plain": [
       "True"
      ]
     },
     "execution_count": 25,
     "metadata": {},
     "output_type": "execute_result"
    }
   ],
   "source": [
    "string = '[[({})]]'\n",
    "balanced_brackets(string)"
   ]
  },
  {
   "cell_type": "code",
   "execution_count": 26,
   "id": "79d6f2b0",
   "metadata": {},
   "outputs": [
    {
     "data": {
      "text/plain": [
       "False"
      ]
     },
     "execution_count": 26,
     "metadata": {},
     "output_type": "execute_result"
    }
   ],
   "source": [
    "string_2 = '[({)})]'\n",
    "balanced_brackets(string_2)"
   ]
  },
  {
   "cell_type": "markdown",
   "id": "26e9dece",
   "metadata": {},
   "source": [
    "# *******************************************************************************************"
   ]
  },
  {
   "cell_type": "markdown",
   "id": "87a6b06f",
   "metadata": {},
   "source": [
    "[Go to Contents](#Contents)"
   ]
  },
  {
   "cell_type": "markdown",
   "id": "7bca2ddd",
   "metadata": {},
   "source": [
    "# 17. Basic Problems"
   ]
  },
  {
   "cell_type": "code",
   "execution_count": 82,
   "id": "fba3456d",
   "metadata": {},
   "outputs": [
    {
     "name": "stdout",
     "output_type": "stream",
     "text": [
      "Enter a number:3\n",
      "3 is odd\n"
     ]
    }
   ],
   "source": [
    "# 1.Checking Even or odd\n",
    "\n",
    "num = int(input('Enter a number:'))\n",
    "if num % 2 == 0:\n",
    "    print(f'{num} is even')\n",
    "else:\n",
    "    print(f'{num} is odd')"
   ]
  },
  {
   "cell_type": "code",
   "execution_count": 85,
   "id": "dc7f6f3b",
   "metadata": {},
   "outputs": [
    {
     "name": "stdout",
     "output_type": "stream",
     "text": [
      "Enter a number:-4\n",
      "-4 is negative\n"
     ]
    }
   ],
   "source": [
    "# 2.Checking positive or negative\n",
    "\n",
    "num = int(float(input('Enter a number:')))\n",
    "if num > 0:\n",
    "    print(f'{num} is positive')\n",
    "elif num == 0:\n",
    "    print(f'{num} is neutral')\n",
    "else:\n",
    "    print(f'{num} is negative')"
   ]
  },
  {
   "cell_type": "code",
   "execution_count": 88,
   "id": "deefbd88",
   "metadata": {},
   "outputs": [
    {
     "name": "stdout",
     "output_type": "stream",
     "text": [
      "Enter a number:6\n",
      "The factorial of 6 is 720\n"
     ]
    }
   ],
   "source": [
    "# 3.Factorial of a number \n",
    "\n",
    "num = int(float(input('Enter a number:')))\n",
    "factorial = 1 \n",
    "if num < 0:\n",
    "    print(f'{num} is negative')\n",
    "else:\n",
    "    for i in range(1, num + 1):\n",
    "        factorial = factorial * i\n",
    "    print(f'The factorial of {num} is {factorial}')"
   ]
  },
  {
   "cell_type": "code",
   "execution_count": 89,
   "id": "5d99327a",
   "metadata": {},
   "outputs": [
    {
     "name": "stdout",
     "output_type": "stream",
     "text": [
      "Enter a number=14\n",
      "Reverse of the number is = 41\n"
     ]
    }
   ],
   "source": [
    "# 4.Reversing a number\n",
    "\n",
    "num=int(input(\"Enter a number=\"))\n",
    "reverse=0\n",
    "while(num>0):\n",
    "    dig=num%10\n",
    "    reverse=reverse*10+dig\n",
    "    num=num//10\n",
    "print(\"Reverse of the number is =\",reverse)"
   ]
  },
  {
   "cell_type": "code",
   "execution_count": 95,
   "id": "5af52dc3",
   "metadata": {},
   "outputs": [
    {
     "name": "stdout",
     "output_type": "stream",
     "text": [
      "Enter number:4\n",
      "The number is a palindrome!\n"
     ]
    }
   ],
   "source": [
    "# check if its a palindrome\n",
    "\n",
    "n=int(input(\"Enter number:\"))\n",
    "temp=n\n",
    "rev=0\n",
    "while(n>0):\n",
    "    dig=n%10\n",
    "    rev=rev*10+dig\n",
    "    n=n//10\n",
    "if(temp==rev):\n",
    "    print(\"The number is a palindrome!\")\n",
    "else:\n",
    "    print(\"The number isn't a palindrome!\")"
   ]
  },
  {
   "cell_type": "code",
   "execution_count": 96,
   "id": "2acf7a4b",
   "metadata": {},
   "outputs": [
    {
     "name": "stdout",
     "output_type": "stream",
     "text": [
      "Enter number:8\n",
      "13\n"
     ]
    }
   ],
   "source": [
    "# fibonacci - 0 1 1 2 3 5 8 13 21....\n",
    "\n",
    "n=int(input(\"Enter number:\"))\n",
    "a = 0\n",
    "b = 1\n",
    "if n < 0: \n",
    "    print(\"Incorrect input\") \n",
    "elif n == 0: \n",
    "    print(a)\n",
    "elif n == 1: \n",
    "    print(a) \n",
    "else: \n",
    "    for i in range(2,n): \n",
    "        c = a + b \n",
    "        a = b \n",
    "        b = c \n",
    "    print(b) "
   ]
  },
  {
   "cell_type": "code",
   "execution_count": 97,
   "id": "1cf9c449",
   "metadata": {},
   "outputs": [
    {
     "name": "stdout",
     "output_type": "stream",
     "text": [
      "\n",
      "\n",
      "1 \n",
      "\n",
      "2 2 \n",
      "\n",
      "3 3 3 \n",
      "\n",
      "4 4 4 4 \n",
      "\n",
      "5 5 5 5 5 \n",
      "\n"
     ]
    }
   ],
   "source": [
    "# 10 is the total number to print\n",
    "for num in range(6):\n",
    "    for i in range(num):\n",
    "        print (num,end=\" \") #print number\n",
    "    # new line after each row to display pattern correctly\n",
    "    print(\"\\n\")"
   ]
  },
  {
   "cell_type": "code",
   "execution_count": 98,
   "id": "71ed4f22",
   "metadata": {},
   "outputs": [
    {
     "name": "stdout",
     "output_type": "stream",
     "text": [
      "2  *  1  =  2\n",
      "2  *  2  =  4\n",
      "2  *  3  =  6\n",
      "2  *  4  =  8\n",
      "2  *  5  =  10\n",
      "2  *  6  =  12\n",
      "2  *  7  =  14\n",
      "2  *  8  =  16\n",
      "2  *  9  =  18\n",
      "2  *  10  =  20\n"
     ]
    }
   ],
   "source": [
    "# printing 2 table with while loop\n",
    "\n",
    "i=1\n",
    "n=2\n",
    "while i<=10:\n",
    "    print(n,\" * \", i, \" = \",n*i)\n",
    "    i=i+1"
   ]
  },
  {
   "cell_type": "code",
   "execution_count": 1,
   "id": "d5cee482",
   "metadata": {},
   "outputs": [
    {
     "name": "stdout",
     "output_type": "stream",
     "text": [
      "Enter your age, Type '-1' to end :20\n",
      "Enter a different age:>24\n",
      "Enter a different age:>23\n",
      "Enter a different age:>25\n",
      "Enter a different age:>0\n",
      "The ages are [20, 24, 23, 25]\n"
     ]
    }
   ],
   "source": [
    "## Ask user their age and if age is greater then 0 add it to a list and continue this till the user enters 0 to stop.\n",
    "\n",
    "user_age = int(input(\"Enter your age, Type '-1' to end :\"))\n",
    "ages = []\n",
    "while user_age > 0:\n",
    "    ages.append(user_age)\n",
    "    user_age = int(input(\"Enter a different age:>\"))\n",
    "print(\"The ages are\",ages)"
   ]
  },
  {
   "cell_type": "code",
   "execution_count": 2,
   "id": "88b30896",
   "metadata": {},
   "outputs": [
    {
     "name": "stdout",
     "output_type": "stream",
     "text": [
      "Enter your name, type n to stop:John Wick\n",
      "John Wick has been added.\n",
      "Enter next name\tBruce Wayne \n",
      "Bruce Wayne  has been added.\n",
      "Enter next name\tTess\n",
      "Tess has been added.\n",
      "Enter next name\tm\n",
      "There are 3 people in the class\n"
     ]
    }
   ],
   "source": [
    "## Enter your name, if it is not m then add it to a list and continue this process till the user types m to stop the loop.\n",
    "\n",
    "count = 0\n",
    "names = []\n",
    "class_name = input(\"Enter your name, type n to stop:\") \n",
    "while class_name != \"m\":\n",
    "    count += 1\n",
    "    names.append(class_name)\n",
    "    print(f'{class_name} has been added.')           ## F string, it contains a variable name and values in it will be printed\n",
    "    class_name = input(\"Enter next name\\t\")\n",
    "    \n",
    "print(f'There are {count} people in the class')"
   ]
  },
  {
   "cell_type": "code",
   "execution_count": 3,
   "id": "9d4ece6c",
   "metadata": {},
   "outputs": [
    {
     "name": "stdout",
     "output_type": "stream",
     "text": [
      "Enter a number between 1 to 100:4\n",
      "Enter another number between 1 to 100:80\n",
      "4 5 6 7 8 9 10 11 12 13 14 15 16 17 18 19 20 21 22 23 24 25 26 27 28 29 30 31 32 33 34 35 36 37 38 39 40 41 42 43 44 45 46 47 48 49 50 51 52 53 54 55 56 57 58 59 60 61 62 63 64 65 66 67 68 69 70 71 72 73 74 75 76 77 78 79 80 "
     ]
    }
   ],
   "source": [
    "## Ask the user to enter two numbers between 1 to 100 and print them from lowest to highest.\n",
    "\n",
    "num_1 = int(input(\"Enter a number between 1 to 100:\"))\n",
    "num_2 = int(input(\"Enter another number between 1 to 100:\"))\n",
    "while num_1 < 0 or num_2 < 0 or num_1 > 100 or num_2 > 100 or num_1 == num_2:\n",
    "    print(\"The entered number is invalid, try again\")\n",
    "    num_1 = int(input(\"Enter a number between 1 to 100:\"))\n",
    "    num_2 = int(input(\"Enter another number between 1 to 100:\"))\n",
    "    \n",
    "if num_1 < num_2:\n",
    "    for i in range(num_1,num_2+1):\n",
    "        print(i,end = ' ')\n",
    "            \n",
    "else:\n",
    "    for i in range(num_2,num_1+1):\n",
    "        print(i, end = ' ')"
   ]
  },
  {
   "cell_type": "code",
   "execution_count": 4,
   "id": "d4858ee9",
   "metadata": {},
   "outputs": [
    {
     "name": "stdout",
     "output_type": "stream",
     "text": [
      "Enter a sentence:Get your work Done!\n",
      "!enoD krow ruoy teG\n"
     ]
    }
   ],
   "source": [
    "## Ask the user to enter a sentence and print it in reverse order.\n",
    "\n",
    "strings = input(\"Enter a sentence:\")\n",
    "reverse_string = ''\n",
    "for char in strings:\n",
    "    reverse_string = char + reverse_string\n",
    "    \n",
    "print(reverse_string)"
   ]
  },
  {
   "cell_type": "code",
   "execution_count": 5,
   "id": "79094f63",
   "metadata": {},
   "outputs": [
    {
     "name": "stdout",
     "output_type": "stream",
     "text": [
      "Enter a number between 1 to 12:7\n",
      "This is 7 times table\n",
      "\n",
      "1 x 7 is: 7\n",
      "\n",
      "2 x 7 is: 14\n",
      "\n",
      "3 x 7 is: 21\n",
      "\n",
      "4 x 7 is: 28\n",
      "\n",
      "5 x 7 is: 35\n",
      "\n",
      "6 x 7 is: 42\n",
      "\n",
      "7 x 7 is: 49\n",
      "\n",
      "8 x 7 is: 56\n",
      "\n",
      "9 x 7 is: 63\n",
      "\n",
      "10 x 7 is: 70\n",
      "\n",
      "11 x 7 is: 77\n",
      "\n",
      "12 x 7 is: 84\n"
     ]
    }
   ],
   "source": [
    "## Ask the user for a number between 1 to 12 and display the times table of that number till 12.\n",
    "\n",
    "num = int(input(\"Enter a number between 1 to 12:\"))\n",
    "if num > 12 and num < 1:\n",
    "    print(\"The number is in valid, try again!\")\n",
    "    num = int(input(\"Enter a number between 1 to 12\"))\n",
    "else:\n",
    "    print(f\"This is {num} times table\")\n",
    "    for i in range(1,13):\n",
    "        print(f'\\n{i} x {num} is:',(i*num))"
   ]
  },
  {
   "cell_type": "markdown",
   "id": "ce9fb037",
   "metadata": {},
   "source": [
    "[Go to contents](#Contents)"
   ]
  },
  {
   "cell_type": "code",
   "execution_count": 6,
   "id": "ece3395e",
   "metadata": {},
   "outputs": [
    {
     "name": "stdout",
     "output_type": "stream",
     "text": [
      "{'A': 86, 'B': 36, 'C': 70, 'D': 64, 'E': 99, 'F': 40, 'G': 73, 'H': 54, 'I': 66, 'J': 50, 'K': 63, 'L': 46, 'M': 90, 'N': 24, 'O': 66, 'P': 19, 'Q': 89, 'U': 53, 'R': 57, 'S': 87, 'T': 99, 'V': 3, 'W': 66, 'X': 17, 'Y': 5, 'Z': 75}\n"
     ]
    }
   ],
   "source": [
    "## create a dictionary with keys as alphabets and values as random numbers .\n",
    "\n",
    "import random\n",
    "keys = 'ABCDEFGHIJKLMNOPQURSTUVWXYZ'\n",
    "dic = {}\n",
    "for letters in keys:\n",
    "    dic[letters] = random.randint(1,100)         ## dic[letters] will assign each values in keys as the key by iterating over keys variable\n",
    "                                                 ## randint will assign random numbers for each keys\n",
    "print(dic)"
   ]
  },
  {
   "cell_type": "code",
   "execution_count": 7,
   "id": "1bc45602",
   "metadata": {},
   "outputs": [],
   "source": [
    "## Create a class to represent a bank account which has balance, make a deposit, withdrawal of money as its instances.\n",
    "\n",
    "class BankAccount(object):\n",
    "    ''' Details of the your account '''\n",
    "    \n",
    "    def __init__(self,balance):\n",
    "        self.balance = balance\n",
    "        \n",
    "    def balance_details(self):\n",
    "        print(f'Your account balance is {self.balance}')\n",
    "        \n",
    "    def make_deposit(self):\n",
    "        amount = float(input(\"Enter the amount you want to deposit:\"))\n",
    "        self.balance += amount\n",
    "        print(f'Your current account balance is {self.balance}')\n",
    "        \n",
    "    def make_withdrawal(self):\n",
    "        amount = float(input(\"Enter the amount you want to withdraw:\"))\n",
    "        if amount > self.balance:\n",
    "            print(f'You do not have sufficient funds, your balance is {self.balance}')\n",
    "        else:\n",
    "            self.balance -= amount\n",
    "            print(f'Withdrawal successfull, your balance is {self.balance}')\n",
    "        "
   ]
  },
  {
   "cell_type": "code",
   "execution_count": 8,
   "id": "7a4f4f57",
   "metadata": {},
   "outputs": [],
   "source": [
    "my_account = BankAccount(10000000)"
   ]
  },
  {
   "cell_type": "code",
   "execution_count": 9,
   "id": "226ae959",
   "metadata": {},
   "outputs": [
    {
     "name": "stdout",
     "output_type": "stream",
     "text": [
      "Your account balance is 10000000\n"
     ]
    }
   ],
   "source": [
    "my_account.balance_details()"
   ]
  },
  {
   "cell_type": "code",
   "execution_count": 10,
   "id": "28d01a9e",
   "metadata": {},
   "outputs": [
    {
     "name": "stdout",
     "output_type": "stream",
     "text": [
      "Enter the amount you want to deposit:5000000\n",
      "Your current account balance is 15000000.0\n"
     ]
    }
   ],
   "source": [
    "my_account.make_deposit()"
   ]
  },
  {
   "cell_type": "code",
   "execution_count": 12,
   "id": "c210ba87",
   "metadata": {},
   "outputs": [
    {
     "name": "stdout",
     "output_type": "stream",
     "text": [
      "Enter the amount you want to withdraw:2000000\n",
      "Withdrawal successfull, your balance is 13000000.0\n"
     ]
    }
   ],
   "source": [
    "my_account.make_withdrawal()"
   ]
  },
  {
   "cell_type": "code",
   "execution_count": 32,
   "id": "34867b02",
   "metadata": {},
   "outputs": [
    {
     "name": "stdout",
     "output_type": "stream",
     "text": [
      "{'Python DS': {'Open': 12.87, 'High': 13.23, 'Low': 11.42, 'Close': 13.1}, 'PythonSoft': {'Open': 23.54, 'High': 25.76, 'Low': 21.87, 'Close': 22.33}, 'Pythazon': {'Open': 98.99, 'High': 102.34, 'Low': 97.21, 'Close': 100.065}, 'Pybook': {'Open': 203.63, 'High': 207.54, 'Low': 202.43, 'Close': 205.24}}\n"
     ]
    }
   ],
   "source": [
    "# Create a dictionary to represent the open, high, low, close share price data for 4 imaginary companies. \n",
    "                     #'Python DS', 'PythonSoft', 'Pythazon' and 'Pybook'\n",
    "# the 4 sets of data are [12.87, 13.23, 11.42, 13.10], [23.54,25.76,21.87,22.33], [98.99,102.34,97.21,100.065],\n",
    "                     # [203.63,207.54,202.43,205.24]\n",
    "\n",
    "\n",
    "companies = ['Python DS', 'PythonSoft', 'Pythazon', 'Pybook']\n",
    "key_names = ['Open','High','Low','Close']\n",
    "prices = [[12.87, 13.23, 11.42, 13.10],[23.54,25.76,21.87,22.33],\n",
    "[98.99,102.34,97.21,100.065],[203.63,207.54,202.43,205.24]]\n",
    "\n",
    "d_1 = {}\n",
    "\n",
    "for i in range(len(key_names)):\n",
    "    d_1[companies[i]] = dict(zip(key_names,prices[i]))\n",
    "        \n",
    "print(d_1)    \n"
   ]
  },
  {
   "cell_type": "code",
   "execution_count": 33,
   "id": "7e643318",
   "metadata": {},
   "outputs": [
    {
     "name": "stdout",
     "output_type": "stream",
     "text": [
      "Today's date is 2023-07-02\n",
      "Just -1285 days until the holidays!\n"
     ]
    }
   ],
   "source": [
    "# Date and time module\n",
    "\n",
    "import datetime\n",
    "\n",
    "today = datetime.date.today()\n",
    "\n",
    "print(f\"Today's date is {today}\")\n",
    "holiday = datetime.date(2019,12,25)\n",
    "delta = holiday - today\n",
    "\n",
    "print(f\"Just {delta.days} days until the holidays!\")"
   ]
  },
  {
   "cell_type": "code",
   "execution_count": 34,
   "id": "be6d5e41",
   "metadata": {},
   "outputs": [
    {
     "name": "stdout",
     "output_type": "stream",
     "text": [
      "{'A': 45, 'B': 48, 'C': 36, 'D': 40, 'E': 73, 'F': 59, 'G': 58, 'H': 97, 'I': 18, 'J': 38, 'K': 48, 'L': 67, 'M': 75, 'N': 88, 'O': 69, 'P': 74, 'Q': 39, 'R': 10, 'S': 68, 'T': 3, 'U': 27, 'V': 48, 'W': 74, 'X': 26, 'Y': 76, 'Z': 65}\n"
     ]
    }
   ],
   "source": [
    "# dictoinary containing as keys the letters from A-Z, the values should be random numbers created from the random module.\n",
    "\n",
    "import random\n",
    "\n",
    "keys = 'ABCDEFGHIJKLMNOPQRSTUVWXYZ'\n",
    "\n",
    "d = dict()\n",
    "\n",
    "for letter in keys:\n",
    "    d[letter] = random.randint(1,100)\n",
    "    \n",
    "print(d)    "
   ]
  },
  {
   "cell_type": "code",
   "execution_count": 41,
   "id": "3b86816e",
   "metadata": {},
   "outputs": [
    {
     "data": {
      "text/plain": [
       "40"
      ]
     },
     "execution_count": 41,
     "metadata": {},
     "output_type": "execute_result"
    }
   ],
   "source": [
    "# function that performs multiplication of two arguments. By default the function should multiply the first argument by 2. \n",
    "\n",
    "def multiply(a,b=2):\n",
    "    \n",
    "    '''\n",
    "    Returns the product of a and b; if b not given \n",
    "    returns 2 * a.\n",
    "    '''\n",
    "    \n",
    "    return a * b\n",
    "\n",
    "multiply(20)"
   ]
  },
  {
   "cell_type": "code",
   "execution_count": 42,
   "id": "f56d8a99",
   "metadata": {},
   "outputs": [
    {
     "name": "stdout",
     "output_type": "stream",
     "text": [
      "Inputting 8 gives 64\n",
      "Inputting 2 and 8 gives 256\n"
     ]
    }
   ],
   "source": [
    "# Write a function to calculate a to the power of b. If b is not given its default value should be 2.\n",
    "\n",
    "\n",
    "def power(a,b=2):\n",
    "    '''\n",
    "    Returns a**b; if b not given,\n",
    "    it will return a**2\n",
    "    '''\n",
    "    return a ** b\n",
    "\n",
    "print(f'Inputting 8 gives {power(8)}')\n",
    "print(f'Inputting 2 and 8 gives {power(2,8)}')\n"
   ]
  },
  {
   "cell_type": "code",
   "execution_count": null,
   "id": "8042df4b",
   "metadata": {},
   "outputs": [],
   "source": [
    "# Write some code that requests the user to input another capital city. Add that city to the list of cities in capitals. \n",
    "#Then print the file to the screen.\n",
    "\n",
    "user_input = input('Plese enter a capital city:> ')\n",
    "\n",
    "file = open('capitals.txt','a')\n",
    "file.write('\\n' + user_input)\n",
    "file.close\n",
    "\n",
    "file = open('capitals.txt','r')\n",
    "print(file.read())\n",
    "file.close"
   ]
  },
  {
   "cell_type": "code",
   "execution_count": null,
   "id": "3bfd50ad",
   "metadata": {},
   "outputs": [],
   "source": [
    "# Write a function that will copy the contents of one file to a new file.\n",
    "\n",
    "def copy_file(infile,outfile):\n",
    "    ''' Copies the contents of infile to a new file, outfile.'''\n",
    "\n",
    "    with open(infile) as file_1:\n",
    "        with open(outfile, \"w\") as file_2:\n",
    "            file_2.write(file_1.read()) \n",
    "\n",
    "\n",
    "\n",
    "copy_file('capitals.txt','new_capitals.txt')\n"
   ]
  },
  {
   "cell_type": "markdown",
   "id": "521fbf5e",
   "metadata": {},
   "source": [
    "# *******************************************************************************************"
   ]
  },
  {
   "cell_type": "markdown",
   "id": "5c017071",
   "metadata": {},
   "source": [
    "[Go to contents](#Contents)"
   ]
  },
  {
   "cell_type": "markdown",
   "id": "7071757a",
   "metadata": {},
   "source": [
    "# 18. Advanced Problems"
   ]
  },
  {
   "cell_type": "markdown",
   "id": "5c27cffa",
   "metadata": {},
   "source": [
    "# 18.1 Ceaser Cipher "
   ]
  },
  {
   "cell_type": "code",
   "execution_count": 15,
   "id": "1f2c718f",
   "metadata": {},
   "outputs": [
    {
     "name": "stdout",
     "output_type": "stream",
     "text": [
      "The encrypted text is : cdwdcvflhqwlvw\n"
     ]
    }
   ],
   "source": [
    "# Ceaser Cipher is a method of encrypting a message. It is used in Julius Ceaser so the name.\n",
    "# Suppose we have the message \"A\" and we need to choose a number between 1 to 26 as there are 26 alphabets. \n",
    "# Lets say 4 then we need to swift \"A\" to 4th alphabet which is \"D\". This is a pretty simple encryption technique.\n",
    "\n",
    "alphabets = 'abcdefghijklmnopqurstuvwxyz'\n",
    "text = 'Data scientist'\n",
    "encrypted_text = ' ' \n",
    "\n",
    "for char in text:\n",
    "    alpha_index = alphabets.find(char)\n",
    "    encrypted_text = encrypted_text + alphabets[alpha_index + 3]\n",
    "    \n",
    "print(f'The encrypted text is :{encrypted_text}')"
   ]
  },
  {
   "cell_type": "code",
   "execution_count": 17,
   "id": "a5f14556",
   "metadata": {},
   "outputs": [],
   "source": [
    "## suppose the index of the text is out of range for 'alphabets' variable.\n",
    "## we want to encrypt the letter x by shifting with 5th alphabet it will give us error.\n",
    "\n",
    "def shift_index(i):\n",
    "    ''' This function will determine the shift index for letters that fall out of index range. '''\n",
    "    return i%26"
   ]
  },
  {
   "cell_type": "code",
   "execution_count": 23,
   "id": "21cf90ac",
   "metadata": {},
   "outputs": [
    {
     "name": "stdout",
     "output_type": "stream",
     "text": [
      "The encrypted text is : dexedeuepdwx\n"
     ]
    }
   ],
   "source": [
    "## testing with a higher index \n",
    "\n",
    "alphabets = 'abcdefghijklmnopqurstuvwxyz'\n",
    "text = 'Data analyst'\n",
    "encry_text = ' '\n",
    "for char in text:\n",
    "    alphabet_index = alphabets.find(char)\n",
    "    encry_text = encry_text + alphabets[shift_index(alphabet_index + 30)]\n",
    "\n",
    "print(f'The encrypted text is :{encry_text}')"
   ]
  },
  {
   "cell_type": "code",
   "execution_count": 24,
   "id": "f834c1e0",
   "metadata": {},
   "outputs": [],
   "source": [
    "## A complete ceaser cifer function\n",
    "\n",
    "alphabets = 'abcdefghijklmnopqrstuvwxyz'\n",
    "\n",
    "def shift_index(i):\n",
    "    ''' It will determine index for out of range indexes in alphabets '''\n",
    "    return i%26\n",
    "\n",
    "def Encryption(text,required_shift):\n",
    "    output_text = ''\n",
    "    text = text.lower()\n",
    "    for char in text:\n",
    "        text_index = alphabets.find(char)\n",
    "        output_text = output_text + alphabets[shift_index(text_index + required_shift)]\n",
    "        \n",
    "    return output_text"
   ]
  },
  {
   "cell_type": "code",
   "execution_count": 26,
   "id": "300bfda2",
   "metadata": {},
   "outputs": [
    {
     "data": {
      "text/plain": [
       "'duwlilfldoclqwhooljhqfh'"
      ]
     },
     "execution_count": 26,
     "metadata": {},
     "output_type": "execute_result"
    }
   ],
   "source": [
    "Encryption('Artificial Intelligence', 3)"
   ]
  },
  {
   "cell_type": "markdown",
   "id": "3c51bf49",
   "metadata": {},
   "source": [
    "# 18.2 Two - Sum "
   ]
  },
  {
   "cell_type": "code",
   "execution_count": 27,
   "id": "07d9bda6",
   "metadata": {},
   "outputs": [],
   "source": [
    "## Two - sum\n",
    "# suppose we have a list = [1,2,3,4,5] and a target = 7. The two sum function will have to return the indeces of the number \n",
    "# in the list that is sum to 7. In our list 3 and 4 will sum up to 7 and its indeces should be the output of our program.\n",
    "\n",
    "def Two_sum(nums, target):\n",
    "    d = {}\n",
    "    \n",
    "    for i in range(len(nums)):\n",
    "        if target - nums[i] in d:\n",
    "            print(d)\n",
    "            return [d[target - nums[i]],i]\n",
    "        \n",
    "        d[nums[i]] = i\n",
    "        \n",
    "    return -1"
   ]
  },
  {
   "cell_type": "code",
   "execution_count": 28,
   "id": "76300ebc",
   "metadata": {},
   "outputs": [
    {
     "name": "stdout",
     "output_type": "stream",
     "text": [
      "{8: 0, 6: 1, 11: 2}\n",
      "[1, 3]\n"
     ]
    }
   ],
   "source": [
    "L = [8,6,11,3]\n",
    "print(Two_sum(L,9))"
   ]
  },
  {
   "cell_type": "markdown",
   "id": "8d75868f",
   "metadata": {},
   "source": [
    "# 18.3 Towers of Hanoi\n",
    "- When moving 3 disks from A to C, we move the top two disks to B and then the bottom disk to C. More generally, when moving n disks from A to C we move n-1 disks to B; we then move the base disk from A to C and then move the stack of n-1 on B to C ."
   ]
  },
  {
   "cell_type": "code",
   "execution_count": 27,
   "id": "e55cbe01",
   "metadata": {},
   "outputs": [],
   "source": [
    "# We have 3 towers A, B and C or 3 Stacks\n",
    "\n",
    "A = [14,13,12,11,10,9,8,7,6,5,4,3,2,1]\n",
    "B = []\n",
    "C = []"
   ]
  },
  {
   "cell_type": "code",
   "execution_count": 28,
   "id": "43dd4bbe",
   "metadata": {},
   "outputs": [],
   "source": [
    "# According to our rules, if we want to move all disks 3,2 and 1 from A to C, we first move two disks from A to B. We then move\n",
    "# the base disk from A to C and then the stack of two from B to C\n",
    "count = 0\n",
    "def towers_of_hanoi(A,B,C,n):\n",
    "    global count \n",
    "    \n",
    "    if n == 1:\n",
    "        disk = A.pop()\n",
    "        C.append(disk)\n",
    "        count +=1    \n",
    "    else:\n",
    "        \n",
    "        towers_of_hanoi(A,C,B,n-1)\n",
    "        \n",
    "        towers_of_hanoi(A,B,C,1)\n",
    "        \n",
    "        towers_of_hanoi(B,A,C,n-1)\n",
    "    return count   "
   ]
  },
  {
   "cell_type": "code",
   "execution_count": 29,
   "id": "4ff107c9",
   "metadata": {},
   "outputs": [
    {
     "data": {
      "text/plain": [
       "16383"
      ]
     },
     "execution_count": 29,
     "metadata": {},
     "output_type": "execute_result"
    }
   ],
   "source": [
    "towers_of_hanoi(A,B,C,14)"
   ]
  },
  {
   "cell_type": "code",
   "execution_count": 30,
   "id": "eb3c86c8",
   "metadata": {},
   "outputs": [
    {
     "data": {
      "text/plain": [
       "[]"
      ]
     },
     "execution_count": 30,
     "metadata": {},
     "output_type": "execute_result"
    }
   ],
   "source": [
    "A"
   ]
  },
  {
   "cell_type": "code",
   "execution_count": 31,
   "id": "f5bdea86",
   "metadata": {},
   "outputs": [
    {
     "data": {
      "text/plain": [
       "[]"
      ]
     },
     "execution_count": 31,
     "metadata": {},
     "output_type": "execute_result"
    }
   ],
   "source": [
    "B"
   ]
  },
  {
   "cell_type": "code",
   "execution_count": 32,
   "id": "d56619e9",
   "metadata": {},
   "outputs": [
    {
     "data": {
      "text/plain": [
       "[14, 13, 12, 11, 10, 9, 8, 7, 6, 5, 4, 3, 2, 1]"
      ]
     },
     "execution_count": 32,
     "metadata": {},
     "output_type": "execute_result"
    }
   ],
   "source": [
    "C"
   ]
  },
  {
   "cell_type": "markdown",
   "id": "e601a743",
   "metadata": {},
   "source": [
    "[Go to Contents](#Contents)"
   ]
  },
  {
   "cell_type": "markdown",
   "id": "582cc960",
   "metadata": {},
   "source": [
    "# 18.4 Luhn Algorithm\n",
    "- The Luhn algorithm, also known as the modulus 10 algorithm, is a checksum formula used to validate various identification numbers, such as credit card numbers, IMEI numbers, and social security numbers."
   ]
  },
  {
   "cell_type": "code",
   "execution_count": 40,
   "id": "b924f7c9",
   "metadata": {},
   "outputs": [
    {
     "name": "stdout",
     "output_type": "stream",
     "text": [
      "Please enter credit card number:> 228347687623\n",
      "228347687623 is a valid credit card number.\n"
     ]
    }
   ],
   "source": [
    "number = input('Please enter credit card number:> ')\n",
    "\n",
    "num_list = [int(char) for char in number]\n",
    "num_len = len(num_list)\n",
    "num_list_rev = num_list[::-1]\n",
    "double = 0\n",
    "single = 0\n",
    "for i in range(0,num_len):\n",
    "    if i%2 != 0:\n",
    "        if 2*num_list_rev[i]>9:\n",
    "            double = double + 2*num_list_rev[i] - 9\n",
    "        else:\n",
    "            double = double + 2 * num_list_rev[i]\n",
    "    else:\n",
    "        single = single + num_list_rev[i]\n",
    "\n",
    "if (double+single)%10 == 0:\n",
    "    print(f'{number} is a valid credit card number.')\n",
    "else:\n",
    "    print(f'{number} is not a valid credit card number.')"
   ]
  },
  {
   "cell_type": "markdown",
   "id": "4d2b452f",
   "metadata": {},
   "source": [
    "Credit Card Numbers:\n",
    "\n",
    "\n",
    "371449635398431\n",
    "\n",
    "378734493671000\n",
    "\n",
    "5610591081018250\n",
    "\n",
    "30569309025904\n",
    "\n",
    "38520000023237\n",
    "\n",
    "6011111111111117\n",
    "\n",
    "6011000990139424\n",
    "\n",
    "3530111333300000\n",
    "\n",
    "3566002020360505\n",
    "\n",
    "5555555555554444\n",
    "\n",
    "5105105105105100\n",
    "\n",
    "4111111111111111\n",
    "\n",
    "4012888888881881\n",
    "\n",
    "4222222222222"
   ]
  },
  {
   "cell_type": "markdown",
   "id": "5633623a",
   "metadata": {},
   "source": [
    "# 18.5 Search and Sort algorithm\n",
    "\n",
    "## Linear Search\n",
    "  - Linear search will look for a specific item in out list from top to bottom. \n",
    "  - It looks for an item if its not there then linear search will move to the next item and if the item is not present in the 2nd row then it moves to next, this process continues till the item we are looking for is found or we end up at the bottom of the list.\n",
    "  - The time taken to perform the search is constant, independent of the number of items present in the list."
   ]
  },
  {
   "cell_type": "code",
   "execution_count": 41,
   "id": "c90502b2",
   "metadata": {},
   "outputs": [],
   "source": [
    "def linear_search(item, my_list):           ## item we are looking for and name of the list\n",
    "    i = 0                                   ## i is created to know where we are in the list\n",
    "    found = False                   ## found, whether the item is found or not and it will change to TRUE if the item is found\n",
    "    \n",
    "    while i < len(my_list) and found == False:     \n",
    "        if my_list[i] == item:\n",
    "            found = True\n",
    "        else:\n",
    "            i = i + 1                           ## if this item is not we are looking for then we move to the next item\n",
    "    return found         "
   ]
  },
  {
   "cell_type": "code",
   "execution_count": 42,
   "id": "6157ed19",
   "metadata": {},
   "outputs": [
    {
     "name": "stdout",
     "output_type": "stream",
     "text": [
      "False\n",
      "True\n"
     ]
    }
   ],
   "source": [
    "test = [6,5,8,2,3,45,87,24,70]\n",
    "print(linear_search(4,test))          ## not in the list \n",
    "print(linear_search(87,test))         ## in the list"
   ]
  },
  {
   "cell_type": "markdown",
   "id": "9c3112b9",
   "metadata": {},
   "source": [
    "## Binary Search\n",
    " - Binary search is a logarithmic search and sort algorithm.\n",
    " - Binary search depends on sorting(ascending or decendind) of a list or a dictionary to perform the search operation.\n",
    " - Lets say we are looking for the number 20 and the list contains 1 to 100, the list is sorted(ascending order). What binary search does is that is looks in the middle for the number 20, if the number found is 50 then obviously binary search will look in the left side as 20 is lesser then 50 and again from the 50 numbers it looks in the middle then we end up finding 25 and it looks in the left side and this process continues till the number we are looking is found.\n",
    " - While performing binary search it gets rid of half of the items as if the item found it greater, then the greater side (right side) of the items will be left out and only the left side is considered to perform the search operation.\n",
    " - Binary search is an effective algorithm but depends on sorting of the list."
   ]
  },
  {
   "cell_type": "code",
   "execution_count": 43,
   "id": "6168fe9d",
   "metadata": {},
   "outputs": [],
   "source": [
    "def binary_search(item, my_list):\n",
    "    found = False\n",
    "    first = 0                     ## first and last is len of the list to find the middle value of the list\n",
    "    last = len(my_list) - 1\n",
    "    \n",
    "    while first <= last and found == False:    ## first will always be lesser then last and we need to continue our search so found == false\n",
    "        midpoint = (first + last)//2           ## floor division\n",
    "        if my_list[midpoint] == item:\n",
    "            found = True\n",
    "        else:\n",
    "            if my_list[midpoint] < item:\n",
    "                first = midpoint + 1\n",
    "            else:\n",
    "                last = midpoint - 1\n",
    "    return found         "
   ]
  },
  {
   "cell_type": "code",
   "execution_count": 44,
   "id": "10102abe",
   "metadata": {},
   "outputs": [
    {
     "name": "stdout",
     "output_type": "stream",
     "text": [
      "[1, 2, 3, 4, 5, 15, 35, 87, 88]\n",
      "True\n",
      "True\n"
     ]
    }
   ],
   "source": [
    "test = [2,3,5,4,1,35,15,88,87]\n",
    "test = sorted(test)\n",
    "print(test)\n",
    "print(binary_search(87,test))\n",
    "print(binary_search(88,test))"
   ]
  },
  {
   "cell_type": "markdown",
   "id": "bde282db",
   "metadata": {},
   "source": [
    "## Bubble Sort\n",
    "  - Bubble sort algorithm is a sorting algorithm.\n",
    "  - Lets say we have a list [45,25,26,21], the algorithm looks at the first number 45 then it compares it with the next number 25 whether is it greater or lesser, as 45 is greater then 25 it will shift 45 to the second place and 25 will end up being in the first and then it compares 45 with 26, again 45 will shifted and 26 comes to the second place, this process continues till 45 gets shifts to the end of the list as it is the greatest number in the list. \n",
    "  - After completeing the first cycle our list will be [25,26,21,45] and then again the sorting process continues but this time there wont be any change between 25 and 26 but 21 will be shifted to the second place as 21 is lesser then 26.\n",
    "  - After the process our list will be [25,21,26,45], the sorting process starts and 21 will be shifted to the first place and our list will be sorted."
   ]
  },
  {
   "cell_type": "code",
   "execution_count": 45,
   "id": "a578df46",
   "metadata": {},
   "outputs": [],
   "source": [
    "def bubble_sort(my_list):\n",
    "    swap_again = True\n",
    "    n = len(my_list)\n",
    "    while n > 0 and swap_again == True:\n",
    "        n = n - 1\n",
    "        swap_again == False\n",
    "        \n",
    "        for i in range(n):\n",
    "            if my_list[i] > my_list[i+1]:\n",
    "                my_list[i], my_list[i+1] = my_list[i+1], my_list[i]\n",
    "                swap_again = True\n",
    "    return my_list   "
   ]
  },
  {
   "cell_type": "code",
   "execution_count": 46,
   "id": "4bea2297",
   "metadata": {},
   "outputs": [
    {
     "name": "stdout",
     "output_type": "stream",
     "text": [
      "[2, 3, 5, 6, 8, 24, 45, 70, 87]\n"
     ]
    }
   ],
   "source": [
    "test_2 = [70,24,87,45,6,3,2,8,5]\n",
    "print(bubble_sort(test_2))"
   ]
  },
  {
   "cell_type": "markdown",
   "id": "a148ef1d",
   "metadata": {},
   "source": [
    "## Insertion Sort\n",
    "  - Insertion sort is an sorting algorithm which sorts the elements in list in a ascending order.\n",
    "  - Insertion sort considers the first element in a list as sorted, then if the second element is lesser then the first element it moves the second element to the first and this process continues till the entire list is sorted .\n",
    "  - Suppose we have a list [6,5,4,3,2,1], Insertion sort algorithm considers 6 as a sorted sublist then we have 5 as it is lesser then 6, 5 will be moved to front and we have 4 as 4 is lesser than both 5 and 6 it will moved further this process continues till there is no elements to be sorted."
   ]
  },
  {
   "cell_type": "code",
   "execution_count": 47,
   "id": "7f8b22a0",
   "metadata": {},
   "outputs": [],
   "source": [
    "def insertion_sort(my_list):\n",
    "    n = len(my_list)\n",
    "    for i in range(1,n):\n",
    "        value = my_list[i]\n",
    "        j = i\n",
    "        while j > 0 and my_list[j-1] > value:\n",
    "            my_list[j] = my_list[j-1]\n",
    "            j = j - 1\n",
    "        my_list[j] = value\n",
    "    return my_list     "
   ]
  },
  {
   "cell_type": "code",
   "execution_count": 48,
   "id": "4d1b8199",
   "metadata": {},
   "outputs": [
    {
     "name": "stdout",
     "output_type": "stream",
     "text": [
      "[2, 3, 5, 6, 8, 24, 45, 70, 87]\n"
     ]
    }
   ],
   "source": [
    "test_2 = [70,24,87,45,6,3,2,8,5]\n",
    "print(insertion_sort(test_2))"
   ]
  },
  {
   "cell_type": "markdown",
   "id": "74940647",
   "metadata": {},
   "source": [
    "# 18.6 Rock, Paper, Scissor"
   ]
  },
  {
   "cell_type": "code",
   "execution_count": 51,
   "id": "481efb65",
   "metadata": {},
   "outputs": [
    {
     "name": "stdout",
     "output_type": "stream",
     "text": [
      "Start of Rock-Paper-Scissors Game - 5 rounds.\n",
      "It's round No. 1.\n",
      "Enter your move (R/P/S): 5\n",
      "Invalid move. Please enter 'R', 'P' or 'S'.\n",
      "Enter your move (R/P/S): P\n",
      "Computer's choice: S\n",
      "You win!\n",
      "Current result: PC (0) - You (1)\n",
      "------------------------------\n",
      "It's round No. 2.\n",
      "Enter your move (R/P/S): S\n",
      "Computer's choice: P\n",
      "You lose!\n",
      "Current result: PC (1) - You (1)\n",
      "------------------------------\n",
      "It's round No. 3.\n",
      "Enter your move (R/P/S): P\n",
      "Computer's choice: S\n",
      "You win!\n",
      "Current result: PC (1) - You (2)\n",
      "------------------------------\n",
      "It's round No. 4.\n",
      "Enter your move (R/P/S): P\n",
      "Computer's choice: R\n",
      "You lose!\n",
      "Current result: PC (2) - You (2)\n",
      "------------------------------\n",
      "It's round No. 5.\n",
      "Enter your move (R/P/S): P\n",
      "Computer's choice: P\n",
      "It's a draw!\n",
      "Current result: PC (2) - You (3)\n",
      "------------------------------\n"
     ]
    }
   ],
   "source": [
    "import random\n",
    "random.seed(365)\n",
    "\n",
    "int2choice = {0: 'R', 1: 'P', 2: 'S'}\n",
    "\n",
    "class RPS_Game:\n",
    "    def __init__(self, num_rounds):\n",
    "        self.num_rounds = num_rounds\n",
    "        self.counter_pc_wins = 0\n",
    "        self.draws = 0\n",
    "        print(f\"Start of Rock-Paper-Scissors Game - {num_rounds} rounds.\")\n",
    "\n",
    "    def play(self):\n",
    "        for nr in range(self.num_rounds):\n",
    "            print(f\"It's round No. {nr + 1}.\")\n",
    "\n",
    "            user_choice = input(\"Enter your move (R/P/S): \").upper()\n",
    "\n",
    "            while user_choice not in {'R', 'P', 'S'}:\n",
    "                print(\"Invalid move. Please enter 'R', 'P' or 'S'.\")\n",
    "                user_choice = input(\"Enter your move (R/P/S): \").upper()\n",
    "\n",
    "            pc_choice = int2choice[random.randint(0, 2)]\n",
    "            print(f\"Computer's choice: {pc_choice}\")\n",
    "\n",
    "            if user_choice == pc_choice:\n",
    "                self.draws += 1\n",
    "                print(\"It's a draw!\")\n",
    "            elif (user_choice == 'R' and pc_choice == 'S') or (user_choice == 'P' and pc_choice == 'R') or (\n",
    "                    user_choice == 'S' and pc_choice == 'P'):\n",
    "                self.counter_pc_wins += 1\n",
    "                print(\"You lose!\")\n",
    "            else:\n",
    "                print(\"You win!\")\n",
    "\n",
    "            print(f\"Current result: PC ({self.counter_pc_wins}) - You ({nr - self.counter_pc_wins + 1})\")\n",
    "            print('-' * 30)\n",
    "\n",
    "# Example usage\n",
    "game = RPS_Game(5)  # Create a game with 5 rounds\n",
    "game.play()\n"
   ]
  },
  {
   "cell_type": "markdown",
   "id": "fde3f046",
   "metadata": {},
   "source": [
    "# *******************************************************************************************"
   ]
  },
  {
   "cell_type": "markdown",
   "id": "a0294f59",
   "metadata": {},
   "source": [
    "[Go to Contents](#Contents)"
   ]
  },
  {
   "cell_type": "markdown",
   "id": "fceeae31",
   "metadata": {},
   "source": [
    "# Polymorphism\n",
    "# Data abstraction\n",
    "# Encapsulation"
   ]
  }
 ],
 "metadata": {
  "jupytext": {
   "cell_metadata_filter": "-all",
   "encoding": "# coding: utf-8",
   "executable": "/usr/bin/env python",
   "main_language": "python",
   "notebook_metadata_filter": "-all"
  },
  "kernelspec": {
   "display_name": "Python [conda env:base] *",
   "language": "python",
   "name": "conda-base-py"
  },
  "language_info": {
   "codemirror_mode": {
    "name": "ipython",
    "version": 3
   },
   "file_extension": ".py",
   "mimetype": "text/x-python",
   "name": "python",
   "nbconvert_exporter": "python",
   "pygments_lexer": "ipython3",
   "version": "3.12.7"
  }
 },
 "nbformat": 4,
 "nbformat_minor": 5
}
