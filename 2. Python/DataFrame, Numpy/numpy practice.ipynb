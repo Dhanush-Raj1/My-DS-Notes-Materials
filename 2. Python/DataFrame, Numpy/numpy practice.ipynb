{
 "cells": [
  {
   "cell_type": "code",
   "execution_count": 1,
   "id": "b56c8501",
   "metadata": {},
   "outputs": [
    {
     "name": "stdout",
     "output_type": "stream",
     "text": [
      "1.24.2\n"
     ]
    }
   ],
   "source": [
    "import numpy as np\n",
    "print(np.__version__)"
   ]
  },
  {
   "cell_type": "markdown",
   "id": "0449bdfe",
   "metadata": {},
   "source": [
    "## Create a numpy array of size 10, filled with zeros."
   ]
  },
  {
   "cell_type": "code",
   "execution_count": 2,
   "id": "4730ec04",
   "metadata": {},
   "outputs": [
    {
     "data": {
      "text/plain": [
       "array([0., 0., 0., 0., 0., 0., 0., 0., 0., 0.])"
      ]
     },
     "execution_count": 2,
     "metadata": {},
     "output_type": "execute_result"
    }
   ],
   "source": [
    "np.zeros(10)"
   ]
  },
  {
   "cell_type": "markdown",
   "id": "5531b5ed",
   "metadata": {},
   "source": [
    "## Create a numpy array with values ranging from 10 to 49"
   ]
  },
  {
   "cell_type": "code",
   "execution_count": 3,
   "id": "7600d0d6",
   "metadata": {},
   "outputs": [
    {
     "data": {
      "text/plain": [
       "array([10, 11, 12, 13, 14, 15, 16, 17, 18, 19, 20, 21, 22, 23, 24, 25, 26,\n",
       "       27, 28, 29, 30, 31, 32, 33, 34, 35, 36, 37, 38, 39, 40, 41, 42, 43,\n",
       "       44, 45, 46, 47, 48, 49])"
      ]
     },
     "execution_count": 3,
     "metadata": {},
     "output_type": "execute_result"
    }
   ],
   "source": [
    "np.arange(10,50)"
   ]
  },
  {
   "cell_type": "markdown",
   "id": "275eeb0f",
   "metadata": {},
   "source": [
    "## Create a numpy matrix of 2*2 integers, filled with ones"
   ]
  },
  {
   "cell_type": "code",
   "execution_count": 7,
   "id": "5fbb11a1",
   "metadata": {},
   "outputs": [
    {
     "data": {
      "text/plain": [
       "array([[1, 1],\n",
       "       [1, 1]])"
      ]
     },
     "execution_count": 7,
     "metadata": {},
     "output_type": "execute_result"
    }
   ],
   "source": [
    "np.ones([2,2], dtype=int)"
   ]
  },
  {
   "cell_type": "markdown",
   "id": "973c5478",
   "metadata": {},
   "source": [
    "## Create a numpy matrix of 3*2 float numbers, filled with ones."
   ]
  },
  {
   "cell_type": "code",
   "execution_count": 10,
   "id": "a9fba24e",
   "metadata": {},
   "outputs": [
    {
     "data": {
      "text/plain": [
       "array([[1., 1.],\n",
       "       [1., 1.],\n",
       "       [1., 1.]])"
      ]
     },
     "execution_count": 10,
     "metadata": {},
     "output_type": "execute_result"
    }
   ],
   "source": [
    "np.ones([3,2], dtype=float)"
   ]
  },
  {
   "cell_type": "markdown",
   "id": "f43562e9",
   "metadata": {},
   "source": [
    "## Given the X numpy array, create a new numpy array with the same shape and type as X, filled with ones."
   ]
  },
  {
   "cell_type": "code",
   "execution_count": 13,
   "id": "4398b02b",
   "metadata": {},
   "outputs": [
    {
     "data": {
      "text/plain": [
       "array([0, 1, 2, 3])"
      ]
     },
     "execution_count": 13,
     "metadata": {},
     "output_type": "execute_result"
    }
   ],
   "source": [
    "x = np.arange(4, dtype=int)\n",
    "x"
   ]
  },
  {
   "cell_type": "code",
   "execution_count": 12,
   "id": "13e2bcb3",
   "metadata": {},
   "outputs": [
    {
     "data": {
      "text/plain": [
       "array([1, 1, 1, 1])"
      ]
     },
     "execution_count": 12,
     "metadata": {},
     "output_type": "execute_result"
    }
   ],
   "source": [
    "np.ones(4, dtype=int)"
   ]
  },
  {
   "cell_type": "code",
   "execution_count": 14,
   "id": "522f2f15",
   "metadata": {},
   "outputs": [
    {
     "data": {
      "text/plain": [
       "array([1, 1, 1, 1])"
      ]
     },
     "execution_count": 14,
     "metadata": {},
     "output_type": "execute_result"
    }
   ],
   "source": [
    "np.ones_like(x)"
   ]
  },
  {
   "cell_type": "markdown",
   "id": "fa846ae4",
   "metadata": {},
   "source": [
    "## Create a numpy matrix of 4*4 integers, filled with fives."
   ]
  },
  {
   "cell_type": "code",
   "execution_count": 16,
   "id": "cef98dd6",
   "metadata": {},
   "outputs": [
    {
     "data": {
      "text/plain": [
       "array([[5, 5, 5, 5],\n",
       "       [5, 5, 5, 5],\n",
       "       [5, 5, 5, 5],\n",
       "       [5, 5, 5, 5]])"
      ]
     },
     "execution_count": 16,
     "metadata": {},
     "output_type": "execute_result"
    }
   ],
   "source": [
    "np.ones([4, 4], dtype=int)*5"
   ]
  },
  {
   "cell_type": "markdown",
   "id": "052e7bce",
   "metadata": {},
   "source": [
    "## Create a 3*3 identity numpy matrix with ones on the diagonal and zeros elsewhere."
   ]
  },
  {
   "cell_type": "code",
   "execution_count": 17,
   "id": "61bce9e2",
   "metadata": {},
   "outputs": [
    {
     "data": {
      "text/plain": [
       "array([[1., 0., 0.],\n",
       "       [0., 1., 0.],\n",
       "       [0., 0., 1.]])"
      ]
     },
     "execution_count": 17,
     "metadata": {},
     "output_type": "execute_result"
    }
   ],
   "source": [
    "np.identity(3)"
   ]
  },
  {
   "cell_type": "markdown",
   "id": "8bd94bd5",
   "metadata": {},
   "source": [
    "## Create a numpy array, filled with 3 random integer values between 1 and 10."
   ]
  },
  {
   "cell_type": "code",
   "execution_count": 18,
   "id": "5df44e12",
   "metadata": {},
   "outputs": [
    {
     "data": {
      "text/plain": [
       "array([6, 5, 1])"
      ]
     },
     "execution_count": 18,
     "metadata": {},
     "output_type": "execute_result"
    }
   ],
   "source": [
    "np.random.randint(1, 10, 3)"
   ]
  },
  {
   "cell_type": "code",
   "execution_count": 19,
   "id": "437f3323",
   "metadata": {},
   "outputs": [
    {
     "data": {
      "text/plain": [
       "array([7, 9, 1])"
      ]
     },
     "execution_count": 19,
     "metadata": {},
     "output_type": "execute_result"
    }
   ],
   "source": [
    "np.random.randint(10, size=3)"
   ]
  },
  {
   "cell_type": "markdown",
   "id": "4eaff0ea",
   "metadata": {},
   "source": [
    "## Create a 3 * 3 * 3 numpy matrix, filled with random float values."
   ]
  },
  {
   "cell_type": "code",
   "execution_count": 21,
   "id": "f7032fe1",
   "metadata": {},
   "outputs": [
    {
     "data": {
      "text/plain": [
       "array([[[ 0.80180427, -1.26591413,  0.81050085],\n",
       "        [-0.06657624, -1.20478268,  0.16341926],\n",
       "        [ 0.52951874, -0.9619195 ,  0.79245298]],\n",
       "\n",
       "       [[ 1.07907585, -0.23889419, -1.91416011],\n",
       "        [-0.63690585, -0.22465488, -0.17670178],\n",
       "        [-0.14110949, -1.54843348, -1.52946072]],\n",
       "\n",
       "       [[-0.95881625, -1.80126234, -0.17241373],\n",
       "        [ 0.0710858 ,  0.95940029, -0.05239786],\n",
       "        [ 0.22816713,  1.7043605 , -0.70125807]]])"
      ]
     },
     "execution_count": 21,
     "metadata": {},
     "output_type": "execute_result"
    }
   ],
   "source": [
    "np.random.randn(3,3,3)"
   ]
  },
  {
   "cell_type": "markdown",
   "id": "cd23d319",
   "metadata": {},
   "source": [
    "## Given the X python list convert it to an Y numpy array"
   ]
  },
  {
   "cell_type": "code",
   "execution_count": 22,
   "id": "1637afc7",
   "metadata": {},
   "outputs": [
    {
     "name": "stdout",
     "output_type": "stream",
     "text": [
      "[1, 2, 3] <class 'list'>\n"
     ]
    }
   ],
   "source": [
    "X = [1, 2, 3]\n",
    "print(X, type(X))"
   ]
  },
  {
   "cell_type": "code",
   "execution_count": 23,
   "id": "05d2076a",
   "metadata": {},
   "outputs": [
    {
     "name": "stdout",
     "output_type": "stream",
     "text": [
      "[0 1 2 3] <class 'numpy.ndarray'>\n"
     ]
    }
   ],
   "source": [
    "y = np.array(x)\n",
    "print(y, type(y))"
   ]
  },
  {
   "cell_type": "markdown",
   "id": "1a37969e",
   "metadata": {},
   "source": [
    "## Check the identity number of y"
   ]
  },
  {
   "cell_type": "code",
   "execution_count": 24,
   "id": "1cf2bdc1",
   "metadata": {},
   "outputs": [
    {
     "name": "stdout",
     "output_type": "stream",
     "text": [
      "430390376944\n"
     ]
    }
   ],
   "source": [
    "print(id(y))"
   ]
  },
  {
   "cell_type": "code",
   "execution_count": 25,
   "id": "e6c04cf9",
   "metadata": {},
   "outputs": [
    {
     "name": "stdout",
     "output_type": "stream",
     "text": [
      "Help on built-in function id in module builtins:\n",
      "\n",
      "id(obj, /)\n",
      "    Return the identity of an object.\n",
      "    \n",
      "    This is guaranteed to be unique among simultaneously existing objects.\n",
      "    (CPython uses the object's memory address.)\n",
      "\n"
     ]
    }
   ],
   "source": [
    "help(id)"
   ]
  },
  {
   "cell_type": "markdown",
   "id": "4e80f199",
   "metadata": {},
   "source": [
    "## Create a numpy array with the odd numbers between 1 to 10"
   ]
  },
  {
   "cell_type": "code",
   "execution_count": 27,
   "id": "21b84d6b",
   "metadata": {},
   "outputs": [
    {
     "data": {
      "text/plain": [
       "array([1, 3, 5, 7, 9])"
      ]
     },
     "execution_count": 27,
     "metadata": {},
     "output_type": "execute_result"
    }
   ],
   "source": [
    "np.arange(1, 11, 2)"
   ]
  },
  {
   "cell_type": "markdown",
   "id": "9318b41d",
   "metadata": {},
   "source": [
    "## Create a numpy array with numbers from 1 to 10, in descending order."
   ]
  },
  {
   "cell_type": "code",
   "execution_count": 32,
   "id": "8ae24183",
   "metadata": {},
   "outputs": [
    {
     "data": {
      "text/plain": [
       "array([10,  9,  8,  7,  6,  5,  4,  3,  2,  1])"
      ]
     },
     "execution_count": 32,
     "metadata": {},
     "output_type": "execute_result"
    }
   ],
   "source": [
    "np.arange(1, 11)[::-1]"
   ]
  },
  {
   "cell_type": "markdown",
   "id": "3d4c529f",
   "metadata": {},
   "source": [
    "## Create a 3*3 numpy matrix, filled with values ranging from 0 to 8"
   ]
  },
  {
   "cell_type": "code",
   "execution_count": 35,
   "id": "d471e358",
   "metadata": {},
   "outputs": [
    {
     "data": {
      "text/plain": [
       "array([[0, 1, 2],\n",
       "       [3, 4, 5],\n",
       "       [6, 7, 8]])"
      ]
     },
     "execution_count": 35,
     "metadata": {},
     "output_type": "execute_result"
    }
   ],
   "source": [
    "np.arange(9).reshape(3,3)"
   ]
  },
  {
   "cell_type": "markdown",
   "id": "03a058f0",
   "metadata": {},
   "source": [
    "### Create a function named calculate() in mean_var_std.py that uses Numpy to output the mean, variance, standard deviation, max, min, and sum of the rows, columns, and elements in a 3 x 3 matrix.\n",
    "\n",
    "### The input of the function should be a list containing 9 digits. The function should convert the list into a 3 x 3 Numpy array, and then return a dictionary containing the mean, variance, standard deviation, max, min, and sum along both axes and for the flattened matrix.\n",
    "\n",
    "### If a list containing less than 9 elements is passed into the function, it should raise a ValueError exception with the message: \"List must contain nine numbers.\" The values in the returned dictionary should be lists and not Numpy arrays."
   ]
  },
  {
   "cell_type": "code",
   "execution_count": 2,
   "id": "c1591610",
   "metadata": {},
   "outputs": [],
   "source": [
    "import numpy as np\n",
    "\n",
    "lst = [1,2,3,4,5,6,7,8,9]"
   ]
  },
  {
   "cell_type": "code",
   "execution_count": 6,
   "id": "399ac863",
   "metadata": {},
   "outputs": [],
   "source": [
    "def calculate(l):\n",
    "    \n",
    "    if len(l) > 9:\n",
    "        raise ValueError(\"List must contain nine numbers\")\n",
    "    else:\n",
    "        array = np.reshape(l, (3,3))\n",
    "    \n",
    "        mean1 = np.mean(array, axis=1)\n",
    "        mean2 = np.mean(array, axis=0)\n",
    "        flatmean = np.mean(array.flatten())\n",
    "    \n",
    "        var1 = np.var(array, axis=1)\n",
    "        var2 = np.var(array, axis=0)\n",
    "        flatvar = np.var(array)\n",
    "    \n",
    "        std1 = np.std(array, axis=1)\n",
    "        std2 = np.std(array, axis=0)\n",
    "        flatstd = np.std(array)\n",
    "    \n",
    "        max1 = np.max(array, axis=1)\n",
    "        max2 = np.max(array, axis=0)\n",
    "        flatmax = np.max(array)\n",
    "    \n",
    "        min1 = np.min(array, axis=1)\n",
    "        min2 = np.min(array, axis=0)\n",
    "        flatmin = np.min(array)\n",
    "    \n",
    "        sum1 = np.sum(array, axis=1)\n",
    "        sum2 = np.sum(array, axis=0)\n",
    "        flatsum = np.sum(array)\n",
    "    \n",
    "        dic = { 'mean' : [[mean1], [mean2], [flatmean]],\n",
    "                'var'  : [[var1], [var2], [flatvar]],\n",
    "                'std'  : [[std1], [std2], [flatstd]],\n",
    "                'maxi' : [[max1], [max2], [flatmax]],\n",
    "                'mini' : [[min1], [min2], [flatmin]],\n",
    "                'sums' : [[sum1], [sum2], [flatsum]] }\n",
    "    \n",
    "    \n",
    "        return dic\n",
    "    "
   ]
  },
  {
   "cell_type": "code",
   "execution_count": 7,
   "id": "c9583f71",
   "metadata": {},
   "outputs": [],
   "source": [
    "newlst = [1,2,3,4,5,6,7,8]"
   ]
  },
  {
   "cell_type": "code",
   "execution_count": 19,
   "id": "0d048979",
   "metadata": {
    "scrolled": true
   },
   "outputs": [
    {
     "data": {
      "text/plain": [
       "{'mean': [[array([1., 4., 7.])], [array([3., 4., 5.])], [4.0]],\n",
       " 'var': [[array([0.66666667, 0.66666667, 0.66666667])],\n",
       "  [array([6., 6., 6.])],\n",
       "  [6.666666666666667]],\n",
       " 'std': [[array([0.81649658, 0.81649658, 0.81649658])],\n",
       "  [array([2.44948974, 2.44948974, 2.44948974])],\n",
       "  [2.581988897471611]],\n",
       " 'maxi': [[array([2, 5, 8])], [array([6, 7, 8])], [8]],\n",
       " 'mini': [[array([0, 3, 6])], [array([0, 1, 2])], [0]],\n",
       " 'sums': [[array([ 3, 12, 21])], [array([ 9, 12, 15])], [36]]}"
      ]
     },
     "execution_count": 19,
     "metadata": {},
     "output_type": "execute_result"
    }
   ],
   "source": [
    "calculate(lst)"
   ]
  },
  {
   "cell_type": "code",
   "execution_count": 6,
   "id": "4a88c55f",
   "metadata": {},
   "outputs": [],
   "source": [
    "lst = [0,1,2,3,4,5,6,7,8]"
   ]
  },
  {
   "cell_type": "code",
   "execution_count": 7,
   "id": "c80a8a01",
   "metadata": {},
   "outputs": [],
   "source": [
    "def new_calculator(ls):\n",
    "    if len(ls) > 9:\n",
    "        raise ValueError(\"List should contain nine numbers\")\n",
    "    else:\n",
    "        mean_rows = ([ls[[0,1,2]].mean(), ls[[3,4,5]].mean(), ls[[6,7,8]].mean()])\n",
    "        mean_columns = ([ls[[0,3,6]].mean(), ls[[1,4,7]].mean(), ls[[2,5,8]].mean()])\n",
    "        \n",
    "        var_rows = ([ls[[0,1,2]].var(), ls[[3,4,5]].var(), ls[[6,7,8]].var()])\n",
    "        var_columns = ([ls[[0,3,6]].var(), ls[[1,4,7]].var(), ls[[2,5,8]].var()])\n",
    "        \n",
    "        std_rows = ([ls[[0,1,2]].std(), ls[[3,4,5]].std(), ls[[6,7,8]].std()])\n",
    "        std_columns = ([ls[[0,3,6]].std(), ls[[1,4,7]].std(), ls[[2,5,8]].std()])\n",
    "        \n",
    "        max_rows = ([ls[[0,1,2]].max(), ls[[3,4,5]].max(), ls[[6,7,8]].max()])\n",
    "        max_columns = ([ls[[0,3,6]].max(), ls[[1,4,7]].max(), ls[[2,5,8]].max()])\n",
    "        \n",
    "        min_rows = ([ls[[0,1,2]].min(), ls[[3,4,5]].min(), ls[[6,7,8]].min()])\n",
    "        min_columns = ([ls[[0,3,6]].max(), ls[[1,4,7]].min(), ls[[2,5,8]].min()])\n",
    "        \n",
    "        sum_rows = ([ls[[0,1,2]].sum(), ls[[3,4,5]].sum(), ls[[6,7,8]].sum()])\n",
    "        sum_columns = ([ls[[0,3,6]].sum(), ls[[1,4,7]].sum(), ls[[2,5,8]].sum()])\n",
    "        \n",
    "        return{'mean': [mean_columns, mean_rows, ls.mean()],\n",
    "              'variance': [var_columns, var_rows, ls.var()],\n",
    "              'standard deviation': [std_columns, std_rows, ls.std()],\n",
    "              'max': [max_columns, max_rows, ls.max()],\n",
    "              'min': [min_columns, min_rows, ls.rows()],\n",
    "              'sum': [sum_columns, sum_rows, ls.sum()]}\n",
    "            "
   ]
  },
  {
   "cell_type": "code",
   "execution_count": 8,
   "id": "7fd50cc8",
   "metadata": {},
   "outputs": [
    {
     "ename": "TypeError",
     "evalue": "list indices must be integers or slices, not list",
     "output_type": "error",
     "traceback": [
      "\u001b[1;31m---------------------------------------------------------------------------\u001b[0m",
      "\u001b[1;31mTypeError\u001b[0m                                 Traceback (most recent call last)",
      "\u001b[1;32m~\\AppData\\Local\\Temp\\ipykernel_5188\\2199456458.py\u001b[0m in \u001b[0;36m<module>\u001b[1;34m\u001b[0m\n\u001b[1;32m----> 1\u001b[1;33m \u001b[0mnew_calculator\u001b[0m\u001b[1;33m(\u001b[0m\u001b[0mlst\u001b[0m\u001b[1;33m)\u001b[0m\u001b[1;33m\u001b[0m\u001b[1;33m\u001b[0m\u001b[0m\n\u001b[0m",
      "\u001b[1;32m~\\AppData\\Local\\Temp\\ipykernel_5188\\4223663472.py\u001b[0m in \u001b[0;36mnew_calculator\u001b[1;34m(ls)\u001b[0m\n\u001b[0;32m      3\u001b[0m         \u001b[1;32mraise\u001b[0m \u001b[0mValueError\u001b[0m\u001b[1;33m(\u001b[0m\u001b[1;34m\"List should contain nine numbers\"\u001b[0m\u001b[1;33m)\u001b[0m\u001b[1;33m\u001b[0m\u001b[1;33m\u001b[0m\u001b[0m\n\u001b[0;32m      4\u001b[0m     \u001b[1;32melse\u001b[0m\u001b[1;33m:\u001b[0m\u001b[1;33m\u001b[0m\u001b[1;33m\u001b[0m\u001b[0m\n\u001b[1;32m----> 5\u001b[1;33m         \u001b[0mmean_rows\u001b[0m \u001b[1;33m=\u001b[0m \u001b[1;33m(\u001b[0m\u001b[1;33m[\u001b[0m\u001b[0mls\u001b[0m\u001b[1;33m[\u001b[0m\u001b[1;33m[\u001b[0m\u001b[1;36m0\u001b[0m\u001b[1;33m,\u001b[0m\u001b[1;36m1\u001b[0m\u001b[1;33m,\u001b[0m\u001b[1;36m2\u001b[0m\u001b[1;33m]\u001b[0m\u001b[1;33m]\u001b[0m\u001b[1;33m.\u001b[0m\u001b[0mmean\u001b[0m\u001b[1;33m(\u001b[0m\u001b[1;33m)\u001b[0m\u001b[1;33m,\u001b[0m \u001b[0mls\u001b[0m\u001b[1;33m[\u001b[0m\u001b[1;33m[\u001b[0m\u001b[1;36m3\u001b[0m\u001b[1;33m,\u001b[0m\u001b[1;36m4\u001b[0m\u001b[1;33m,\u001b[0m\u001b[1;36m5\u001b[0m\u001b[1;33m]\u001b[0m\u001b[1;33m]\u001b[0m\u001b[1;33m.\u001b[0m\u001b[0mmean\u001b[0m\u001b[1;33m(\u001b[0m\u001b[1;33m)\u001b[0m\u001b[1;33m,\u001b[0m \u001b[0mls\u001b[0m\u001b[1;33m[\u001b[0m\u001b[1;33m[\u001b[0m\u001b[1;36m6\u001b[0m\u001b[1;33m,\u001b[0m\u001b[1;36m7\u001b[0m\u001b[1;33m,\u001b[0m\u001b[1;36m8\u001b[0m\u001b[1;33m]\u001b[0m\u001b[1;33m]\u001b[0m\u001b[1;33m.\u001b[0m\u001b[0mmean\u001b[0m\u001b[1;33m(\u001b[0m\u001b[1;33m)\u001b[0m\u001b[1;33m]\u001b[0m\u001b[1;33m)\u001b[0m\u001b[1;33m\u001b[0m\u001b[1;33m\u001b[0m\u001b[0m\n\u001b[0m\u001b[0;32m      6\u001b[0m         \u001b[0mmean_columns\u001b[0m \u001b[1;33m=\u001b[0m \u001b[1;33m(\u001b[0m\u001b[1;33m[\u001b[0m\u001b[0mls\u001b[0m\u001b[1;33m[\u001b[0m\u001b[1;33m[\u001b[0m\u001b[1;36m0\u001b[0m\u001b[1;33m,\u001b[0m\u001b[1;36m3\u001b[0m\u001b[1;33m,\u001b[0m\u001b[1;36m6\u001b[0m\u001b[1;33m]\u001b[0m\u001b[1;33m]\u001b[0m\u001b[1;33m.\u001b[0m\u001b[0mmean\u001b[0m\u001b[1;33m(\u001b[0m\u001b[1;33m)\u001b[0m\u001b[1;33m,\u001b[0m \u001b[0mls\u001b[0m\u001b[1;33m[\u001b[0m\u001b[1;33m[\u001b[0m\u001b[1;36m1\u001b[0m\u001b[1;33m,\u001b[0m\u001b[1;36m4\u001b[0m\u001b[1;33m,\u001b[0m\u001b[1;36m7\u001b[0m\u001b[1;33m]\u001b[0m\u001b[1;33m]\u001b[0m\u001b[1;33m.\u001b[0m\u001b[0mmean\u001b[0m\u001b[1;33m(\u001b[0m\u001b[1;33m)\u001b[0m\u001b[1;33m,\u001b[0m \u001b[0mls\u001b[0m\u001b[1;33m[\u001b[0m\u001b[1;33m[\u001b[0m\u001b[1;36m2\u001b[0m\u001b[1;33m,\u001b[0m\u001b[1;36m5\u001b[0m\u001b[1;33m,\u001b[0m\u001b[1;36m8\u001b[0m\u001b[1;33m]\u001b[0m\u001b[1;33m]\u001b[0m\u001b[1;33m.\u001b[0m\u001b[0mmean\u001b[0m\u001b[1;33m(\u001b[0m\u001b[1;33m)\u001b[0m\u001b[1;33m]\u001b[0m\u001b[1;33m)\u001b[0m\u001b[1;33m\u001b[0m\u001b[1;33m\u001b[0m\u001b[0m\n\u001b[0;32m      7\u001b[0m \u001b[1;33m\u001b[0m\u001b[0m\n",
      "\u001b[1;31mTypeError\u001b[0m: list indices must be integers or slices, not list"
     ]
    }
   ],
   "source": [
    "new_calculator(lst)"
   ]
  },
  {
   "cell_type": "code",
   "execution_count": 9,
   "id": "f1e0407f",
   "metadata": {},
   "outputs": [
    {
     "name": "stdout",
     "output_type": "stream",
     "text": [
      "[0, 1, 2, 3, 4, 5, 6, 7, 8]\n",
      "[[0 1 2]\n",
      " [3 4 5]\n",
      " [6 7 8]]\n"
     ]
    }
   ],
   "source": [
    "a = [0,1,2,3,4,5,6,7,8]\n",
    "b = np.array(a).reshape(3, 3)\n",
    "print(a)\n",
    "print(b)"
   ]
  },
  {
   "cell_type": "code",
   "execution_count": 11,
   "id": "409a7e03",
   "metadata": {},
   "outputs": [],
   "source": [
    "def calculate(l):\n",
    "    if len(l) != 9:\n",
    "        raise ValueError(\"List must contain nine numbers\")\n",
    "        \n",
    "    \n",
    "    arr = np.array(l).reshape(3, 3)\n",
    "    \n",
    "    \n",
    "    mean = [list(np.mean(arr, axis=0)), list(np.mean(arr, axis=1)), np.mean(arr)]\n",
    "    variance = [list(np.var(arr, axis=0)), list(np.var(arr, axis=1)), np.var(arr)]\n",
    "    std = [list(np.std(arr, axis=0)), list(np.std(arr, axis=1)), np.std(arr)]\n",
    "    max_val = [list(np.max(arr, axis=0)), list(np.max(arr, axis=1)), np.max(arr)]\n",
    "    min_val = [list(np.min(arr, axis=0)), list(np.min(arr, axis=1)), np.min(arr)]\n",
    "    sum_val = [list(np.sum(arr, axis=0)), list(np.sum(arr, axis=1)), np.sum(arr)]\n",
    "    \n",
    "    \n",
    "    result = {'mean': mean,\n",
    "              'variance': variance,\n",
    "              'standard deviation': std,\n",
    "              'max': max_val,\n",
    "              'min': min_val,\n",
    "              'sum': sum_val}\n",
    "    \n",
    "    return result"
   ]
  },
  {
   "cell_type": "code",
   "execution_count": 12,
   "id": "4bf8e128",
   "metadata": {},
   "outputs": [
    {
     "data": {
      "text/plain": [
       "{'mean': [[3.0, 4.0, 5.0], [1.0, 4.0, 7.0], 4.0],\n",
       " 'variance': [[6.0, 6.0, 6.0],\n",
       "  [0.6666666666666666, 0.6666666666666666, 0.6666666666666666],\n",
       "  6.666666666666667],\n",
       " 'standard deviation': [[2.449489742783178,\n",
       "   2.449489742783178,\n",
       "   2.449489742783178],\n",
       "  [0.816496580927726, 0.816496580927726, 0.816496580927726],\n",
       "  2.581988897471611],\n",
       " 'max': [[6, 7, 8], [2, 5, 8], 8],\n",
       " 'min': [[0, 1, 2], [0, 3, 6], 0],\n",
       " 'sum': [[9, 12, 15], [3, 12, 21], 36]}"
      ]
     },
     "execution_count": 12,
     "metadata": {},
     "output_type": "execute_result"
    }
   ],
   "source": [
    "calculate(a)"
   ]
  },
  {
   "cell_type": "code",
   "execution_count": 13,
   "id": "ca87fb77",
   "metadata": {},
   "outputs": [
    {
     "name": "stdout",
     "output_type": "stream",
     "text": [
      "{'mean': [[3.0, 4.0, 5.0], [1.0, 4.0, 7.0], 4.0], 'variance': [[6.0, 6.0, 6.0], [0.6666666666666666, 0.6666666666666666, 0.6666666666666666], 6.666666666666667], 'standard deviation': [[2.449489742783178, 2.449489742783178, 2.449489742783178], [0.816496580927726, 0.816496580927726, 0.816496580927726], 2.581988897471611], 'max': [[6, 7, 8], [2, 5, 8], 8], 'min': [[0, 1, 2], [0, 3, 6], 0], 'sum': [[9, 12, 15], [3, 12, 21], 36]}\n"
     ]
    }
   ],
   "source": [
    "import numpy as np\n",
    "\n",
    "def calculate(l):\n",
    "    if len(l) != 9:\n",
    "        raise ValueError(\"List must contain nine numbers\")\n",
    "        \n",
    "    \n",
    "    arr = np.array(l).reshape(3, 3)\n",
    "    \n",
    "    \n",
    "    mean = [list(np.mean(arr, axis=0)), list(np.mean(arr, axis=1)), np.mean(arr)]\n",
    "    variance = [list(np.var(arr, axis=0)), list(np.var(arr, axis=1)), np.var(arr)]\n",
    "    std = [list(np.std(arr, axis=0)), list(np.std(arr, axis=1)), np.std(arr)]\n",
    "    max_val = [list(np.max(arr, axis=0)), list(np.max(arr, axis=1)), np.max(arr)]\n",
    "    min_val = [list(np.min(arr, axis=0)), list(np.min(arr, axis=1)), np.min(arr)]\n",
    "    sum_val = [list(np.sum(arr, axis=0)), list(np.sum(arr, axis=1)), np.sum(arr)]\n",
    "    \n",
    "    \n",
    "    result = {'mean': mean,\n",
    "              'variance': variance,\n",
    "              'standard deviation': std,\n",
    "              'max': max_val,\n",
    "              'min': min_val,\n",
    "              'sum': sum_val}\n",
    "    \n",
    "    return result\n",
    "\n",
    "\n",
    "answer = calculate([0,1,2,3,4,5,6,7,8])\n",
    "print(answer)"
   ]
  },
  {
   "cell_type": "code",
   "execution_count": 1,
   "id": "eab5d8f4",
   "metadata": {},
   "outputs": [
    {
     "ename": "TypeError",
     "evalue": "'float' object cannot be interpreted as an integer",
     "output_type": "error",
     "traceback": [
      "\u001b[1;31m---------------------------------------------------------------------------\u001b[0m",
      "\u001b[1;31mTypeError\u001b[0m                                 Traceback (most recent call last)",
      "\u001b[1;32m~\\AppData\\Local\\Temp\\ipykernel_4556\\338010298.py\u001b[0m in \u001b[0;36m<module>\u001b[1;34m\u001b[0m\n\u001b[1;32m----> 1\u001b[1;33m \u001b[1;32mfor\u001b[0m \u001b[0mi\u001b[0m \u001b[1;32min\u001b[0m \u001b[0mrange\u001b[0m\u001b[1;33m(\u001b[0m\u001b[1;36m2.0\u001b[0m\u001b[1;33m)\u001b[0m\u001b[1;33m:\u001b[0m\u001b[1;33m\u001b[0m\u001b[1;33m\u001b[0m\u001b[0m\n\u001b[0m\u001b[0;32m      2\u001b[0m     \u001b[0mprint\u001b[0m\u001b[1;33m(\u001b[0m\u001b[0mi\u001b[0m\u001b[1;33m)\u001b[0m\u001b[1;33m\u001b[0m\u001b[1;33m\u001b[0m\u001b[0m\n",
      "\u001b[1;31mTypeError\u001b[0m: 'float' object cannot be interpreted as an integer"
     ]
    }
   ],
   "source": [
    "for i in range(2.0):\n",
    "    print(i)"
   ]
  },
  {
   "cell_type": "code",
   "execution_count": 2,
   "id": "4aadfa38",
   "metadata": {},
   "outputs": [],
   "source": [
    "for i in '':\n",
    "    print(i)"
   ]
  },
  {
   "cell_type": "code",
   "execution_count": 3,
   "id": "96ae0f57",
   "metadata": {},
   "outputs": [],
   "source": [
    "min = 1"
   ]
  },
  {
   "cell_type": "code",
   "execution_count": 4,
   "id": "b850f2ab",
   "metadata": {},
   "outputs": [
    {
     "data": {
      "text/plain": [
       "1"
      ]
     },
     "execution_count": 4,
     "metadata": {},
     "output_type": "execute_result"
    }
   ],
   "source": [
    "min"
   ]
  },
  {
   "cell_type": "code",
   "execution_count": null,
   "id": "b6c5ad1a",
   "metadata": {},
   "outputs": [],
   "source": []
  }
 ],
 "metadata": {
  "kernelspec": {
   "display_name": "Python 3 (ipykernel)",
   "language": "python",
   "name": "python3"
  },
  "language_info": {
   "codemirror_mode": {
    "name": "ipython",
    "version": 3
   },
   "file_extension": ".py",
   "mimetype": "text/x-python",
   "name": "python",
   "nbconvert_exporter": "python",
   "pygments_lexer": "ipython3",
   "version": "3.10.9"
  }
 },
 "nbformat": 4,
 "nbformat_minor": 5
}
